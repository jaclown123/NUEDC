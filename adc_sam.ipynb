{
 "cells": [
  {
   "cell_type": "code",
   "id": "initial_id",
   "metadata": {
    "ExecuteTime": {
     "end_time": "2024-07-17T12:24:45.193513Z",
     "start_time": "2024-07-17T12:24:45.180323Z"
    }
   },
   "source": [
    "import numpy as py\n",
    "import matplotlib.pyplot as plt\n",
    "from register import serial_init, serial_transmit, serial_receive"
   ],
   "outputs": [],
   "execution_count": 26
  },
  {
   "cell_type": "code",
   "id": "71adb0d51d1b0984",
   "metadata": {
    "ExecuteTime": {
     "end_time": "2024-07-17T12:24:46.102744Z",
     "start_time": "2024-07-17T12:24:46.090522Z"
    }
   },
   "source": [
    "from g474 import *"
   ],
   "outputs": [],
   "execution_count": 27
  },
  {
   "metadata": {
    "ExecuteTime": {
     "end_time": "2024-07-17T12:24:46.607683Z",
     "start_time": "2024-07-17T12:24:46.590074Z"
    }
   },
   "cell_type": "code",
   "source": "TIM1.CCMR1",
   "id": "407387afa10db5c0",
   "outputs": [
    {
     "data": {
      "text/plain": [
       "<IPython.core.display.HTML object>"
      ],
      "text/html": [
       "<style type=\"text/css\">\n",
       "    table.register th {\n",
       "        font-weight: normal;\n",
       "        text-align: center !important;\n",
       "        padding: 2px;\n",
       "    }\n",
       "    table.register td {\n",
       "        text-align: center !important;\n",
       "        border: 1px solid;\n",
       "        word-wrap: break-word;\n",
       "        padding: 2px;\n",
       "    }\n",
       "    .jp-RenderedHTMLCommon tbody tr:nth-child(even) {\n",
       "        background: var(--jp-layout-color0);\n",
       "    }\n",
       "    .jp-RenderedHTMLCommon tbody tr:hover {\n",
       "        background: rgba(0, 0, 0, 0);\n",
       "    }\n",
       "</style>\n",
       "<table class=\"register\" style=\"width:800px\">\n",
       "    <tr>\n",
       "        <th>31</th>\n",
       "        <th>30</th>\n",
       "        <th>29</th>\n",
       "        <th>28</th>\n",
       "        <th>27</th>\n",
       "        <th>26</th>\n",
       "        <th>25</th>\n",
       "        <th>24</th>\n",
       "        <th>23</th>\n",
       "        <th>22</th>\n",
       "        <th>21</th>\n",
       "        <th>20</th>\n",
       "        <th>19</th>\n",
       "        <th>18</th>\n",
       "        <th>17</th>\n",
       "        <th>16</th>\n",
       "    </tr>\n",
       "    <tr>\n",
       "        <td></td>\n",
       "        <td></td>\n",
       "        <td></td>\n",
       "        <td></td>\n",
       "        <td></td>\n",
       "        <td></td>\n",
       "        <td></td>\n",
       "        <td>OC2M[3]</td>\n",
       "        <td></td>\n",
       "        <td></td>\n",
       "        <td></td>\n",
       "        <td></td>\n",
       "        <td></td>\n",
       "        <td></td>\n",
       "        <td></td>\n",
       "        <td>OC1M[3]</td>\n",
       "    </tr>\n",
       "    <tr>\n",
       "        <td>0</td>\n",
       "        <td>0</td>\n",
       "        <td>0</td>\n",
       "        <td>0</td>\n",
       "        <td>0</td>\n",
       "        <td>0</td>\n",
       "        <td>0</td>\n",
       "        <td>0</td>\n",
       "        <td>0</td>\n",
       "        <td>0</td>\n",
       "        <td>0</td>\n",
       "        <td>0</td>\n",
       "        <td>0</td>\n",
       "        <td>0</td>\n",
       "        <td>0</td>\n",
       "        <td>0</td>\n",
       "    <tr>\n",
       "        <th>15</th>\n",
       "        <th>14</th>\n",
       "        <th>13</th>\n",
       "        <th>12</th>\n",
       "        <th>11</th>\n",
       "        <th>10</th>\n",
       "        <th>9</th>\n",
       "        <th>8</th>\n",
       "        <th>7</th>\n",
       "        <th>6</th>\n",
       "        <th>5</th>\n",
       "        <th>4</th>\n",
       "        <th>3</th>\n",
       "        <th>2</th>\n",
       "        <th>1</th>\n",
       "        <th>0</th>\n",
       "    </tr>\n",
       "    <tr>\n",
       "        <td colspan=\"4\">IC2F[3:0]</td>\n",
       "        <td colspan=\"2\">IC2PSC[1:0]</td>\n",
       "        <td colspan=\"2\">CC2S[1:0]</td>\n",
       "        <td colspan=\"4\">IC1F[3:0]</td>\n",
       "        <td colspan=\"2\">IC1PSC[1:0]</td>\n",
       "        <td colspan=\"2\">CC1S[1:0]</td>\n",
       "    </tr>\n",
       "    <tr>\n",
       "        <td>OC2CE</td>\n",
       "        <td colspan=\"3\">OC2M[2:0]</td>\n",
       "        <td>OC2PE</td>\n",
       "        <td>OC2FE</td>\n",
       "        <td></td>\n",
       "        <td></td>\n",
       "        <td>OC1CE</td>\n",
       "        <td colspan=\"3\">OC1M[2:0]</td>\n",
       "        <td>OC1PE</td>\n",
       "        <td>OC1FE</td>\n",
       "        <td></td>\n",
       "        <td></td>\n",
       "    </tr>\n",
       "    <tr>\n",
       "        <td>0</td>\n",
       "        <td>0</td>\n",
       "        <td>0</td>\n",
       "        <td>0</td>\n",
       "        <td>0</td>\n",
       "        <td>0</td>\n",
       "        <td>0</td>\n",
       "        <td>0</td>\n",
       "        <td>0</td>\n",
       "        <td>0</td>\n",
       "        <td>0</td>\n",
       "        <td>0</td>\n",
       "        <td>0</td>\n",
       "        <td>0</td>\n",
       "        <td>0</td>\n",
       "        <td>0</td>\n",
       "    </tr>\n"
      ]
     },
     "metadata": {},
     "output_type": "display_data"
    },
    {
     "data": {
      "text/plain": [
       "DEC: 0, HEX: 0x00000000"
      ]
     },
     "execution_count": 28,
     "metadata": {},
     "output_type": "execute_result"
    }
   ],
   "execution_count": 28
  },
  {
   "cell_type": "code",
   "id": "d59d19f2a05c8ffc",
   "metadata": {
    "ExecuteTime": {
     "end_time": "2024-07-17T12:24:50.313398Z",
     "start_time": "2024-07-17T12:24:50.301075Z"
    }
   },
   "source": [
    "import time\n",
    "\n",
    "def delay(ms):\n",
    "    time.sleep(ms/1000)"
   ],
   "outputs": [],
   "execution_count": 29
  },
  {
   "cell_type": "markdown",
   "id": "6b44cf77d41667fa",
   "metadata": {},
   "source": [
    "与单片机程序配套的GPIO操作"
   ]
  },
  {
   "cell_type": "code",
   "id": "171351e16cccc0af",
   "metadata": {
    "ExecuteTime": {
     "end_time": "2024-07-17T12:24:51.433889Z",
     "start_time": "2024-07-17T12:24:51.423428Z"
    }
   },
   "source": [
    "def gpio(which, level):\n",
    "    if level == 1:\n",
    "        level = \"1\"\n",
    "    else:\n",
    "        level = \"0\"\n",
    "    serial_transmit(\"GPIO:\" + which + \":\" + level)\n",
    "    time.sleep(0.01)"
   ],
   "outputs": [],
   "execution_count": 30
  },
  {
   "cell_type": "code",
   "id": "6d0bf09d5daaaa31",
   "metadata": {
    "ExecuteTime": {
     "end_time": "2024-07-17T12:24:51.894035Z",
     "start_time": "2024-07-17T12:24:51.886730Z"
    }
   },
   "source": [
    "SS_DAC = \"PB9\"\n",
    "SS_595 = \"PB8\""
   ],
   "outputs": [],
   "execution_count": 31
  },
  {
   "cell_type": "markdown",
   "id": "2fa44c625e8b95b5",
   "metadata": {},
   "source": [
    "与单片机程序配套的SPI操作"
   ]
  },
  {
   "cell_type": "code",
   "id": "d56e06af3242da9e",
   "metadata": {
    "ExecuteTime": {
     "end_time": "2024-07-17T12:24:52.394342Z",
     "start_time": "2024-07-17T12:24:52.389094Z"
    }
   },
   "source": [
    "def spi_mode(cpol, cpha):\n",
    "    cpol = \"1\" if cpol==1 else \"0\"\n",
    "    cpha = \"1\" if cpha==1 else \"0\"\n",
    "    serial_transmit(\"SPI:M\" + cpol + cpha)\n",
    "    time.sleep(0.01)"
   ],
   "outputs": [],
   "execution_count": 32
  },
  {
   "cell_type": "code",
   "id": "f5a05dfd6eed29d9",
   "metadata": {
    "ExecuteTime": {
     "end_time": "2024-07-17T12:24:52.666311Z",
     "start_time": "2024-07-17T12:24:52.653161Z"
    }
   },
   "source": [
    "def spi_write(data):\n",
    "    serial_transmit(\"SPI:W\".encode() + bytes(data))\n",
    "    time.sleep(0.01)"
   ],
   "outputs": [],
   "execution_count": 33
  },
  {
   "cell_type": "markdown",
   "id": "2ed734549349c309",
   "metadata": {},
   "source": "DAC128S085指令"
  },
  {
   "cell_type": "code",
   "id": "e4e92ebe9c1684e",
   "metadata": {
    "ExecuteTime": {
     "end_time": "2024-07-17T12:24:53.145792Z",
     "start_time": "2024-07-17T12:24:53.141209Z"
    }
   },
   "source": [
    "DAC_AFE1_OFF1 = 0\n",
    "DAC_AFE1_OFF2 = 1"
   ],
   "outputs": [],
   "execution_count": 34
  },
  {
   "cell_type": "code",
   "id": "fa291a5967d75186",
   "metadata": {
    "ExecuteTime": {
     "end_time": "2024-07-17T12:24:53.435764Z",
     "start_time": "2024-07-17T12:24:53.384916Z"
    }
   },
   "source": [
    "def ldac_init():\n",
    "    spi_mode(0, 1)\n",
    "    gpio(SS_DAC, 0)\n",
    "    spi_write([9*16, 0])\n",
    "    gpio(SS_DAC, 1)\n",
    "\n",
    "ldac_init()"
   ],
   "outputs": [],
   "execution_count": 35
  },
  {
   "cell_type": "code",
   "id": "150ec756dddfa5d",
   "metadata": {
    "ExecuteTime": {
     "end_time": "2024-07-17T12:24:53.680202Z",
     "start_time": "2024-07-17T12:24:53.673121Z"
    }
   },
   "source": [
    "def ldac_set(which, value):\n",
    "    spi_mode(0, 1)\n",
    "    \n",
    "    value = int(value)\n",
    "    cmd = [which * 16 + value // 256, value % 256]\n",
    "    \n",
    "    gpio(SS_DAC, 0)\n",
    "    spi_write(cmd)\n",
    "    gpio(SS_DAC, 1)"
   ],
   "outputs": [],
   "execution_count": 36
  },
  {
   "cell_type": "markdown",
   "id": "d8fc7c44b731f48c",
   "metadata": {},
   "source": [
    "利用74HC595控制模拟开关，从而调整增益"
   ]
  },
  {
   "cell_type": "code",
   "id": "2b7ed0d6cabe90f",
   "metadata": {
    "ExecuteTime": {
     "end_time": "2024-07-17T12:32:50.725987Z",
     "start_time": "2024-07-17T12:32:50.711007Z"
    }
   },
   "source": [
    "hc595_state = 0\n",
    "\n",
    "def hc595_set():\n",
    "    spi_mode(1, 1)\n",
    "    spi_write([0])\n",
    "    gpio(SS_595, 0)\n",
    "    spi_write([hc595_state])\n",
    "    gpio(SS_595, 1)\n",
    "\n",
    "def hc595_afe(value):\n",
    "    value = 7 - value\n",
    "    global hc595_state\n",
    "    hc595_state = (hc595_state & 0xF1) | (value << 1)\n",
    "    hc595_set()"
   ],
   "outputs": [],
   "execution_count": 67
  },
  {
   "cell_type": "code",
   "id": "32e4097a0e17a977",
   "metadata": {
    "ExecuteTime": {
     "end_time": "2024-07-17T12:32:51.139560Z",
     "start_time": "2024-07-17T12:32:51.131105Z"
    }
   },
   "source": [
    "AFEPGA_GAIN_1 = 5\n",
    "AFEPGA_GAIN_2 = 3\n",
    "AFEPGA_GAIN_3 = 7\n",
    "AFEPGA_GAIN_4 = 0\n",
    "AFEPGA_GAIN_5 = 1\n",
    "AFEPGA_GAIN_6 = 6"
   ],
   "outputs": [],
   "execution_count": 68
  },
  {
   "cell_type": "code",
   "id": "9583d658ea21afa5",
   "metadata": {
    "ExecuteTime": {
     "end_time": "2024-07-17T12:32:53.434073Z",
     "start_time": "2024-07-17T12:32:53.421015Z"
    }
   },
   "source": [
    "\n",
    "ADC1.SMPR1"
   ],
   "outputs": [
    {
     "data": {
      "text/plain": [
       "<IPython.core.display.HTML object>"
      ],
      "text/html": [
       "<style type=\"text/css\">\n",
       "    table.register th {\n",
       "        font-weight: normal;\n",
       "        text-align: center !important;\n",
       "        padding: 2px;\n",
       "    }\n",
       "    table.register td {\n",
       "        text-align: center !important;\n",
       "        border: 1px solid;\n",
       "        word-wrap: break-word;\n",
       "        padding: 2px;\n",
       "    }\n",
       "    .jp-RenderedHTMLCommon tbody tr:nth-child(even) {\n",
       "        background: var(--jp-layout-color0);\n",
       "    }\n",
       "    .jp-RenderedHTMLCommon tbody tr:hover {\n",
       "        background: rgba(0, 0, 0, 0);\n",
       "    }\n",
       "</style>\n",
       "<table class=\"register\" style=\"width:800px\">\n",
       "    <tr>\n",
       "        <th>31</th>\n",
       "        <th>30</th>\n",
       "        <th>29</th>\n",
       "        <th>28</th>\n",
       "        <th>27</th>\n",
       "        <th>26</th>\n",
       "        <th>25</th>\n",
       "        <th>24</th>\n",
       "        <th>23</th>\n",
       "        <th>22</th>\n",
       "        <th>21</th>\n",
       "        <th>20</th>\n",
       "        <th>19</th>\n",
       "        <th>18</th>\n",
       "        <th>17</th>\n",
       "        <th>16</th>\n",
       "    </tr>\n",
       "    <tr>\n",
       "        <td>SMPPLUS</td>\n",
       "        <td></td>\n",
       "        <td colspan=\"3\">SMP9[2:0]</td>\n",
       "        <td colspan=\"3\">SMP8[2:0]</td>\n",
       "        <td colspan=\"3\">SMP7[2:0]</td>\n",
       "        <td colspan=\"3\">SMP6[2:0]</td>\n",
       "        <td colspan=\"2\">SMP5[2:1]</td>\n",
       "    </tr>\n",
       "    <tr>\n",
       "        <td>0</td>\n",
       "        <td>0</td>\n",
       "        <td>0</td>\n",
       "        <td>0</td>\n",
       "        <td>0</td>\n",
       "        <td>0</td>\n",
       "        <td>0</td>\n",
       "        <td>0</td>\n",
       "        <td>0</td>\n",
       "        <td>0</td>\n",
       "        <td>0</td>\n",
       "        <td>0</td>\n",
       "        <td>0</td>\n",
       "        <td>0</td>\n",
       "        <td>0</td>\n",
       "        <td>0</td>\n",
       "    <tr>\n",
       "        <th>15</th>\n",
       "        <th>14</th>\n",
       "        <th>13</th>\n",
       "        <th>12</th>\n",
       "        <th>11</th>\n",
       "        <th>10</th>\n",
       "        <th>9</th>\n",
       "        <th>8</th>\n",
       "        <th>7</th>\n",
       "        <th>6</th>\n",
       "        <th>5</th>\n",
       "        <th>4</th>\n",
       "        <th>3</th>\n",
       "        <th>2</th>\n",
       "        <th>1</th>\n",
       "        <th>0</th>\n",
       "    </tr>\n",
       "    <tr>\n",
       "        <td>SMP5[0]</td>\n",
       "        <td colspan=\"3\">SMP4[2:0]</td>\n",
       "        <td colspan=\"3\">SMP3[2:0]</td>\n",
       "        <td colspan=\"3\">SMP2[2:0]</td>\n",
       "        <td colspan=\"3\">SMP1[2:0]</td>\n",
       "        <td colspan=\"3\">SMP0[2:0]</td>\n",
       "    </tr>\n",
       "    <tr>\n",
       "        <td>0</td>\n",
       "        <td>0</td>\n",
       "        <td>0</td>\n",
       "        <td>0</td>\n",
       "        <td>0</td>\n",
       "        <td>0</td>\n",
       "        <td>0</td>\n",
       "        <td>0</td>\n",
       "        <td>0</td>\n",
       "        <td>0</td>\n",
       "        <td>0</td>\n",
       "        <td>0</td>\n",
       "        <td>0</td>\n",
       "        <td>0</td>\n",
       "        <td>0</td>\n",
       "        <td>0</td>\n",
       "    </tr>\n"
      ]
     },
     "metadata": {},
     "output_type": "display_data"
    },
    {
     "data": {
      "text/plain": [
       "DEC: 0, HEX: 0x00000000"
      ]
     },
     "execution_count": 69,
     "metadata": {},
     "output_type": "execute_result"
    }
   ],
   "execution_count": 69
  },
  {
   "cell_type": "code",
   "id": "8c9c90f2605f4b8b",
   "metadata": {
    "ExecuteTime": {
     "end_time": "2024-07-17T12:32:54.330140Z",
     "start_time": "2024-07-17T12:32:54.321490Z"
    }
   },
   "source": [
    "sm_time = [2.5,6.5,12.5,24.5,47.5,92.5,247.5,640.5]\n",
    "sys_clock =150e6\n",
    "def set_sm_time(num):\n",
    "    if num > 7:\n",
    "        return -1\n",
    "    else:\n",
    "        ADC1.SMPR1.SMP6 = num\n",
    "        print (\"Set sample time to \", sm_time[num] * 1 / sys_clock * 10e9, \"us\")\n",
    "        print(\"the total conversion time is\" , (sm_time[num] + 12.5) * 1 / sys_clock * 10e9 , \"us\")\n",
    "    "
   ],
   "outputs": [],
   "execution_count": 70
  },
  {
   "cell_type": "code",
   "id": "1a4be6515ff3146d",
   "metadata": {
    "ExecuteTime": {
     "end_time": "2024-07-17T12:55:01.913567Z",
     "start_time": "2024-07-17T12:55:01.894511Z"
    }
   },
   "source": [
    "def i2c_write(addr, data):\n",
    "    serial_transmit(\"I2C:W\".encode() + bytes([0xC0, addr, data]))\n",
    "    woshou_signal = serial_receive(1)\n",
    "    if woshou_signal[0] == 0:\n",
    "        print(\"I2C write success!\")\n",
    "    else:\n",
    "        print(\"I2C write failed!\")\n",
    "\n",
    "\n",
    "def i2c_read(addr, length):\n",
    "    serial_transmit(\"I2C:W\".encode() + bytes([0xC0, addr]))\n",
    "    woshou_signal = serial_receive(1)\n",
    "    if woshou_signal[0] == 0:\n",
    "        print(\"I2C write success!\")\n",
    "    else:\n",
    "        print(\"I2C write failed!\")\n",
    "        return\n",
    "    length = min(length, 16)\n",
    "    serial_transmit(\"I2C:R\".encode() + bytes([0xC0, length]))\n",
    "    woshou_signal = serial_receive(length + 1)\n",
    "    if woshou_signal[0] == 0:\n",
    "        print(\"I2C read success!\")\n",
    "    else:\n",
    "        print(\"I2C read failed!\")\n",
    "        return\n",
    "    return woshou_signal[1:]"
   ],
   "outputs": [],
   "execution_count": 86
  },
  {
   "metadata": {
    "ExecuteTime": {
     "end_time": "2024-07-17T13:07:41.578425Z",
     "start_time": "2024-07-17T13:07:41.555660Z"
    }
   },
   "cell_type": "code",
   "source": [
    "addr = 0\n",
    "size = 10\n",
    "\n",
    "serial_transmit(\"I2C:W\".encode() + bytes([0xC0, addr]))\n",
    "woshou_signal = serial_receive(1)\n",
    "if woshou_signal[0] == 0:\n",
    "    print(\"I2C write success!\")\n",
    "else:\n",
    "    print(\"I2C write failed!\")\n",
    "print(woshou_signal)"
   ],
   "id": "83da1eee25830762",
   "outputs": [
    {
     "name": "stdout",
     "output_type": "stream",
     "text": [
      "I2C write success!\n",
      "b'\\x00'\n"
     ]
    }
   ],
   "execution_count": 94
  },
  {
   "metadata": {
    "ExecuteTime": {
     "end_time": "2024-07-17T13:07:42.753311Z",
     "start_time": "2024-07-17T13:07:42.740519Z"
    }
   },
   "cell_type": "code",
   "source": [
    "length = 10\n",
    "length = min(length, 16)\n",
    "serial_transmit(\"I2C:R\".encode() + bytes([0xC0, length]))\n",
    "woshou_signal = serial_receive(length + 1)\n",
    "if woshou_signal[0] == 0:\n",
    "    print(\"I2C read success!\")\n",
    "else:\n",
    "    print(\"I2C read failed!\")\n",
    "print(woshou_signal)\n",
    "print(woshou_signal[1:])"
   ],
   "id": "d3f5ea3217174f71",
   "outputs": [
    {
     "name": "stdout",
     "output_type": "stream",
     "text": [
      "I2C read success!\n",
      "b'\\x00a\\xe8\\x00\\x00\\x00\\x00\\x00\\x00\\x00\\x00'\n",
      "b'a\\xe8\\x00\\x00\\x00\\x00\\x00\\x00\\x00\\x00'\n"
     ]
    }
   ],
   "execution_count": 95
  },
  {
   "metadata": {
    "ExecuteTime": {
     "end_time": "2024-07-17T12:55:03.464052Z",
     "start_time": "2024-07-17T12:55:03.454244Z"
    }
   },
   "cell_type": "code",
   "source": "bin(0xe1)",
   "id": "95d35ea4741e3cc",
   "outputs": [
    {
     "data": {
      "text/plain": [
       "'0b11100001'"
      ]
     },
     "execution_count": 89,
     "metadata": {},
     "output_type": "execute_result"
    }
   ],
   "execution_count": 89
  },
  {
   "metadata": {
    "ExecuteTime": {
     "end_time": "2024-07-17T12:55:04.229758Z",
     "start_time": "2024-07-17T12:55:04.190419Z"
    }
   },
   "cell_type": "code",
   "source": [
    "for i, b in enumerate(i2c_read(0, 10)):\n",
    "    print(i, f\"{b:08b}\")"
   ],
   "id": "a633552a7daa70f9",
   "outputs": [
    {
     "name": "stdout",
     "output_type": "stream",
     "text": [
      "I2C write success!\n",
      "I2C read failed!\n"
     ]
    },
    {
     "ename": "TypeError",
     "evalue": "'NoneType' object is not iterable",
     "output_type": "error",
     "traceback": [
      "\u001B[1;31m---------------------------------------------------------------------------\u001B[0m",
      "\u001B[1;31mTypeError\u001B[0m                                 Traceback (most recent call last)",
      "Cell \u001B[1;32mIn[90], line 1\u001B[0m\n\u001B[1;32m----> 1\u001B[0m \u001B[38;5;28;01mfor\u001B[39;00m i, b \u001B[38;5;129;01min\u001B[39;00m \u001B[38;5;28menumerate\u001B[39m(i2c_read(\u001B[38;5;241m0\u001B[39m, \u001B[38;5;241m10\u001B[39m)):\n\u001B[0;32m      2\u001B[0m     \u001B[38;5;28mprint\u001B[39m(i, \u001B[38;5;124mf\u001B[39m\u001B[38;5;124m\"\u001B[39m\u001B[38;5;132;01m{\u001B[39;00mb\u001B[38;5;132;01m:\u001B[39;00m\u001B[38;5;124m08b\u001B[39m\u001B[38;5;132;01m}\u001B[39;00m\u001B[38;5;124m\"\u001B[39m)\n",
      "\u001B[1;31mTypeError\u001B[0m: 'NoneType' object is not iterable"
     ]
    }
   ],
   "execution_count": 90
  },
  {
   "cell_type": "code",
   "id": "f09ac67aeb30920b",
   "metadata": {
    "ExecuteTime": {
     "end_time": "2024-07-17T12:55:05.241722Z",
     "start_time": "2024-07-17T12:55:05.219670Z"
    }
   },
   "source": [
    "set_sm_time(0)\n",
    "#ADC1.SMPR1"
   ],
   "outputs": [
    {
     "name": "stdout",
     "output_type": "stream",
     "text": [
      "Set sample time to  166.66666666666666 us\n",
      "the total conversion time is 1000.0 us\n"
     ]
    }
   ],
   "execution_count": 91
  },
  {
   "cell_type": "code",
   "id": "3c9a7f7da5a19690",
   "metadata": {
    "ExecuteTime": {
     "end_time": "2024-07-17T08:49:49.763717Z",
     "start_time": "2024-07-17T08:49:49.654840Z"
    }
   },
   "source": [
    "ldac_set(DAC_AFE1_OFF2, 500)\n",
    "hc595_afe(AFEPGA_GAIN_3)"
   ],
   "outputs": [],
   "execution_count": 65
  },
  {
   "cell_type": "code",
   "id": "af3323f3da835e5d",
   "metadata": {
    "ExecuteTime": {
     "end_time": "2024-07-17T08:53:01.410177Z",
     "start_time": "2024-07-17T08:53:01.190566Z"
    }
   },
   "source": [
    "#sample = sm_1024()\n",
    "#print(sample)\n",
    "# Assuming serial_init has been called somewhere before to initialize the serial connection\n",
    "\n",
    "def receive_data():\n",
    "        gpio(\"PC0\", 1)\n",
    "        data1 = serial_receive(2050)  # Call the function to receive data\n",
    "        #data2 = serial_receive(1025)  # Call the function to receive data\n",
    "        #if data1 & data2:\n",
    "            # Process the received data\n",
    "        print(\"Received data:\", data1)\n",
    "        #print(\"Received data:\", data2)\n",
    "        gpio(\"PC0\", 0)\n",
    "        return data1\n",
    "\n",
    "# Call the function to start receiving data\n",
    "#serial_init()\n",
    "samp_data = receive_data()"
   ],
   "outputs": [
    {
     "name": "stdout",
     "output_type": "stream",
     "text": [
      "Received data: b't\\x07\\x9f\\x07\\xc6\\x07\\xef\\x07\\x1b\\x08\\\\\\x08\\x8f\\x08\\xc6\\x08\\xfb\\x086\\tr\\t\\xaf\\t\\xef\\t2\\nu\\n\\xba\\n\\xff\\nE\\x0b\\x8b\\x0b\\xcf\\x0b\\x13\\x0cX\\x0c\\x9a\\x0c\\xdb\\x0c\\x1b\\r[\\r\\x9b\\r\\xd5\\r\\r\\x0eC\\x0et\\x0e\\xa3\\x0e\\xcd\\x0e\\xcf\\x0eg\\x0e\\x07\\x0f\\xe1\\x0eA\\x0e/\\x0e\\n\\x0fS\\x0e\\xda\\x0e\\x8d\\x0f\\x87\\x0fv\\x0f\\xa0\\x0e0\\x0e\\n\\x0e\\xcd\\x0e\\xaa\\x0e#\\x0f\\xeb\\x0e\\xc8\\x0e\\xcd\\x0e\\xa4\\x0ev\\x0eC\\x0e\\x0e\\x0e\\xd6\\r\\x9f\\rb\\r$\\r\\xe2\\x0c\\xa0\\x0c[\\x0c\\x17\\x0c\\xd1\\x0b\\x8c\\x0bH\\x0b\\x03\\x0b\\xbf\\n{\\n7\\n\\xf6\\t\\xb3\\tt\\t9\\t\\xfd\\x08\\xc5\\x08\\x91\\x08_\\x080\\x08\\x03\\x08\\xda\\x07\\xa3\\x07\\x83\\x07c\\x07K\\x075\\x07#\\x07\\x17\\x07\\x0f\\x07\\n\\x07\\n\\x07\\x0f\\x07\\x16\\x07#\\x075\\x07I\\x07b\\x07\\x80\\x07\\xa0\\x07\\xc5\\x07\\xef\\x07\\x1d\\x08\\\\\\x08\\x8d\\x08\\xc3\\x08\\xf9\\x084\\to\\t\\xb0\\t\\xf0\\t3\\nx\\n\\xbb\\n\\xff\\nD\\x0b\\x89\\x0b\\xcd\\x0b\\x11\\x0cY\\x0c\\x9a\\x0c\\xdf\\x0c \\r_\\r\\x9b\\r\\xd6\\r\\x0c\\x0eA\\x0et\\x0e\\xa2\\x0e\\xca\\x0e\\xd2\\x0e\\xa8\\x0e]\\x0e\\x18\\x0f\\xc5\\x0ep\\x0eL\\x0e3\\x0e\\x88\\x0e\\x04\\x0e\\x10\\x0e\\xaa\\x0e\\t\\x0ev\\x0e\\x12\\x0eo\\x0eT\\x0e\\x7f\\x0e\\x95\\x0e\\xfa\\x0e\\xc2\\x0e\\xa3\\x0ev\\x0eE\\x0e\\x11\\x0e\\xda\\r\\x9f\\rb\\r\"\\r\\xe0\\x0c\\x9f\\x0c[\\x0c\\x18\\x0c\\xd4\\x0b\\x8e\\x0bH\\x0b\\x04\\x0b\\xc0\\n{\\n6\\n\\xf5\\t\\xb4\\tu\\t8\\t\\xff\\x08\\xc6\\x08\\x92\\x08`\\x08.\\x08\\x03\\x08\\xd9\\x07\\xa3\\x07\\x82\\x07c\\x07J\\x076\\x07&\\x07\\x18\\x07\\x10\\x07\\x0b\\x07\\n\\x07\\x0f\\x07\\x15\\x07#\\x075\\x07J\\x07b\\x07\\x7f\\x07\\xa2\\x07\\xc7\\x07\\xed\\x07\\x1b\\x08Z\\x08\\x8b\\x08\\xc2\\x08\\xfa\\x083\\tq\\t\\xb0\\t\\xf0\\t2\\nw\\n\\xba\\n\\xfd\\nB\\x0b\\x88\\x0b\\xce\\x0b\\x13\\x0cX\\x0c\\x9d\\x0c\\xdf\\x0c\\x1f\\r^\\r\\x9a\\r\\xd2\\r\\x0c\\x0e@\\x0es\\x0e\\xa4\\x0e\\xa2\\x0e\\xe2\\x0e\\xf4\\x0e\\x9d\\x0eq\\x0e\\'\\x0fj\\x0e\\xe4\\x0e\\x16\\x0fC\\x0f\\x0b\\x0e\\xe7\\ri\\x0e\\xd4\\x0e\\x86\\x0e\\xca\\x0ec\\x0eT\\x0e\\x94\\x0e\\x8e\\x0e\\xc9\\x0e\\xbf\\x0e\\xa7\\x0ex\\x0eF\\x0e\\x0f\\x0e\\xd7\\r\\x9c\\r_\\r!\\r\\xe1\\x0c\\x9f\\x0c]\\x0c\\x17\\x0c\\xd5\\x0b\\x8f\\x0bI\\x0b\\x01\\x0b\\xbc\\nz\\n5\\n\\xf5\\t\\xb4\\tv\\t9\\t\\x00\\t\\xc6\\x08\\x90\\x08^\\x08/\\x08\\xff\\x07\\xc7\\x07\\xa2\\x07\\x82\\x07e\\x07K\\x076\\x07$\\x07\\x17\\x07\\x0e\\x07\\t\\x07\\x08\\x07\\r\\x07\\x15\\x07#\\x073\\x07J\\x07d\\x07\\x80\\x07\\xa0\\x07\\xc5\\x07\\xeb\\x07\\x19\\x08X\\x08\\x8d\\x08\\xc2\\x08\\xfa\\x084\\tq\\t\\xb1\\t\\xef\\t1\\nt\\n\\xb9\\n\\xfe\\nC\\x0b\\x8a\\x0b\\xce\\x0b\\x13\\x0cX\\x0c\\x9b\\x0c\\xdd\\x0c\\x1c\\r[\\r\\x97\\r\\xd2\\r\\x0c\\x0eA\\x0es\\x0e\\xa3\\x0e\\xcd\\x0e\\xe9\\x0e\\xa2\\x0e\\xef\\x0e\\x9b\\x0et\\x0e:\\x0e\\t\\x0e0\\x0f\\x10\\x0f5\\x0e\\x89\\x0ef\\x0fz\\x0f\\xcd\\x0ep\\x0e\\x93\\x0e\\x92\\x0e\\xfd\\x0e\\xac\\x0e\\xb2\\x0e\\xc2\\x0e\\xa6\\x0ex\\x0eD\\x0e\\x0e\\x0e\\xd5\\r\\x9b\\r`\\r#\\r\\xe2\\x0c\\x9f\\x0c^\\x0c\\x1a\\x0c\\xd2\\x0b\\x8c\\x0bG\\x0b\\x01\\x0b\\xbd\\nz\\n7\\n\\xf5\\t\\xb5\\tv\\t9\\t\\xfe\\x08\\xc4\\x08\\x8f\\x08\\\\\\x08-\\x08\\x01\\x08\\xda\\x07\\xa5\\x07\\x82\\x07e\\x07K\\x075\\x07$\\x07\\x15\\x07\\r\\x07\\x08\\x07\\x08\\x07\\x0e\\x07\\x16\\x07$\\x075\\x07K\\x07b\\x07~\\x07\\x9f\\x07\\xc4\\x07\\xec\\x07\\x1a\\x08Z\\x08\\x8c\\x08\\xc3\\x08\\xfb\\x084\\tp\\t\\xad\\t\\xef\\t0\\nu\\n\\xbb\\n\\xff\\nC\\x0b\\x89\\x0b\\xcf\\x0b\\x12\\x0cW\\x0c\\x99\\x0c\\xdb\\x0c\\x1b\\rY\\r\\x99\\r\\xd3\\r\\r\\x0eC\\x0et\\x0e\\xa4\\x0e\\xcb\\x0e\\xc3\\x0e\\xc2\\x0e\\x9a\\x0e\\xc7\\x0eu\\x0e~\\x0e;\\x0e\\x11\\x0e\\x8a\\x0e\\x9b\\x0f^\\x0e\\r\\x0e\\'\\x0e\\xb7\\x0e\\xb6\\x0e\\x0c\\x0fW\\x0e\\x99\\x0e\\xff\\x0e\\xc8\\x0e\\xc9\\x0e\\xa5\\x0eu\\x0eB\\x0e\\x0e\\x0e\\xd7\\r\\x9e\\rb\\r$\\r\\xe2\\x0c\\xa0\\x0c^\\x0c\\x17\\x0c\\xd3\\x0b\\x8d\\x0bH\\x0b\\x04\\x0b\\xbf\\n{\\n:\\n\\xf7\\t\\xb5\\tu\\t7\\t\\xfd\\x08\\xc5\\x08\\x91\\x08_\\x080\\x08\\x03\\x08\\xdb\\x07\\xa5\\x07\\x83\\x07e\\x07K\\x075\\x07%\\x07\\x17\\x07\\x10\\x07\\t\\x07\\x0b\\x07\\x0f\\x07\\x18\\x07$\\x074\\x07I\\x07`\\x07~\\x07\\xa1\\x07\\xc6\\x07\\xed\\x07\\x1a\\x08\\\\\\x08\\x8f\\x08\\xc2\\x08\\xf9\\x083\\to\\t\\xae\\t\\xf0\\t2\\nw\\n\\xbc\\n\\xff\\nE\\x0b\\x8a\\x0b\\xce\\x0b\\x11\\x0cW\\x0c\\x9a\\x0c\\xdc\\x0c\\x1e\\r\\\\\\r\\x9b\\r\\xd5\\r\\r\\x0eB\\x0er\\x0e\\xa2\\x0e\\xcd\\x0e\\xd6\\x0e\\xae\\x0e{\\x0e\\xa5\\x0e\\x8d\\x0e\\xb7\\x0eS\\x0e;\\x0e$\\x0f\\xb5\\x0e\\x86\\x0e\\x82\\x0f\\x93\\x0e\\x1b\\x0e\\xec\\x0e\\x06\\x0f\\xa5\\x0e^\\x0e\\x95\\x0e\\xdc\\x0e\\xb2\\x0e\\xa7\\x0ew\\x0eD\\x0e\\x0f\\x0e\\xd7\\r\\x9d\\ra\\r#\\r\\xe3\\x0c\\xa2\\x0c_\\x0c\\x18\\x0c\\xd4\\x0b\\x8f\\x0bI\\x0b\\x03\\x0b\\xbf\\n|\\n8\\n\\xf6\\t\\xb4\\tv\\t:\\t\\xfe\\x08\\xc7\\x08\\x92\\x08]\\x080\\x08\\x03\\x08\\xda\\x07\\xa4\\x07\\x80\\x07c\\x07K\\x077\\x07$\\x07\\x17\\x07\\x10\\x07\\t\\x07\\x0b\\x07\\x0f\\x07\\x18\\x07#\\x074\\x07I\\x07c\\x07\\x80\\x07\\xa1\\x07\\xc7\\x07\\xed\\x07\\x1b\\x08X\\x08\\x8d\\x08\\xc2\\x08\\xfa\\x083\\tq\\t\\xaf\\t\\xf1\\t2\\nu\\n\\xba\\n\\xfe\\nC\\x0b\\x87\\x0b\\xcd\\x0b\\x10\\x0cW\\x0c\\x9a\\x0c\\xdc\\x0c\\x1d\\r\\\\\\r\\x99\\r\\xd3\\r\\x0b\\x0e@\\x0et\\x0e\\xa3\\x0e\\x95\\x0e\\xbb\\x0e\\xb1\\x0ey\\x0e\\xdb\\x0e\\xe1\\x0e\\x88\\x0e\\xe5\\x0e\\xf8\\x0e\\xed\\x0eA\\x0fQ\\x0em\\x0f\\x08\\x0f*\\x0f5\\x0f_\\x0e\\xa6\\x0en\\x0e\\xa2\\x0e\\x01\\x0f\\xac\\x0e\\xa6\\x0ew\\x0eF\\x0e\\x11\\x0e\\xd9\\r\\x9c\\r`\\r \\r\\xe0\\x0c\\x9f\\x0c\\\\\\x0c\\x19\\x0c\\xd4\\x0b\\x8f\\x0bJ\\x0b\\x05\\x0b\\xbe\\n{\\n7\\n\\xf4\\t\\xb4\\tu\\t:\\t\\xff\\x08\\xc7\\x08\\x92\\x08_\\x08/\\x08\\x02\\x08\\xd8\\x07\\xa1\\x07\\x7f\\x07b\\x07K\\x075\\x07$\\x07\\x18\\x07\\x0f\\x07\\n\\x07\\t\\x07\\x0b\\x07\\x15\\x07\"\\x074\\x07H\\x07c\\x07\\x7f\\x07\\xa1\\x07\\xc5\\x07\\xec\\x07\\x17\\x08X\\x08\\x8b\\x08\\xc0\\x08\\xfa\\x085\\tq\\t\\xaf\\t\\xef\\t1\\ns\\n\\xb8\\n\\xfc\\n@\\x0b\\x87\\x0b\\xcd\\x0b\\x12\\x0cY\\x0c\\x9b\\x0c\\xdd\\x0c\\x1c\\rZ\\r\\x97\\r\\xd1\\r\\n\\x0e@\\x0er\\x0e\\xa2\\x0e\\xcd\\x0e\\xd1\\x0e\\xfb\\x0e\\'\\x0e\\xb9\\x0e\\x9a\\x0e\\xa9\\x0e\\x0b\\x0f\\xf0\\x0ew\\x0e\\x16\\x0f\\xb1\\x0e\\xa9\\x0e\\x9a\\x0e@\\x0fd\\x0ex\\x0e\\xa2\\x0e\\xaa\\x0e\\xe4\\x0e\\xcf\\x0e\\xda\\x0e\\xa9\\x0ex\\x0eE\\x0e\\x0e\\x0e\\xd5\\r\\x9b\\r_\\r\"\\r\\xe3\\x0c\\xa0\\x0c`\\x0c\\x1a\\x0c\\xd5\\x0b\\x8e\\x0bG\\x0b\\x01\\x0b\\xbe\\nz\\n8\\n\\xf6\\t\\xb4\\tw\\t9\\t\\xfd\\x08\\xc5\\x08\\x90\\x08]\\x08/\\x08\\x02\\x08\\xd9\\x07\\xa3\\x07\\x83\\x07e\\x07K\\x076\\x07#\\x07\\x15\\x07\\x0e\\x07\\t\\x07\\x08\\x07\\x0c\\x07\\x16\\x07$\\x073\\x07H\\x07c\\x07\\x7f\\x07\\x9f\\x07\\xc4\\x07\\xeb\\x07\\x18\\x08Y\\x08\\x8c\\x08\\xc2\\x08\\xf9\\x085\\to\\t\\xad\\t\\xed\\t/\\nt\\n\\xb8\\n\\xfd\\nC\\x0b\\x88\\x0b\\xcd\\x0b\\x11\\x0cX\\x0c\\x98\\x0c\\xdb\\x0c\\x1c\\r[\\r\\x98\\r\\xd2\\r\\x0c\\x0eA\\x0et\\x0e\\xa2\\x0e\\xcb\\x0e\\x80\\x0e\\xdf\\x0e\\x84\\x0e\\xc5\\x0e\\xaf\\x0e\\xca\\x0eZ\\x0e^\\x0e\\x11\\x0f\\x1b\\x0fk\\x0e4\\x0e\\xa1\\x0e4\\x0f\\x1b\\x0fz\\x0e\\xf5\\x0e\\x9d\\x0e\\xce\\x0e\\xcb\\x0e\\xd4\\x0e\\xa5\\x0ev\\x0eC\\x0e\\x0f\\x0e\\xd6\\r\\x9d\\ra\\r$\\r\\xe3\\x0c\\xa1\\x0c]\\x0c\\x17\\x0c\\xd2\\x0b\\x8c\\x0bI\\x0b\\x04\\x0b\\xbf\\n}\\n:\\n\\xf6\\t\\xb4\\tv\\t8\\t\\xfe\\x08\\xc5\\x08\\x91\\x08^\\x082\\x08\\x04\\x08\\xdb\\x07\\xa4\\x07\\x82\\x07e\\x07I\\x074\\x07%\\x07\\x15\\x07\\x0e\\x07\\x0b\\x07\\x0b\\x07\\x0f\\x07\\x17\\x07\"\\x073\\x07H\\x07a\\x07~\\x07\\x9f\\x07\\xc5\\x07\\xed\\x07\\x1b\\x08Z\\x08\\x8e\\x08\\xc1\\x08\\xf7\\x082\\tp\\t\\xae\\t\\xef\\t2\\nw\\n\\xba\\n\\xff\\nC\\x0b\\x86\\x0b\\xcb\\x0b\\x10\\x0cW\\x0c\\x9a\\x0c\\xdc\\x0c!\\r^\\r\\x99\\r\\xd5\\r\\x0b\\x0e?\\x0er\\x0e\\xa1\\x0e\\xcb\\x0e\\xb1\\x0e\\xca\\x0e\\x84\\x0e\\xc4\\x0e\\xbb\\x0e\\xb8\\x0ei\\x0e<\\x0e\\xc3\\x0ev\\x0f\\xe4\\x0e\\xa3\\x0e\\xf6\\x0e\\x81\\x0ea\\x0ee\\x0e\\xc2\\x0e\\x90\\x0e\\xa9\\x0e\\xbf\\x0e\\xc4\\x0e\\xa7\\x0ew\\x0eG\\x0e\\x11\\x0e\\xda\\r\\xa1\\rc\\r#\\r\\xe2\\x0c\\x9e\\x0c]\\x0c\\x1b\\x0c\\xd4\\x0b\\x91\\x0bJ\\x0b\\x06\\x0b\\xc2\\n|\\n9\\n\\xf5\\t\\xb4\\tv\\t:\\t\\xfe\\x08\\xc8\\x08\\x93\\x08`\\x081\\x08\\x04\\x08\\xd8\\x07\\xa3\\x07\\x82\\x07e\\x07L\\x077\\x07&\\x07\\x19\\x07\\x0f\\x07\\x0b\\x07\\n\\x07\\x0e\\x07\\x16\\x07#\\x074\\x07J\\x07c\\x07\\x81\\x07\\xa2\\x07\\xc5\\x07\\xee\\x07\\x1a\\x08X\\x08\\x8b\\x08\\xc0\\x08\\xf9\\x084\\tt\\t\\xaf\\t\\xf0\\t3\\nu\\n\\xb8\\n\\xfc\\nC\\x0b\\x87\\x0b\\xcc\\x0b\\x13\\x0cY\\x0c\\x9c\\x0c\\xdf\\x0c \\r'\n"
     ]
    }
   ],
   "execution_count": 72
  },
  {
   "metadata": {
    "ExecuteTime": {
     "end_time": "2024-07-17T08:53:02.711141Z",
     "start_time": "2024-07-17T08:53:02.699445Z"
    }
   },
   "cell_type": "code",
   "source": [
    "def make_data(smp):\n",
    "    data = [0] * int ( len(smp) / 2 )\n",
    "    i = 0\n",
    "    while i < int ( len(smp) / 2 ) :\n",
    "        data[i] =  smp[2 * i]   | smp[2 * i + 1] << 8\n",
    "        i = i + 1\n",
    "    return data\n",
    "sm_r_data = make_data(samp_data)\n",
    "print(sm_r_data)"
   ],
   "id": "570902519f146e65",
   "outputs": [
    {
     "name": "stdout",
     "output_type": "stream",
     "text": [
      "[1908, 1951, 1990, 2031, 2075, 2140, 2191, 2246, 2299, 2358, 2418, 2479, 2543, 2610, 2677, 2746, 2815, 2885, 2955, 3023, 3091, 3160, 3226, 3291, 3355, 3419, 3483, 3541, 3597, 3651, 3700, 3747, 3789, 3791, 3687, 3847, 3809, 3649, 3631, 3850, 3667, 3802, 3981, 3975, 3958, 3744, 3632, 3594, 3789, 3754, 3875, 3819, 3784, 3789, 3748, 3702, 3651, 3598, 3542, 3487, 3426, 3364, 3298, 3232, 3163, 3095, 3025, 2956, 2888, 2819, 2751, 2683, 2615, 2550, 2483, 2420, 2361, 2301, 2245, 2193, 2143, 2096, 2051, 2010, 1955, 1923, 1891, 1867, 1845, 1827, 1815, 1807, 1802, 1802, 1807, 1814, 1827, 1845, 1865, 1890, 1920, 1952, 1989, 2031, 2077, 2140, 2189, 2243, 2297, 2356, 2415, 2480, 2544, 2611, 2680, 2747, 2815, 2884, 2953, 3021, 3089, 3161, 3226, 3295, 3360, 3423, 3483, 3542, 3596, 3649, 3700, 3746, 3786, 3794, 3752, 3677, 3864, 3781, 3696, 3660, 3635, 3720, 3588, 3600, 3754, 3593, 3702, 3602, 3695, 3668, 3711, 3733, 3834, 3778, 3747, 3702, 3653, 3601, 3546, 3487, 3426, 3362, 3296, 3231, 3163, 3096, 3028, 2958, 2888, 2820, 2752, 2683, 2614, 2549, 2484, 2421, 2360, 2303, 2246, 2194, 2144, 2094, 2051, 2009, 1955, 1922, 1891, 1866, 1846, 1830, 1816, 1808, 1803, 1802, 1807, 1813, 1827, 1845, 1866, 1890, 1919, 1954, 1991, 2029, 2075, 2138, 2187, 2242, 2298, 2355, 2417, 2480, 2544, 2610, 2679, 2746, 2813, 2882, 2952, 3022, 3091, 3160, 3229, 3295, 3359, 3422, 3482, 3538, 3596, 3648, 3699, 3748, 3746, 3810, 3828, 3741, 3697, 3879, 3690, 3812, 3862, 3907, 3595, 3559, 3689, 3796, 3718, 3786, 3683, 3668, 3732, 3726, 3785, 3775, 3751, 3704, 3654, 3599, 3543, 3484, 3423, 3361, 3297, 3231, 3165, 3095, 3029, 2959, 2889, 2817, 2748, 2682, 2613, 2549, 2484, 2422, 2361, 2304, 2246, 2192, 2142, 2095, 2047, 1991, 1954, 1922, 1893, 1867, 1846, 1828, 1815, 1806, 1801, 1800, 1805, 1813, 1827, 1843, 1866, 1892, 1920, 1952, 1989, 2027, 2073, 2136, 2189, 2242, 2298, 2356, 2417, 2481, 2543, 2609, 2676, 2745, 2814, 2883, 2954, 3022, 3091, 3160, 3227, 3293, 3356, 3419, 3479, 3538, 3596, 3649, 3699, 3747, 3789, 3817, 3746, 3823, 3739, 3700, 3642, 3593, 3888, 3856, 3637, 3721, 3942, 3962, 3789, 3696, 3731, 3730, 3837, 3756, 3762, 3778, 3750, 3704, 3652, 3598, 3541, 3483, 3424, 3363, 3298, 3231, 3166, 3098, 3026, 2956, 2887, 2817, 2749, 2682, 2615, 2549, 2485, 2422, 2361, 2302, 2244, 2191, 2140, 2093, 2049, 2010, 1957, 1922, 1893, 1867, 1845, 1828, 1813, 1805, 1800, 1800, 1806, 1814, 1828, 1845, 1867, 1890, 1918, 1951, 1988, 2028, 2074, 2138, 2188, 2243, 2299, 2356, 2416, 2477, 2543, 2608, 2677, 2747, 2815, 2883, 2953, 3023, 3090, 3159, 3225, 3291, 3355, 3417, 3481, 3539, 3597, 3651, 3700, 3748, 3787, 3779, 3778, 3738, 3783, 3701, 3710, 3643, 3601, 3722, 3995, 3678, 3597, 3623, 3767, 3766, 3852, 3671, 3737, 3839, 3784, 3785, 3749, 3701, 3650, 3598, 3543, 3486, 3426, 3364, 3298, 3232, 3166, 3095, 3027, 2957, 2888, 2820, 2751, 2683, 2618, 2551, 2485, 2421, 2359, 2301, 2245, 2193, 2143, 2096, 2051, 2011, 1957, 1923, 1893, 1867, 1845, 1829, 1815, 1808, 1801, 1803, 1807, 1816, 1828, 1844, 1865, 1888, 1918, 1953, 1990, 2029, 2074, 2140, 2191, 2242, 2297, 2355, 2415, 2478, 2544, 2610, 2679, 2748, 2815, 2885, 2954, 3022, 3089, 3159, 3226, 3292, 3358, 3420, 3483, 3541, 3597, 3650, 3698, 3746, 3789, 3798, 3758, 3707, 3749, 3725, 3767, 3667, 3643, 3876, 3765, 3718, 3970, 3731, 3611, 3820, 3846, 3749, 3678, 3733, 3804, 3762, 3751, 3703, 3652, 3599, 3543, 3485, 3425, 3363, 3299, 3234, 3167, 3096, 3028, 2959, 2889, 2819, 2751, 2684, 2616, 2550, 2484, 2422, 2362, 2302, 2247, 2194, 2141, 2096, 2051, 2010, 1956, 1920, 1891, 1867, 1847, 1828, 1815, 1808, 1801, 1803, 1807, 1816, 1827, 1844, 1865, 1891, 1920, 1953, 1991, 2029, 2075, 2136, 2189, 2242, 2298, 2355, 2417, 2479, 2545, 2610, 2677, 2746, 2814, 2883, 2951, 3021, 3088, 3159, 3226, 3292, 3357, 3420, 3481, 3539, 3595, 3648, 3700, 3747, 3733, 3771, 3761, 3705, 3803, 3809, 3720, 3813, 3832, 3821, 3905, 3665, 3949, 3848, 3882, 3893, 3679, 3750, 3694, 3746, 3841, 3756, 3750, 3703, 3654, 3601, 3545, 3484, 3424, 3360, 3296, 3231, 3164, 3097, 3028, 2959, 2890, 2821, 2750, 2683, 2615, 2548, 2484, 2421, 2362, 2303, 2247, 2194, 2143, 2095, 2050, 2008, 1953, 1919, 1890, 1867, 1845, 1828, 1816, 1807, 1802, 1801, 1803, 1813, 1826, 1844, 1864, 1891, 1919, 1953, 1989, 2028, 2071, 2136, 2187, 2240, 2298, 2357, 2417, 2479, 2543, 2609, 2675, 2744, 2812, 2880, 2951, 3021, 3090, 3161, 3227, 3293, 3356, 3418, 3479, 3537, 3594, 3648, 3698, 3746, 3789, 3793, 3835, 3623, 3769, 3738, 3753, 3851, 3824, 3703, 3862, 3761, 3753, 3738, 3904, 3684, 3704, 3746, 3754, 3812, 3791, 3802, 3753, 3704, 3653, 3598, 3541, 3483, 3423, 3362, 3299, 3232, 3168, 3098, 3029, 2958, 2887, 2817, 2750, 2682, 2616, 2550, 2484, 2423, 2361, 2301, 2245, 2192, 2141, 2095, 2050, 2009, 1955, 1923, 1893, 1867, 1846, 1827, 1813, 1806, 1801, 1800, 1804, 1814, 1828, 1843, 1864, 1891, 1919, 1951, 1988, 2027, 2072, 2137, 2188, 2242, 2297, 2357, 2415, 2477, 2541, 2607, 2676, 2744, 2813, 2883, 2952, 3021, 3089, 3160, 3224, 3291, 3356, 3419, 3480, 3538, 3596, 3649, 3700, 3746, 3787, 3712, 3807, 3716, 3781, 3759, 3786, 3674, 3678, 3857, 3867, 3691, 3636, 3745, 3892, 3867, 3706, 3829, 3741, 3790, 3787, 3796, 3749, 3702, 3651, 3599, 3542, 3485, 3425, 3364, 3299, 3233, 3165, 3095, 3026, 2956, 2889, 2820, 2751, 2685, 2618, 2550, 2484, 2422, 2360, 2302, 2245, 2193, 2142, 2098, 2052, 2011, 1956, 1922, 1893, 1865, 1844, 1829, 1813, 1806, 1803, 1803, 1807, 1815, 1826, 1843, 1864, 1889, 1918, 1951, 1989, 2029, 2075, 2138, 2190, 2241, 2295, 2354, 2416, 2478, 2543, 2610, 2679, 2746, 2815, 2883, 2950, 3019, 3088, 3159, 3226, 3292, 3361, 3422, 3481, 3541, 3595, 3647, 3698, 3745, 3787, 3761, 3786, 3716, 3780, 3771, 3768, 3689, 3644, 3779, 3958, 3812, 3747, 3830, 3713, 3681, 3685, 3778, 3728, 3753, 3775, 3780, 3751, 3703, 3655, 3601, 3546, 3489, 3427, 3363, 3298, 3230, 3165, 3099, 3028, 2961, 2890, 2822, 2754, 2684, 2617, 2549, 2484, 2422, 2362, 2302, 2248, 2195, 2144, 2097, 2052, 2008, 1955, 1922, 1893, 1868, 1847, 1830, 1817, 1807, 1803, 1802, 1806, 1814, 1827, 1844, 1866, 1891, 1921, 1954, 1989, 2030, 2074, 2136, 2187, 2240, 2297, 2356, 2420, 2479, 2544, 2611, 2677, 2744, 2812, 2883, 2951, 3020, 3091, 3161, 3228, 3295, 3360]\n"
     ]
    }
   ],
   "execution_count": 73
  },
  {
   "cell_type": "code",
   "id": "e7893af09f860984",
   "metadata": {
    "ExecuteTime": {
     "end_time": "2024-07-17T08:53:03.853540Z",
     "start_time": "2024-07-17T08:53:03.690896Z"
    }
   },
   "source": [
    "plt.figure(figsize=(10, 6))  # 创建一个新的图形，设置大小为10x6\n",
    "plt.plot(sm_r_data)  # 使用plot函数绘制折线图\n",
    "plt.title('Sample Values')  # 设置图形的标题\n",
    "plt.xlabel('Sample Number')  # 设置x轴的标签\n",
    "plt.ylabel('Sample Value')  # 设置y轴的标签\n",
    "plt.grid(True)  # 显示网格\n",
    "plt.show()  # 显示图形"
   ],
   "outputs": [
    {
     "data": {
      "text/plain": [
       "<Figure size 1000x600 with 1 Axes>"
      ],
      "image/png": "[encoded data removed]"
     },
     "metadata": {},
     "output_type": "display_data"
    }
   ],
   "execution_count": 74
  },
  {
   "cell_type": "code",
   "id": "25fcce29-b20a-472d-a3f9-5792ea0693a6",
   "metadata": {
    "ExecuteTime": {
     "end_time": "2024-07-17T08:45:36.244706Z",
     "start_time": "2024-07-17T08:45:36.240079Z"
    }
   },
   "source": [],
   "outputs": [],
   "execution_count": 46
  }
 ],
 "metadata": {
  "kernelspec": {
   "display_name": "Python 3 (ipykernel)",
   "language": "python",
   "name": "python3"
  },
  "language_info": {
   "codemirror_mode": {
    "name": "ipython",
    "version": 3
   },
   "file_extension": ".py",
   "mimetype": "text/x-python",
   "name": "python",
   "nbconvert_exporter": "python",
   "pygments_lexer": "ipython3",
   "version": "3.11.7"
  }
 },
 "nbformat": 4,
 "nbformat_minor": 5
}
