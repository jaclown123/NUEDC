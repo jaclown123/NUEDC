{
 "cells": [
  {
   "cell_type": "code",
   "id": "initial_id",
   "metadata": {
    "collapsed": true,
    "ExecuteTime": {
     "end_time": "2024-07-03T11:21:49.366300Z",
     "start_time": "2024-07-03T11:21:49.265039Z"
    }
   },
   "source": "from g474 import *",
   "outputs": [
    {
     "name": "stdout",
     "output_type": "stream",
     "text": [
      "COM15: STMicroelectronics STLink Virtual COM Port (COM15) [USB VID:PID=0483:374B SER=066CFF3530454D3043032340 LOCATION=1-2:x.2]\n"
     ]
    }
   ],
   "execution_count": 1
  },
  {
   "metadata": {
    "ExecuteTime": {
     "end_time": "2024-07-03T11:21:51.106069Z",
     "start_time": "2024-07-03T11:21:51.093266Z"
    }
   },
   "cell_type": "code",
   "source": "RCC.AHB2ENR",
   "id": "3fa7e58ddf77910a",
   "outputs": [
    {
     "data": {
      "text/plain": [
       "<IPython.core.display.HTML object>"
      ],
      "text/html": [
       "<style type=\"text/css\">\n",
       "    table.register th {\n",
       "        font-weight: normal;\n",
       "        text-align: center !important;\n",
       "        padding: 2px;\n",
       "    }\n",
       "    table.register td {\n",
       "        text-align: center !important;\n",
       "        border: 1px solid;\n",
       "        word-wrap: break-word;\n",
       "        padding: 2px;\n",
       "    }\n",
       "    .jp-RenderedHTMLCommon tbody tr:nth-child(even) {\n",
       "        background: var(--jp-layout-color0);\n",
       "    }\n",
       "    .jp-RenderedHTMLCommon tbody tr:hover {\n",
       "        background: rgba(0, 0, 0, 0);\n",
       "    }\n",
       "</style>\n",
       "<table class=\"register\" style=\"width:800px\">\n",
       "    <tr>\n",
       "        <th>31</th>\n",
       "        <th>30</th>\n",
       "        <th>29</th>\n",
       "        <th>28</th>\n",
       "        <th>27</th>\n",
       "        <th>26</th>\n",
       "        <th>25</th>\n",
       "        <th>24</th>\n",
       "        <th>23</th>\n",
       "        <th>22</th>\n",
       "        <th>21</th>\n",
       "        <th>20</th>\n",
       "        <th>19</th>\n",
       "        <th>18</th>\n",
       "        <th>17</th>\n",
       "        <th>16</th>\n",
       "    </tr>\n",
       "    <tr>\n",
       "        <td></td>\n",
       "        <td></td>\n",
       "        <td></td>\n",
       "        <td></td>\n",
       "        <td></td>\n",
       "        <td>RNGEN</td>\n",
       "        <td></td>\n",
       "        <td></td>\n",
       "        <td></td>\n",
       "        <td></td>\n",
       "        <td></td>\n",
       "        <td></td>\n",
       "        <td>DAC4EN</td>\n",
       "        <td>DAC3EN</td>\n",
       "        <td>DAC2EN</td>\n",
       "        <td>DAC1EN</td>\n",
       "    </tr>\n",
       "    <tr>\n",
       "        <td>0</td>\n",
       "        <td>0</td>\n",
       "        <td>0</td>\n",
       "        <td>0</td>\n",
       "        <td>0</td>\n",
       "        <td>0</td>\n",
       "        <td>0</td>\n",
       "        <td>0</td>\n",
       "        <td>0</td>\n",
       "        <td>0</td>\n",
       "        <td>0</td>\n",
       "        <td>0</td>\n",
       "        <td>0</td>\n",
       "        <td>0</td>\n",
       "        <td>0</td>\n",
       "        <td>0</td>\n",
       "    <tr>\n",
       "        <th>15</th>\n",
       "        <th>14</th>\n",
       "        <th>13</th>\n",
       "        <th>12</th>\n",
       "        <th>11</th>\n",
       "        <th>10</th>\n",
       "        <th>9</th>\n",
       "        <th>8</th>\n",
       "        <th>7</th>\n",
       "        <th>6</th>\n",
       "        <th>5</th>\n",
       "        <th>4</th>\n",
       "        <th>3</th>\n",
       "        <th>2</th>\n",
       "        <th>1</th>\n",
       "        <th>0</th>\n",
       "    </tr>\n",
       "    <tr>\n",
       "        <td></td>\n",
       "        <td>ADC345EN</td>\n",
       "        <td>ADC12EN</td>\n",
       "        <td></td>\n",
       "        <td></td>\n",
       "        <td></td>\n",
       "        <td></td>\n",
       "        <td></td>\n",
       "        <td></td>\n",
       "        <td>GPIOGEN</td>\n",
       "        <td>GPIOFEN</td>\n",
       "        <td>GPIOEEN</td>\n",
       "        <td>GPIODEN</td>\n",
       "        <td>GPIOCEN</td>\n",
       "        <td>GPIOBEN</td>\n",
       "        <td>GPIOAEN</td>\n",
       "    </tr>\n",
       "    <tr>\n",
       "        <td>0</td>\n",
       "        <td>0</td>\n",
       "        <td>0</td>\n",
       "        <td>0</td>\n",
       "        <td>0</td>\n",
       "        <td>0</td>\n",
       "        <td>0</td>\n",
       "        <td>0</td>\n",
       "        <td>0</td>\n",
       "        <td>0</td>\n",
       "        <td>1</td>\n",
       "        <td>0</td>\n",
       "        <td>0</td>\n",
       "        <td>0</td>\n",
       "        <td>1</td>\n",
       "        <td>1</td>\n",
       "    </tr>\n"
      ]
     },
     "metadata": {},
     "output_type": "display_data"
    },
    {
     "data": {
      "text/plain": [
       "DEC: 35, HEX: 0x00000023"
      ]
     },
     "execution_count": 2,
     "metadata": {},
     "output_type": "execute_result"
    }
   ],
   "execution_count": 2
  },
  {
   "metadata": {
    "ExecuteTime": {
     "end_time": "2024-07-03T11:21:53.041507Z",
     "start_time": "2024-07-03T11:21:53.036853Z"
    }
   },
   "cell_type": "code",
   "source": "RCC.AHB2ENR.GPIOAEN = 1",
   "id": "7821b307f698a99f",
   "outputs": [],
   "execution_count": 3
  },
  {
   "metadata": {
    "ExecuteTime": {
     "end_time": "2024-07-03T11:21:53.849121Z",
     "start_time": "2024-07-03T11:21:53.842613Z"
    }
   },
   "cell_type": "code",
   "source": "RCC.AHB2ENR.GPIOBEN = 1",
   "id": "d703d5d69141b744",
   "outputs": [],
   "execution_count": 4
  },
  {
   "metadata": {
    "ExecuteTime": {
     "end_time": "2024-07-03T11:21:58.059465Z",
     "start_time": "2024-07-03T11:21:58.049264Z"
    }
   },
   "cell_type": "code",
   "source": "RCC.AHB2ENR",
   "id": "3f24ffa919ad6283",
   "outputs": [
    {
     "data": {
      "text/plain": [
       "<IPython.core.display.HTML object>"
      ],
      "text/html": [
       "<style type=\"text/css\">\n",
       "    table.register th {\n",
       "        font-weight: normal;\n",
       "        text-align: center !important;\n",
       "        padding: 2px;\n",
       "    }\n",
       "    table.register td {\n",
       "        text-align: center !important;\n",
       "        border: 1px solid;\n",
       "        word-wrap: break-word;\n",
       "        padding: 2px;\n",
       "    }\n",
       "    .jp-RenderedHTMLCommon tbody tr:nth-child(even) {\n",
       "        background: var(--jp-layout-color0);\n",
       "    }\n",
       "    .jp-RenderedHTMLCommon tbody tr:hover {\n",
       "        background: rgba(0, 0, 0, 0);\n",
       "    }\n",
       "</style>\n",
       "<table class=\"register\" style=\"width:800px\">\n",
       "    <tr>\n",
       "        <th>31</th>\n",
       "        <th>30</th>\n",
       "        <th>29</th>\n",
       "        <th>28</th>\n",
       "        <th>27</th>\n",
       "        <th>26</th>\n",
       "        <th>25</th>\n",
       "        <th>24</th>\n",
       "        <th>23</th>\n",
       "        <th>22</th>\n",
       "        <th>21</th>\n",
       "        <th>20</th>\n",
       "        <th>19</th>\n",
       "        <th>18</th>\n",
       "        <th>17</th>\n",
       "        <th>16</th>\n",
       "    </tr>\n",
       "    <tr>\n",
       "        <td></td>\n",
       "        <td></td>\n",
       "        <td></td>\n",
       "        <td></td>\n",
       "        <td></td>\n",
       "        <td>RNGEN</td>\n",
       "        <td></td>\n",
       "        <td></td>\n",
       "        <td></td>\n",
       "        <td></td>\n",
       "        <td></td>\n",
       "        <td></td>\n",
       "        <td>DAC4EN</td>\n",
       "        <td>DAC3EN</td>\n",
       "        <td>DAC2EN</td>\n",
       "        <td>DAC1EN</td>\n",
       "    </tr>\n",
       "    <tr>\n",
       "        <td>0</td>\n",
       "        <td>0</td>\n",
       "        <td>0</td>\n",
       "        <td>0</td>\n",
       "        <td>0</td>\n",
       "        <td>0</td>\n",
       "        <td>0</td>\n",
       "        <td>0</td>\n",
       "        <td>0</td>\n",
       "        <td>0</td>\n",
       "        <td>0</td>\n",
       "        <td>0</td>\n",
       "        <td>0</td>\n",
       "        <td>0</td>\n",
       "        <td>0</td>\n",
       "        <td>0</td>\n",
       "    <tr>\n",
       "        <th>15</th>\n",
       "        <th>14</th>\n",
       "        <th>13</th>\n",
       "        <th>12</th>\n",
       "        <th>11</th>\n",
       "        <th>10</th>\n",
       "        <th>9</th>\n",
       "        <th>8</th>\n",
       "        <th>7</th>\n",
       "        <th>6</th>\n",
       "        <th>5</th>\n",
       "        <th>4</th>\n",
       "        <th>3</th>\n",
       "        <th>2</th>\n",
       "        <th>1</th>\n",
       "        <th>0</th>\n",
       "    </tr>\n",
       "    <tr>\n",
       "        <td></td>\n",
       "        <td>ADC345EN</td>\n",
       "        <td>ADC12EN</td>\n",
       "        <td></td>\n",
       "        <td></td>\n",
       "        <td></td>\n",
       "        <td></td>\n",
       "        <td></td>\n",
       "        <td></td>\n",
       "        <td>GPIOGEN</td>\n",
       "        <td>GPIOFEN</td>\n",
       "        <td>GPIOEEN</td>\n",
       "        <td>GPIODEN</td>\n",
       "        <td>GPIOCEN</td>\n",
       "        <td>GPIOBEN</td>\n",
       "        <td>GPIOAEN</td>\n",
       "    </tr>\n",
       "    <tr>\n",
       "        <td>0</td>\n",
       "        <td>0</td>\n",
       "        <td>0</td>\n",
       "        <td>0</td>\n",
       "        <td>0</td>\n",
       "        <td>0</td>\n",
       "        <td>0</td>\n",
       "        <td>0</td>\n",
       "        <td>0</td>\n",
       "        <td>0</td>\n",
       "        <td>1</td>\n",
       "        <td>0</td>\n",
       "        <td>0</td>\n",
       "        <td>0</td>\n",
       "        <td>1</td>\n",
       "        <td>1</td>\n",
       "    </tr>\n"
      ]
     },
     "metadata": {},
     "output_type": "display_data"
    },
    {
     "data": {
      "text/plain": [
       "DEC: 35, HEX: 0x00000023"
      ]
     },
     "execution_count": 5,
     "metadata": {},
     "output_type": "execute_result"
    }
   ],
   "execution_count": 5
  },
  {
   "metadata": {
    "ExecuteTime": {
     "end_time": "2024-07-03T11:21:59.667048Z",
     "start_time": "2024-07-03T11:21:59.655222Z"
    }
   },
   "cell_type": "code",
   "source": "RCC.APB1ENR1",
   "id": "3d497c9c78ffe446",
   "outputs": [
    {
     "data": {
      "text/plain": [
       "<IPython.core.display.HTML object>"
      ],
      "text/html": [
       "<style type=\"text/css\">\n",
       "    table.register th {\n",
       "        font-weight: normal;\n",
       "        text-align: center !important;\n",
       "        padding: 2px;\n",
       "    }\n",
       "    table.register td {\n",
       "        text-align: center !important;\n",
       "        border: 1px solid;\n",
       "        word-wrap: break-word;\n",
       "        padding: 2px;\n",
       "    }\n",
       "    .jp-RenderedHTMLCommon tbody tr:nth-child(even) {\n",
       "        background: var(--jp-layout-color0);\n",
       "    }\n",
       "    .jp-RenderedHTMLCommon tbody tr:hover {\n",
       "        background: rgba(0, 0, 0, 0);\n",
       "    }\n",
       "</style>\n",
       "<table class=\"register\" style=\"width:800px\">\n",
       "    <tr>\n",
       "        <th>31</th>\n",
       "        <th>30</th>\n",
       "        <th>29</th>\n",
       "        <th>28</th>\n",
       "        <th>27</th>\n",
       "        <th>26</th>\n",
       "        <th>25</th>\n",
       "        <th>24</th>\n",
       "        <th>23</th>\n",
       "        <th>22</th>\n",
       "        <th>21</th>\n",
       "        <th>20</th>\n",
       "        <th>19</th>\n",
       "        <th>18</th>\n",
       "        <th>17</th>\n",
       "        <th>16</th>\n",
       "    </tr>\n",
       "    <tr>\n",
       "        <td>LPTIM1EN</td>\n",
       "        <td>I2C3EN</td>\n",
       "        <td></td>\n",
       "        <td>PWREN</td>\n",
       "        <td></td>\n",
       "        <td></td>\n",
       "        <td>FDCANEN</td>\n",
       "        <td></td>\n",
       "        <td>USBEN</td>\n",
       "        <td>I2C2EN</td>\n",
       "        <td>I2C1EN</td>\n",
       "        <td>UART5EN</td>\n",
       "        <td>UART4EN</td>\n",
       "        <td>USART3EN</td>\n",
       "        <td>USART2EN</td>\n",
       "        <td></td>\n",
       "    </tr>\n",
       "    <tr>\n",
       "        <td>0</td>\n",
       "        <td>0</td>\n",
       "        <td>0</td>\n",
       "        <td>1</td>\n",
       "        <td>0</td>\n",
       "        <td>0</td>\n",
       "        <td>0</td>\n",
       "        <td>0</td>\n",
       "        <td>0</td>\n",
       "        <td>0</td>\n",
       "        <td>0</td>\n",
       "        <td>0</td>\n",
       "        <td>0</td>\n",
       "        <td>0</td>\n",
       "        <td>1</td>\n",
       "        <td>0</td>\n",
       "    <tr>\n",
       "        <th>15</th>\n",
       "        <th>14</th>\n",
       "        <th>13</th>\n",
       "        <th>12</th>\n",
       "        <th>11</th>\n",
       "        <th>10</th>\n",
       "        <th>9</th>\n",
       "        <th>8</th>\n",
       "        <th>7</th>\n",
       "        <th>6</th>\n",
       "        <th>5</th>\n",
       "        <th>4</th>\n",
       "        <th>3</th>\n",
       "        <th>2</th>\n",
       "        <th>1</th>\n",
       "        <th>0</th>\n",
       "    </tr>\n",
       "    <tr>\n",
       "        <td>SPI3EN</td>\n",
       "        <td>SPI2EN</td>\n",
       "        <td></td>\n",
       "        <td></td>\n",
       "        <td>WWDGEN</td>\n",
       "        <td>RTCAPBEN</td>\n",
       "        <td></td>\n",
       "        <td>CRSEN</td>\n",
       "        <td></td>\n",
       "        <td></td>\n",
       "        <td>TIM7EN</td>\n",
       "        <td>TIM6EN</td>\n",
       "        <td>TIM5EN</td>\n",
       "        <td>TIM4EN</td>\n",
       "        <td>TIM3EN</td>\n",
       "        <td>TIM2EN</td>\n",
       "    </tr>\n",
       "    <tr>\n",
       "        <td>0</td>\n",
       "        <td>0</td>\n",
       "        <td>0</td>\n",
       "        <td>0</td>\n",
       "        <td>0</td>\n",
       "        <td>1</td>\n",
       "        <td>0</td>\n",
       "        <td>0</td>\n",
       "        <td>0</td>\n",
       "        <td>0</td>\n",
       "        <td>0</td>\n",
       "        <td>0</td>\n",
       "        <td>0</td>\n",
       "        <td>0</td>\n",
       "        <td>0</td>\n",
       "        <td>0</td>\n",
       "    </tr>\n"
      ]
     },
     "metadata": {},
     "output_type": "display_data"
    },
    {
     "data": {
      "text/plain": [
       "DEC: 268567552, HEX: 0x10020400"
      ]
     },
     "execution_count": 6,
     "metadata": {},
     "output_type": "execute_result"
    }
   ],
   "execution_count": 6
  },
  {
   "metadata": {
    "ExecuteTime": {
     "end_time": "2024-07-03T11:22:00.662453Z",
     "start_time": "2024-07-03T11:22:00.656992Z"
    }
   },
   "cell_type": "code",
   "source": "RCC.APB1ENR1.TIM5EN = 1",
   "id": "bfdc9ba2aee57f3b",
   "outputs": [],
   "execution_count": 7
  },
  {
   "metadata": {
    "ExecuteTime": {
     "end_time": "2024-07-03T11:22:00.854474Z",
     "start_time": "2024-07-03T11:22:00.839986Z"
    }
   },
   "cell_type": "code",
   "source": "RCC.APB1ENR1",
   "id": "6c392707a655d4b6",
   "outputs": [
    {
     "data": {
      "text/plain": [
       "<IPython.core.display.HTML object>"
      ],
      "text/html": [
       "<style type=\"text/css\">\n",
       "    table.register th {\n",
       "        font-weight: normal;\n",
       "        text-align: center !important;\n",
       "        padding: 2px;\n",
       "    }\n",
       "    table.register td {\n",
       "        text-align: center !important;\n",
       "        border: 1px solid;\n",
       "        word-wrap: break-word;\n",
       "        padding: 2px;\n",
       "    }\n",
       "    .jp-RenderedHTMLCommon tbody tr:nth-child(even) {\n",
       "        background: var(--jp-layout-color0);\n",
       "    }\n",
       "    .jp-RenderedHTMLCommon tbody tr:hover {\n",
       "        background: rgba(0, 0, 0, 0);\n",
       "    }\n",
       "</style>\n",
       "<table class=\"register\" style=\"width:800px\">\n",
       "    <tr>\n",
       "        <th>31</th>\n",
       "        <th>30</th>\n",
       "        <th>29</th>\n",
       "        <th>28</th>\n",
       "        <th>27</th>\n",
       "        <th>26</th>\n",
       "        <th>25</th>\n",
       "        <th>24</th>\n",
       "        <th>23</th>\n",
       "        <th>22</th>\n",
       "        <th>21</th>\n",
       "        <th>20</th>\n",
       "        <th>19</th>\n",
       "        <th>18</th>\n",
       "        <th>17</th>\n",
       "        <th>16</th>\n",
       "    </tr>\n",
       "    <tr>\n",
       "        <td>LPTIM1EN</td>\n",
       "        <td>I2C3EN</td>\n",
       "        <td></td>\n",
       "        <td>PWREN</td>\n",
       "        <td></td>\n",
       "        <td></td>\n",
       "        <td>FDCANEN</td>\n",
       "        <td></td>\n",
       "        <td>USBEN</td>\n",
       "        <td>I2C2EN</td>\n",
       "        <td>I2C1EN</td>\n",
       "        <td>UART5EN</td>\n",
       "        <td>UART4EN</td>\n",
       "        <td>USART3EN</td>\n",
       "        <td>USART2EN</td>\n",
       "        <td></td>\n",
       "    </tr>\n",
       "    <tr>\n",
       "        <td>0</td>\n",
       "        <td>0</td>\n",
       "        <td>0</td>\n",
       "        <td>1</td>\n",
       "        <td>0</td>\n",
       "        <td>0</td>\n",
       "        <td>0</td>\n",
       "        <td>0</td>\n",
       "        <td>0</td>\n",
       "        <td>0</td>\n",
       "        <td>0</td>\n",
       "        <td>0</td>\n",
       "        <td>0</td>\n",
       "        <td>0</td>\n",
       "        <td>1</td>\n",
       "        <td>0</td>\n",
       "    <tr>\n",
       "        <th>15</th>\n",
       "        <th>14</th>\n",
       "        <th>13</th>\n",
       "        <th>12</th>\n",
       "        <th>11</th>\n",
       "        <th>10</th>\n",
       "        <th>9</th>\n",
       "        <th>8</th>\n",
       "        <th>7</th>\n",
       "        <th>6</th>\n",
       "        <th>5</th>\n",
       "        <th>4</th>\n",
       "        <th>3</th>\n",
       "        <th>2</th>\n",
       "        <th>1</th>\n",
       "        <th>0</th>\n",
       "    </tr>\n",
       "    <tr>\n",
       "        <td>SPI3EN</td>\n",
       "        <td>SPI2EN</td>\n",
       "        <td></td>\n",
       "        <td></td>\n",
       "        <td>WWDGEN</td>\n",
       "        <td>RTCAPBEN</td>\n",
       "        <td></td>\n",
       "        <td>CRSEN</td>\n",
       "        <td></td>\n",
       "        <td></td>\n",
       "        <td>TIM7EN</td>\n",
       "        <td>TIM6EN</td>\n",
       "        <td>TIM5EN</td>\n",
       "        <td>TIM4EN</td>\n",
       "        <td>TIM3EN</td>\n",
       "        <td>TIM2EN</td>\n",
       "    </tr>\n",
       "    <tr>\n",
       "        <td>0</td>\n",
       "        <td>0</td>\n",
       "        <td>0</td>\n",
       "        <td>0</td>\n",
       "        <td>0</td>\n",
       "        <td>1</td>\n",
       "        <td>0</td>\n",
       "        <td>0</td>\n",
       "        <td>0</td>\n",
       "        <td>0</td>\n",
       "        <td>0</td>\n",
       "        <td>0</td>\n",
       "        <td>1</td>\n",
       "        <td>0</td>\n",
       "        <td>0</td>\n",
       "        <td>0</td>\n",
       "    </tr>\n"
      ]
     },
     "metadata": {},
     "output_type": "display_data"
    },
    {
     "data": {
      "text/plain": [
       "DEC: 268567560, HEX: 0x10020408"
      ]
     },
     "execution_count": 8,
     "metadata": {},
     "output_type": "execute_result"
    }
   ],
   "execution_count": 8
  },
  {
   "metadata": {
    "ExecuteTime": {
     "end_time": "2024-07-03T11:22:00.940860Z",
     "start_time": "2024-07-03T11:22:00.930044Z"
    }
   },
   "cell_type": "code",
   "source": "GPIOA.MODER",
   "id": "3be5ff8ca5f64e20",
   "outputs": [
    {
     "data": {
      "text/plain": [
       "<IPython.core.display.HTML object>"
      ],
      "text/html": [
       "<style type=\"text/css\">\n",
       "    table.register th {\n",
       "        font-weight: normal;\n",
       "        text-align: center !important;\n",
       "        padding: 2px;\n",
       "    }\n",
       "    table.register td {\n",
       "        text-align: center !important;\n",
       "        border: 1px solid;\n",
       "        word-wrap: break-word;\n",
       "        padding: 2px;\n",
       "    }\n",
       "    .jp-RenderedHTMLCommon tbody tr:nth-child(even) {\n",
       "        background: var(--jp-layout-color0);\n",
       "    }\n",
       "    .jp-RenderedHTMLCommon tbody tr:hover {\n",
       "        background: rgba(0, 0, 0, 0);\n",
       "    }\n",
       "</style>\n",
       "<table class=\"register\" style=\"width:800px\">\n",
       "    <tr>\n",
       "        <th>31</th>\n",
       "        <th>30</th>\n",
       "        <th>29</th>\n",
       "        <th>28</th>\n",
       "        <th>27</th>\n",
       "        <th>26</th>\n",
       "        <th>25</th>\n",
       "        <th>24</th>\n",
       "        <th>23</th>\n",
       "        <th>22</th>\n",
       "        <th>21</th>\n",
       "        <th>20</th>\n",
       "        <th>19</th>\n",
       "        <th>18</th>\n",
       "        <th>17</th>\n",
       "        <th>16</th>\n",
       "    </tr>\n",
       "    <tr>\n",
       "        <td colspan=\"2\">MODE15[1:0]</td>\n",
       "        <td colspan=\"2\">MODE14[1:0]</td>\n",
       "        <td colspan=\"2\">MODE13[1:0]</td>\n",
       "        <td colspan=\"2\">MODE12[1:0]</td>\n",
       "        <td colspan=\"2\">MODE11[1:0]</td>\n",
       "        <td colspan=\"2\">MODE10[1:0]</td>\n",
       "        <td colspan=\"2\">MODE9[1:0]</td>\n",
       "        <td colspan=\"2\">MODE8[1:0]</td>\n",
       "    </tr>\n",
       "    <tr>\n",
       "        <td>1</td>\n",
       "        <td>0</td>\n",
       "        <td>1</td>\n",
       "        <td>0</td>\n",
       "        <td>1</td>\n",
       "        <td>0</td>\n",
       "        <td>1</td>\n",
       "        <td>1</td>\n",
       "        <td>1</td>\n",
       "        <td>1</td>\n",
       "        <td>1</td>\n",
       "        <td>1</td>\n",
       "        <td>1</td>\n",
       "        <td>1</td>\n",
       "        <td>1</td>\n",
       "        <td>1</td>\n",
       "    <tr>\n",
       "        <th>15</th>\n",
       "        <th>14</th>\n",
       "        <th>13</th>\n",
       "        <th>12</th>\n",
       "        <th>11</th>\n",
       "        <th>10</th>\n",
       "        <th>9</th>\n",
       "        <th>8</th>\n",
       "        <th>7</th>\n",
       "        <th>6</th>\n",
       "        <th>5</th>\n",
       "        <th>4</th>\n",
       "        <th>3</th>\n",
       "        <th>2</th>\n",
       "        <th>1</th>\n",
       "        <th>0</th>\n",
       "    </tr>\n",
       "    <tr>\n",
       "        <td colspan=\"2\">MODE7[1:0]</td>\n",
       "        <td colspan=\"2\">MODE6[1:0]</td>\n",
       "        <td colspan=\"2\">MODE5[1:0]</td>\n",
       "        <td colspan=\"2\">MODE4[1:0]</td>\n",
       "        <td colspan=\"2\">MODE3[1:0]</td>\n",
       "        <td colspan=\"2\">MODE2[1:0]</td>\n",
       "        <td colspan=\"2\">MODE1[1:0]</td>\n",
       "        <td colspan=\"2\">MODE0[1:0]</td>\n",
       "    </tr>\n",
       "    <tr>\n",
       "        <td>1</td>\n",
       "        <td>1</td>\n",
       "        <td>1</td>\n",
       "        <td>1</td>\n",
       "        <td>1</td>\n",
       "        <td>1</td>\n",
       "        <td>1</td>\n",
       "        <td>1</td>\n",
       "        <td>1</td>\n",
       "        <td>1</td>\n",
       "        <td>1</td>\n",
       "        <td>1</td>\n",
       "        <td>1</td>\n",
       "        <td>1</td>\n",
       "        <td>1</td>\n",
       "        <td>1</td>\n",
       "    </tr>\n"
      ]
     },
     "metadata": {},
     "output_type": "display_data"
    },
    {
     "data": {
      "text/plain": [
       "DEC: 2885681151, HEX: 0xABFFFFFF"
      ]
     },
     "execution_count": 9,
     "metadata": {},
     "output_type": "execute_result"
    }
   ],
   "execution_count": 9
  },
  {
   "metadata": {
    "ExecuteTime": {
     "end_time": "2024-07-03T11:22:03.437807Z",
     "start_time": "2024-07-03T11:22:03.433240Z"
    }
   },
   "cell_type": "code",
   "source": "GPIOA.MODER.MODE0 = 2",
   "id": "c977318aba2183c5",
   "outputs": [],
   "execution_count": 10
  },
  {
   "metadata": {
    "ExecuteTime": {
     "end_time": "2024-07-03T11:22:04.070689Z",
     "start_time": "2024-07-03T11:22:04.066212Z"
    }
   },
   "cell_type": "code",
   "source": "GPIOA.MODER.MODE1 = 2",
   "id": "218dde433a2ddd52",
   "outputs": [],
   "execution_count": 11
  },
  {
   "metadata": {
    "ExecuteTime": {
     "end_time": "2024-07-03T11:22:04.496250Z",
     "start_time": "2024-07-03T11:22:04.490537Z"
    }
   },
   "cell_type": "code",
   "source": "GPIOA.MODER.MODE2 = 2",
   "id": "1052e210f639ee9d",
   "outputs": [],
   "execution_count": 12
  },
  {
   "metadata": {
    "ExecuteTime": {
     "end_time": "2024-07-03T11:22:07.444610Z",
     "start_time": "2024-07-03T11:22:07.432227Z"
    }
   },
   "cell_type": "code",
   "source": "GPIOA.MODER",
   "id": "d457cc09d6e0e5a8",
   "outputs": [
    {
     "data": {
      "text/plain": [
       "<IPython.core.display.HTML object>"
      ],
      "text/html": [
       "<style type=\"text/css\">\n",
       "    table.register th {\n",
       "        font-weight: normal;\n",
       "        text-align: center !important;\n",
       "        padding: 2px;\n",
       "    }\n",
       "    table.register td {\n",
       "        text-align: center !important;\n",
       "        border: 1px solid;\n",
       "        word-wrap: break-word;\n",
       "        padding: 2px;\n",
       "    }\n",
       "    .jp-RenderedHTMLCommon tbody tr:nth-child(even) {\n",
       "        background: var(--jp-layout-color0);\n",
       "    }\n",
       "    .jp-RenderedHTMLCommon tbody tr:hover {\n",
       "        background: rgba(0, 0, 0, 0);\n",
       "    }\n",
       "</style>\n",
       "<table class=\"register\" style=\"width:800px\">\n",
       "    <tr>\n",
       "        <th>31</th>\n",
       "        <th>30</th>\n",
       "        <th>29</th>\n",
       "        <th>28</th>\n",
       "        <th>27</th>\n",
       "        <th>26</th>\n",
       "        <th>25</th>\n",
       "        <th>24</th>\n",
       "        <th>23</th>\n",
       "        <th>22</th>\n",
       "        <th>21</th>\n",
       "        <th>20</th>\n",
       "        <th>19</th>\n",
       "        <th>18</th>\n",
       "        <th>17</th>\n",
       "        <th>16</th>\n",
       "    </tr>\n",
       "    <tr>\n",
       "        <td colspan=\"2\">MODE15[1:0]</td>\n",
       "        <td colspan=\"2\">MODE14[1:0]</td>\n",
       "        <td colspan=\"2\">MODE13[1:0]</td>\n",
       "        <td colspan=\"2\">MODE12[1:0]</td>\n",
       "        <td colspan=\"2\">MODE11[1:0]</td>\n",
       "        <td colspan=\"2\">MODE10[1:0]</td>\n",
       "        <td colspan=\"2\">MODE9[1:0]</td>\n",
       "        <td colspan=\"2\">MODE8[1:0]</td>\n",
       "    </tr>\n",
       "    <tr>\n",
       "        <td>1</td>\n",
       "        <td>0</td>\n",
       "        <td>1</td>\n",
       "        <td>0</td>\n",
       "        <td>1</td>\n",
       "        <td>0</td>\n",
       "        <td>1</td>\n",
       "        <td>1</td>\n",
       "        <td>1</td>\n",
       "        <td>1</td>\n",
       "        <td>1</td>\n",
       "        <td>1</td>\n",
       "        <td>1</td>\n",
       "        <td>1</td>\n",
       "        <td>1</td>\n",
       "        <td>1</td>\n",
       "    <tr>\n",
       "        <th>15</th>\n",
       "        <th>14</th>\n",
       "        <th>13</th>\n",
       "        <th>12</th>\n",
       "        <th>11</th>\n",
       "        <th>10</th>\n",
       "        <th>9</th>\n",
       "        <th>8</th>\n",
       "        <th>7</th>\n",
       "        <th>6</th>\n",
       "        <th>5</th>\n",
       "        <th>4</th>\n",
       "        <th>3</th>\n",
       "        <th>2</th>\n",
       "        <th>1</th>\n",
       "        <th>0</th>\n",
       "    </tr>\n",
       "    <tr>\n",
       "        <td colspan=\"2\">MODE7[1:0]</td>\n",
       "        <td colspan=\"2\">MODE6[1:0]</td>\n",
       "        <td colspan=\"2\">MODE5[1:0]</td>\n",
       "        <td colspan=\"2\">MODE4[1:0]</td>\n",
       "        <td colspan=\"2\">MODE3[1:0]</td>\n",
       "        <td colspan=\"2\">MODE2[1:0]</td>\n",
       "        <td colspan=\"2\">MODE1[1:0]</td>\n",
       "        <td colspan=\"2\">MODE0[1:0]</td>\n",
       "    </tr>\n",
       "    <tr>\n",
       "        <td>1</td>\n",
       "        <td>1</td>\n",
       "        <td>1</td>\n",
       "        <td>1</td>\n",
       "        <td>1</td>\n",
       "        <td>1</td>\n",
       "        <td>1</td>\n",
       "        <td>1</td>\n",
       "        <td>1</td>\n",
       "        <td>1</td>\n",
       "        <td>1</td>\n",
       "        <td>0</td>\n",
       "        <td>1</td>\n",
       "        <td>0</td>\n",
       "        <td>1</td>\n",
       "        <td>0</td>\n",
       "    </tr>\n"
      ]
     },
     "metadata": {},
     "output_type": "display_data"
    },
    {
     "data": {
      "text/plain": [
       "DEC: 2885681130, HEX: 0xABFFFFEA"
      ]
     },
     "execution_count": 13,
     "metadata": {},
     "output_type": "execute_result"
    }
   ],
   "execution_count": 13
  },
  {
   "metadata": {
    "ExecuteTime": {
     "end_time": "2024-07-03T11:22:20.458756Z",
     "start_time": "2024-07-03T11:22:20.450178Z"
    }
   },
   "cell_type": "code",
   "source": "GPIOB.MODER.MODE2 = 2",
   "id": "eebf9b475769d0b3",
   "outputs": [],
   "execution_count": 14
  },
  {
   "metadata": {
    "ExecuteTime": {
     "end_time": "2024-07-03T11:22:20.569861Z",
     "start_time": "2024-07-03T11:22:20.560185Z"
    }
   },
   "cell_type": "code",
   "source": "GPIOA.AFRL",
   "id": "f58db9bfefde2f73",
   "outputs": [
    {
     "data": {
      "text/plain": [
       "<IPython.core.display.HTML object>"
      ],
      "text/html": [
       "<style type=\"text/css\">\n",
       "    table.register th {\n",
       "        font-weight: normal;\n",
       "        text-align: center !important;\n",
       "        padding: 2px;\n",
       "    }\n",
       "    table.register td {\n",
       "        text-align: center !important;\n",
       "        border: 1px solid;\n",
       "        word-wrap: break-word;\n",
       "        padding: 2px;\n",
       "    }\n",
       "    .jp-RenderedHTMLCommon tbody tr:nth-child(even) {\n",
       "        background: var(--jp-layout-color0);\n",
       "    }\n",
       "    .jp-RenderedHTMLCommon tbody tr:hover {\n",
       "        background: rgba(0, 0, 0, 0);\n",
       "    }\n",
       "</style>\n",
       "<table class=\"register\" style=\"width:800px\">\n",
       "    <tr>\n",
       "        <th>31</th>\n",
       "        <th>30</th>\n",
       "        <th>29</th>\n",
       "        <th>28</th>\n",
       "        <th>27</th>\n",
       "        <th>26</th>\n",
       "        <th>25</th>\n",
       "        <th>24</th>\n",
       "        <th>23</th>\n",
       "        <th>22</th>\n",
       "        <th>21</th>\n",
       "        <th>20</th>\n",
       "        <th>19</th>\n",
       "        <th>18</th>\n",
       "        <th>17</th>\n",
       "        <th>16</th>\n",
       "    </tr>\n",
       "    <tr>\n",
       "        <td colspan=\"4\">AFSEL7[3:0]</td>\n",
       "        <td colspan=\"4\">AFSEL6[3:0]</td>\n",
       "        <td colspan=\"4\">AFSEL5[3:0]</td>\n",
       "        <td colspan=\"4\">AFSEL4[3:0]</td>\n",
       "    </tr>\n",
       "    <tr>\n",
       "        <td>0</td>\n",
       "        <td>0</td>\n",
       "        <td>0</td>\n",
       "        <td>0</td>\n",
       "        <td>0</td>\n",
       "        <td>0</td>\n",
       "        <td>0</td>\n",
       "        <td>0</td>\n",
       "        <td>0</td>\n",
       "        <td>0</td>\n",
       "        <td>0</td>\n",
       "        <td>0</td>\n",
       "        <td>0</td>\n",
       "        <td>0</td>\n",
       "        <td>0</td>\n",
       "        <td>0</td>\n",
       "    <tr>\n",
       "        <th>15</th>\n",
       "        <th>14</th>\n",
       "        <th>13</th>\n",
       "        <th>12</th>\n",
       "        <th>11</th>\n",
       "        <th>10</th>\n",
       "        <th>9</th>\n",
       "        <th>8</th>\n",
       "        <th>7</th>\n",
       "        <th>6</th>\n",
       "        <th>5</th>\n",
       "        <th>4</th>\n",
       "        <th>3</th>\n",
       "        <th>2</th>\n",
       "        <th>1</th>\n",
       "        <th>0</th>\n",
       "    </tr>\n",
       "    <tr>\n",
       "        <td colspan=\"4\">AFSEL3[3:0]</td>\n",
       "        <td colspan=\"4\">AFSEL2[3:0]</td>\n",
       "        <td colspan=\"4\">AFSEL1[3:0]</td>\n",
       "        <td colspan=\"4\">AFSEL0[3:0]</td>\n",
       "    </tr>\n",
       "    <tr>\n",
       "        <td>0</td>\n",
       "        <td>0</td>\n",
       "        <td>0</td>\n",
       "        <td>0</td>\n",
       "        <td>0</td>\n",
       "        <td>0</td>\n",
       "        <td>0</td>\n",
       "        <td>0</td>\n",
       "        <td>0</td>\n",
       "        <td>0</td>\n",
       "        <td>0</td>\n",
       "        <td>0</td>\n",
       "        <td>0</td>\n",
       "        <td>0</td>\n",
       "        <td>0</td>\n",
       "        <td>0</td>\n",
       "    </tr>\n"
      ]
     },
     "metadata": {},
     "output_type": "display_data"
    },
    {
     "data": {
      "text/plain": [
       "DEC: 0, HEX: 0x00000000"
      ]
     },
     "execution_count": 15,
     "metadata": {},
     "output_type": "execute_result"
    }
   ],
   "execution_count": 15
  },
  {
   "metadata": {
    "ExecuteTime": {
     "end_time": "2024-07-03T11:22:21.760575Z",
     "start_time": "2024-07-03T11:22:21.753709Z"
    }
   },
   "cell_type": "code",
   "source": "GPIOA.AFRL = 0X00000220",
   "id": "d7b69632f9e5bba",
   "outputs": [],
   "execution_count": 16
  },
  {
   "metadata": {
    "ExecuteTime": {
     "end_time": "2024-07-03T11:22:42.274714Z",
     "start_time": "2024-07-03T11:22:41.222434Z"
    }
   },
   "cell_type": "code",
   "source": "GPIOA.AFRL",
   "id": "2ce8f46507991a77",
   "outputs": [
    {
     "name": "stdout",
     "output_type": "stream",
     "text": [
      "Format error\n"
     ]
    },
    {
     "ename": "IndexError",
     "evalue": "index out of range",
     "output_type": "error",
     "traceback": [
      "\u001B[1;31m---------------------------------------------------------------------------\u001B[0m",
      "\u001B[1;31mIndexError\u001B[0m                                Traceback (most recent call last)",
      "File \u001B[1;32mC:\\ProgramData\\anaconda3\\Lib\\site-packages\\IPython\\core\\formatters.py:708\u001B[0m, in \u001B[0;36mPlainTextFormatter.__call__\u001B[1;34m(self, obj)\u001B[0m\n\u001B[0;32m    701\u001B[0m stream \u001B[38;5;241m=\u001B[39m StringIO()\n\u001B[0;32m    702\u001B[0m printer \u001B[38;5;241m=\u001B[39m pretty\u001B[38;5;241m.\u001B[39mRepresentationPrinter(stream, \u001B[38;5;28mself\u001B[39m\u001B[38;5;241m.\u001B[39mverbose,\n\u001B[0;32m    703\u001B[0m     \u001B[38;5;28mself\u001B[39m\u001B[38;5;241m.\u001B[39mmax_width, \u001B[38;5;28mself\u001B[39m\u001B[38;5;241m.\u001B[39mnewline,\n\u001B[0;32m    704\u001B[0m     max_seq_length\u001B[38;5;241m=\u001B[39m\u001B[38;5;28mself\u001B[39m\u001B[38;5;241m.\u001B[39mmax_seq_length,\n\u001B[0;32m    705\u001B[0m     singleton_pprinters\u001B[38;5;241m=\u001B[39m\u001B[38;5;28mself\u001B[39m\u001B[38;5;241m.\u001B[39msingleton_printers,\n\u001B[0;32m    706\u001B[0m     type_pprinters\u001B[38;5;241m=\u001B[39m\u001B[38;5;28mself\u001B[39m\u001B[38;5;241m.\u001B[39mtype_printers,\n\u001B[0;32m    707\u001B[0m     deferred_pprinters\u001B[38;5;241m=\u001B[39m\u001B[38;5;28mself\u001B[39m\u001B[38;5;241m.\u001B[39mdeferred_printers)\n\u001B[1;32m--> 708\u001B[0m printer\u001B[38;5;241m.\u001B[39mpretty(obj)\n\u001B[0;32m    709\u001B[0m printer\u001B[38;5;241m.\u001B[39mflush()\n\u001B[0;32m    710\u001B[0m \u001B[38;5;28;01mreturn\u001B[39;00m stream\u001B[38;5;241m.\u001B[39mgetvalue()\n",
      "File \u001B[1;32mC:\\ProgramData\\anaconda3\\Lib\\site-packages\\IPython\\lib\\pretty.py:410\u001B[0m, in \u001B[0;36mRepresentationPrinter.pretty\u001B[1;34m(self, obj)\u001B[0m\n\u001B[0;32m    407\u001B[0m                         \u001B[38;5;28;01mreturn\u001B[39;00m meth(obj, \u001B[38;5;28mself\u001B[39m, cycle)\n\u001B[0;32m    408\u001B[0m                 \u001B[38;5;28;01mif\u001B[39;00m \u001B[38;5;28mcls\u001B[39m \u001B[38;5;129;01mis\u001B[39;00m \u001B[38;5;129;01mnot\u001B[39;00m \u001B[38;5;28mobject\u001B[39m \\\n\u001B[0;32m    409\u001B[0m                         \u001B[38;5;129;01mand\u001B[39;00m \u001B[38;5;28mcallable\u001B[39m(\u001B[38;5;28mcls\u001B[39m\u001B[38;5;241m.\u001B[39m\u001B[38;5;18m__dict__\u001B[39m\u001B[38;5;241m.\u001B[39mget(\u001B[38;5;124m'\u001B[39m\u001B[38;5;124m__repr__\u001B[39m\u001B[38;5;124m'\u001B[39m)):\n\u001B[1;32m--> 410\u001B[0m                     \u001B[38;5;28;01mreturn\u001B[39;00m _repr_pprint(obj, \u001B[38;5;28mself\u001B[39m, cycle)\n\u001B[0;32m    412\u001B[0m     \u001B[38;5;28;01mreturn\u001B[39;00m _default_pprint(obj, \u001B[38;5;28mself\u001B[39m, cycle)\n\u001B[0;32m    413\u001B[0m \u001B[38;5;28;01mfinally\u001B[39;00m:\n",
      "File \u001B[1;32mC:\\ProgramData\\anaconda3\\Lib\\site-packages\\IPython\\lib\\pretty.py:778\u001B[0m, in \u001B[0;36m_repr_pprint\u001B[1;34m(obj, p, cycle)\u001B[0m\n\u001B[0;32m    776\u001B[0m \u001B[38;5;250m\u001B[39m\u001B[38;5;124;03m\"\"\"A pprint that just redirects to the normal repr function.\"\"\"\u001B[39;00m\n\u001B[0;32m    777\u001B[0m \u001B[38;5;66;03m# Find newlines and replace them with p.break_()\u001B[39;00m\n\u001B[1;32m--> 778\u001B[0m output \u001B[38;5;241m=\u001B[39m \u001B[38;5;28mrepr\u001B[39m(obj)\n\u001B[0;32m    779\u001B[0m lines \u001B[38;5;241m=\u001B[39m output\u001B[38;5;241m.\u001B[39msplitlines()\n\u001B[0;32m    780\u001B[0m \u001B[38;5;28;01mwith\u001B[39;00m p\u001B[38;5;241m.\u001B[39mgroup():\n",
      "File \u001B[1;32mD:\\my_write_stm32cube\\SerialRegister-main\\SerialRegister-main\\Jupyter\\register.py:319\u001B[0m, in \u001B[0;36mRegisterBase.__repr__\u001B[1;34m(self)\u001B[0m\n\u001B[0;32m    318\u001B[0m \u001B[38;5;28;01mdef\u001B[39;00m \u001B[38;5;21m__repr__\u001B[39m(\u001B[38;5;28mself\u001B[39m):\n\u001B[1;32m--> 319\u001B[0m     value \u001B[38;5;241m=\u001B[39m \u001B[38;5;28mself\u001B[39m\u001B[38;5;241m.\u001B[39mread()\n\u001B[0;32m    320\u001B[0m     info \u001B[38;5;241m=\u001B[39m \u001B[38;5;124mf\u001B[39m\u001B[38;5;124m\"\u001B[39m\u001B[38;5;124mDEC: \u001B[39m\u001B[38;5;132;01m{\u001B[39;00mvalue\u001B[38;5;132;01m}\u001B[39;00m\u001B[38;5;124m, HEX: \u001B[39m\u001B[38;5;132;01m{\u001B[39;00mhex_repr(value)\u001B[38;5;132;01m}\u001B[39;00m\u001B[38;5;124m\"\u001B[39m\n\u001B[0;32m    322\u001B[0m     \u001B[38;5;28mself\u001B[39m\u001B[38;5;241m.\u001B[39mstructure(value)\n",
      "File \u001B[1;32mD:\\my_write_stm32cube\\SerialRegister-main\\SerialRegister-main\\Jupyter\\register.py:331\u001B[0m, in \u001B[0;36mRegisterBase.read\u001B[1;34m(self, mask, direct)\u001B[0m\n\u001B[0;32m    330\u001B[0m \u001B[38;5;28;01mdef\u001B[39;00m \u001B[38;5;21mread\u001B[39m(\u001B[38;5;28mself\u001B[39m, mask\u001B[38;5;241m=\u001B[39mMASK_32B, direct\u001B[38;5;241m=\u001B[39m\u001B[38;5;28;01mFalse\u001B[39;00m):\n\u001B[1;32m--> 331\u001B[0m     result \u001B[38;5;241m=\u001B[39m read_register(\u001B[38;5;28mself\u001B[39m\u001B[38;5;241m.\u001B[39maddress, mask)\n\u001B[0;32m    332\u001B[0m     \u001B[38;5;28;01mreturn\u001B[39;00m result\n",
      "File \u001B[1;32mD:\\my_write_stm32cube\\SerialRegister-main\\SerialRegister-main\\Jupyter\\register.py:146\u001B[0m, in \u001B[0;36mread_register\u001B[1;34m(addr, mask, direct)\u001B[0m\n\u001B[0;32m    143\u001B[0m serial_transmit(bs)\n\u001B[0;32m    145\u001B[0m bs \u001B[38;5;241m=\u001B[39m serial_receive(\u001B[38;5;241m4\u001B[39m)\n\u001B[1;32m--> 146\u001B[0m value \u001B[38;5;241m=\u001B[39m bs[\u001B[38;5;241m0\u001B[39m] \u001B[38;5;241m|\u001B[39m bs[\u001B[38;5;241m1\u001B[39m]\u001B[38;5;241m<<\u001B[39m\u001B[38;5;241m8\u001B[39m \u001B[38;5;241m|\u001B[39m bs[\u001B[38;5;241m2\u001B[39m]\u001B[38;5;241m<<\u001B[39m\u001B[38;5;241m16\u001B[39m \u001B[38;5;241m|\u001B[39m bs[\u001B[38;5;241m3\u001B[39m]\u001B[38;5;241m<<\u001B[39m\u001B[38;5;241m24\u001B[39m\n\u001B[0;32m    148\u001B[0m \u001B[38;5;28;01mif\u001B[39;00m \u001B[38;5;129;01mnot\u001B[39;00m direct:\n\u001B[0;32m    149\u001B[0m     value \u001B[38;5;241m=\u001B[39m mask_shr(value, mask)\n",
      "\u001B[1;31mIndexError\u001B[0m: index out of range"
     ]
    }
   ],
   "execution_count": 24
  },
  {
   "metadata": {
    "ExecuteTime": {
     "end_time": "2024-07-03T11:22:42.286089Z",
     "start_time": "2024-07-03T11:22:42.275735Z"
    }
   },
   "cell_type": "code",
   "source": "GPIOB.AFRL = 0X00000200",
   "id": "3acf065487587000",
   "outputs": [],
   "execution_count": 25
  },
  {
   "metadata": {
    "ExecuteTime": {
     "end_time": "2024-07-03T11:22:33.045142Z",
     "start_time": "2024-07-03T11:22:31.541799Z"
    }
   },
   "cell_type": "code",
   "source": "TIM5.CCMR1",
   "id": "26104698562f4a2b",
   "outputs": [
    {
     "name": "stdout",
     "output_type": "stream",
     "text": [
      "Format error\n"
     ]
    },
    {
     "ename": "IndexError",
     "evalue": "index out of range",
     "output_type": "error",
     "traceback": [
      "\u001B[1;31m---------------------------------------------------------------------------\u001B[0m",
      "\u001B[1;31mIndexError\u001B[0m                                Traceback (most recent call last)",
      "File \u001B[1;32mC:\\ProgramData\\anaconda3\\Lib\\site-packages\\IPython\\core\\formatters.py:708\u001B[0m, in \u001B[0;36mPlainTextFormatter.__call__\u001B[1;34m(self, obj)\u001B[0m\n\u001B[0;32m    701\u001B[0m stream \u001B[38;5;241m=\u001B[39m StringIO()\n\u001B[0;32m    702\u001B[0m printer \u001B[38;5;241m=\u001B[39m pretty\u001B[38;5;241m.\u001B[39mRepresentationPrinter(stream, \u001B[38;5;28mself\u001B[39m\u001B[38;5;241m.\u001B[39mverbose,\n\u001B[0;32m    703\u001B[0m     \u001B[38;5;28mself\u001B[39m\u001B[38;5;241m.\u001B[39mmax_width, \u001B[38;5;28mself\u001B[39m\u001B[38;5;241m.\u001B[39mnewline,\n\u001B[0;32m    704\u001B[0m     max_seq_length\u001B[38;5;241m=\u001B[39m\u001B[38;5;28mself\u001B[39m\u001B[38;5;241m.\u001B[39mmax_seq_length,\n\u001B[0;32m    705\u001B[0m     singleton_pprinters\u001B[38;5;241m=\u001B[39m\u001B[38;5;28mself\u001B[39m\u001B[38;5;241m.\u001B[39msingleton_printers,\n\u001B[0;32m    706\u001B[0m     type_pprinters\u001B[38;5;241m=\u001B[39m\u001B[38;5;28mself\u001B[39m\u001B[38;5;241m.\u001B[39mtype_printers,\n\u001B[0;32m    707\u001B[0m     deferred_pprinters\u001B[38;5;241m=\u001B[39m\u001B[38;5;28mself\u001B[39m\u001B[38;5;241m.\u001B[39mdeferred_printers)\n\u001B[1;32m--> 708\u001B[0m printer\u001B[38;5;241m.\u001B[39mpretty(obj)\n\u001B[0;32m    709\u001B[0m printer\u001B[38;5;241m.\u001B[39mflush()\n\u001B[0;32m    710\u001B[0m \u001B[38;5;28;01mreturn\u001B[39;00m stream\u001B[38;5;241m.\u001B[39mgetvalue()\n",
      "File \u001B[1;32mC:\\ProgramData\\anaconda3\\Lib\\site-packages\\IPython\\lib\\pretty.py:410\u001B[0m, in \u001B[0;36mRepresentationPrinter.pretty\u001B[1;34m(self, obj)\u001B[0m\n\u001B[0;32m    407\u001B[0m                         \u001B[38;5;28;01mreturn\u001B[39;00m meth(obj, \u001B[38;5;28mself\u001B[39m, cycle)\n\u001B[0;32m    408\u001B[0m                 \u001B[38;5;28;01mif\u001B[39;00m \u001B[38;5;28mcls\u001B[39m \u001B[38;5;129;01mis\u001B[39;00m \u001B[38;5;129;01mnot\u001B[39;00m \u001B[38;5;28mobject\u001B[39m \\\n\u001B[0;32m    409\u001B[0m                         \u001B[38;5;129;01mand\u001B[39;00m \u001B[38;5;28mcallable\u001B[39m(\u001B[38;5;28mcls\u001B[39m\u001B[38;5;241m.\u001B[39m\u001B[38;5;18m__dict__\u001B[39m\u001B[38;5;241m.\u001B[39mget(\u001B[38;5;124m'\u001B[39m\u001B[38;5;124m__repr__\u001B[39m\u001B[38;5;124m'\u001B[39m)):\n\u001B[1;32m--> 410\u001B[0m                     \u001B[38;5;28;01mreturn\u001B[39;00m _repr_pprint(obj, \u001B[38;5;28mself\u001B[39m, cycle)\n\u001B[0;32m    412\u001B[0m     \u001B[38;5;28;01mreturn\u001B[39;00m _default_pprint(obj, \u001B[38;5;28mself\u001B[39m, cycle)\n\u001B[0;32m    413\u001B[0m \u001B[38;5;28;01mfinally\u001B[39;00m:\n",
      "File \u001B[1;32mC:\\ProgramData\\anaconda3\\Lib\\site-packages\\IPython\\lib\\pretty.py:778\u001B[0m, in \u001B[0;36m_repr_pprint\u001B[1;34m(obj, p, cycle)\u001B[0m\n\u001B[0;32m    776\u001B[0m \u001B[38;5;250m\u001B[39m\u001B[38;5;124;03m\"\"\"A pprint that just redirects to the normal repr function.\"\"\"\u001B[39;00m\n\u001B[0;32m    777\u001B[0m \u001B[38;5;66;03m# Find newlines and replace them with p.break_()\u001B[39;00m\n\u001B[1;32m--> 778\u001B[0m output \u001B[38;5;241m=\u001B[39m \u001B[38;5;28mrepr\u001B[39m(obj)\n\u001B[0;32m    779\u001B[0m lines \u001B[38;5;241m=\u001B[39m output\u001B[38;5;241m.\u001B[39msplitlines()\n\u001B[0;32m    780\u001B[0m \u001B[38;5;28;01mwith\u001B[39;00m p\u001B[38;5;241m.\u001B[39mgroup():\n",
      "File \u001B[1;32mD:\\my_write_stm32cube\\SerialRegister-main\\SerialRegister-main\\Jupyter\\register.py:319\u001B[0m, in \u001B[0;36mRegisterBase.__repr__\u001B[1;34m(self)\u001B[0m\n\u001B[0;32m    318\u001B[0m \u001B[38;5;28;01mdef\u001B[39;00m \u001B[38;5;21m__repr__\u001B[39m(\u001B[38;5;28mself\u001B[39m):\n\u001B[1;32m--> 319\u001B[0m     value \u001B[38;5;241m=\u001B[39m \u001B[38;5;28mself\u001B[39m\u001B[38;5;241m.\u001B[39mread()\n\u001B[0;32m    320\u001B[0m     info \u001B[38;5;241m=\u001B[39m \u001B[38;5;124mf\u001B[39m\u001B[38;5;124m\"\u001B[39m\u001B[38;5;124mDEC: \u001B[39m\u001B[38;5;132;01m{\u001B[39;00mvalue\u001B[38;5;132;01m}\u001B[39;00m\u001B[38;5;124m, HEX: \u001B[39m\u001B[38;5;132;01m{\u001B[39;00mhex_repr(value)\u001B[38;5;132;01m}\u001B[39;00m\u001B[38;5;124m\"\u001B[39m\n\u001B[0;32m    322\u001B[0m     \u001B[38;5;28mself\u001B[39m\u001B[38;5;241m.\u001B[39mstructure(value)\n",
      "File \u001B[1;32mD:\\my_write_stm32cube\\SerialRegister-main\\SerialRegister-main\\Jupyter\\register.py:331\u001B[0m, in \u001B[0;36mRegisterBase.read\u001B[1;34m(self, mask, direct)\u001B[0m\n\u001B[0;32m    330\u001B[0m \u001B[38;5;28;01mdef\u001B[39;00m \u001B[38;5;21mread\u001B[39m(\u001B[38;5;28mself\u001B[39m, mask\u001B[38;5;241m=\u001B[39mMASK_32B, direct\u001B[38;5;241m=\u001B[39m\u001B[38;5;28;01mFalse\u001B[39;00m):\n\u001B[1;32m--> 331\u001B[0m     result \u001B[38;5;241m=\u001B[39m read_register(\u001B[38;5;28mself\u001B[39m\u001B[38;5;241m.\u001B[39maddress, mask)\n\u001B[0;32m    332\u001B[0m     \u001B[38;5;28;01mreturn\u001B[39;00m result\n",
      "File \u001B[1;32mD:\\my_write_stm32cube\\SerialRegister-main\\SerialRegister-main\\Jupyter\\register.py:146\u001B[0m, in \u001B[0;36mread_register\u001B[1;34m(addr, mask, direct)\u001B[0m\n\u001B[0;32m    143\u001B[0m serial_transmit(bs)\n\u001B[0;32m    145\u001B[0m bs \u001B[38;5;241m=\u001B[39m serial_receive(\u001B[38;5;241m4\u001B[39m)\n\u001B[1;32m--> 146\u001B[0m value \u001B[38;5;241m=\u001B[39m bs[\u001B[38;5;241m0\u001B[39m] \u001B[38;5;241m|\u001B[39m bs[\u001B[38;5;241m1\u001B[39m]\u001B[38;5;241m<<\u001B[39m\u001B[38;5;241m8\u001B[39m \u001B[38;5;241m|\u001B[39m bs[\u001B[38;5;241m2\u001B[39m]\u001B[38;5;241m<<\u001B[39m\u001B[38;5;241m16\u001B[39m \u001B[38;5;241m|\u001B[39m bs[\u001B[38;5;241m3\u001B[39m]\u001B[38;5;241m<<\u001B[39m\u001B[38;5;241m24\u001B[39m\n\u001B[0;32m    148\u001B[0m \u001B[38;5;28;01mif\u001B[39;00m \u001B[38;5;129;01mnot\u001B[39;00m direct:\n\u001B[0;32m    149\u001B[0m     value \u001B[38;5;241m=\u001B[39m mask_shr(value, mask)\n",
      "\u001B[1;31mIndexError\u001B[0m: index out of range"
     ]
    }
   ],
   "execution_count": 20
  },
  {
   "metadata": {
    "ExecuteTime": {
     "end_time": "2024-07-03T11:22:35.145920Z",
     "start_time": "2024-07-03T11:22:35.140833Z"
    }
   },
   "cell_type": "code",
   "source": "TIM5.CCMR1 = 0X00006060",
   "id": "a4035adb2581f3d0",
   "outputs": [],
   "execution_count": 21
  },
  {
   "metadata": {
    "ExecuteTime": {
     "end_time": "2024-07-03T11:22:37.043660Z",
     "start_time": "2024-07-03T11:22:35.989521Z"
    }
   },
   "cell_type": "code",
   "source": "TIM5.CCMR1",
   "id": "a681709d8ebc1cde",
   "outputs": [
    {
     "name": "stdout",
     "output_type": "stream",
     "text": [
      "Format error\n"
     ]
    },
    {
     "ename": "IndexError",
     "evalue": "index out of range",
     "output_type": "error",
     "traceback": [
      "\u001B[1;31m---------------------------------------------------------------------------\u001B[0m",
      "\u001B[1;31mIndexError\u001B[0m                                Traceback (most recent call last)",
      "File \u001B[1;32mC:\\ProgramData\\anaconda3\\Lib\\site-packages\\IPython\\core\\formatters.py:708\u001B[0m, in \u001B[0;36mPlainTextFormatter.__call__\u001B[1;34m(self, obj)\u001B[0m\n\u001B[0;32m    701\u001B[0m stream \u001B[38;5;241m=\u001B[39m StringIO()\n\u001B[0;32m    702\u001B[0m printer \u001B[38;5;241m=\u001B[39m pretty\u001B[38;5;241m.\u001B[39mRepresentationPrinter(stream, \u001B[38;5;28mself\u001B[39m\u001B[38;5;241m.\u001B[39mverbose,\n\u001B[0;32m    703\u001B[0m     \u001B[38;5;28mself\u001B[39m\u001B[38;5;241m.\u001B[39mmax_width, \u001B[38;5;28mself\u001B[39m\u001B[38;5;241m.\u001B[39mnewline,\n\u001B[0;32m    704\u001B[0m     max_seq_length\u001B[38;5;241m=\u001B[39m\u001B[38;5;28mself\u001B[39m\u001B[38;5;241m.\u001B[39mmax_seq_length,\n\u001B[0;32m    705\u001B[0m     singleton_pprinters\u001B[38;5;241m=\u001B[39m\u001B[38;5;28mself\u001B[39m\u001B[38;5;241m.\u001B[39msingleton_printers,\n\u001B[0;32m    706\u001B[0m     type_pprinters\u001B[38;5;241m=\u001B[39m\u001B[38;5;28mself\u001B[39m\u001B[38;5;241m.\u001B[39mtype_printers,\n\u001B[0;32m    707\u001B[0m     deferred_pprinters\u001B[38;5;241m=\u001B[39m\u001B[38;5;28mself\u001B[39m\u001B[38;5;241m.\u001B[39mdeferred_printers)\n\u001B[1;32m--> 708\u001B[0m printer\u001B[38;5;241m.\u001B[39mpretty(obj)\n\u001B[0;32m    709\u001B[0m printer\u001B[38;5;241m.\u001B[39mflush()\n\u001B[0;32m    710\u001B[0m \u001B[38;5;28;01mreturn\u001B[39;00m stream\u001B[38;5;241m.\u001B[39mgetvalue()\n",
      "File \u001B[1;32mC:\\ProgramData\\anaconda3\\Lib\\site-packages\\IPython\\lib\\pretty.py:410\u001B[0m, in \u001B[0;36mRepresentationPrinter.pretty\u001B[1;34m(self, obj)\u001B[0m\n\u001B[0;32m    407\u001B[0m                         \u001B[38;5;28;01mreturn\u001B[39;00m meth(obj, \u001B[38;5;28mself\u001B[39m, cycle)\n\u001B[0;32m    408\u001B[0m                 \u001B[38;5;28;01mif\u001B[39;00m \u001B[38;5;28mcls\u001B[39m \u001B[38;5;129;01mis\u001B[39;00m \u001B[38;5;129;01mnot\u001B[39;00m \u001B[38;5;28mobject\u001B[39m \\\n\u001B[0;32m    409\u001B[0m                         \u001B[38;5;129;01mand\u001B[39;00m \u001B[38;5;28mcallable\u001B[39m(\u001B[38;5;28mcls\u001B[39m\u001B[38;5;241m.\u001B[39m\u001B[38;5;18m__dict__\u001B[39m\u001B[38;5;241m.\u001B[39mget(\u001B[38;5;124m'\u001B[39m\u001B[38;5;124m__repr__\u001B[39m\u001B[38;5;124m'\u001B[39m)):\n\u001B[1;32m--> 410\u001B[0m                     \u001B[38;5;28;01mreturn\u001B[39;00m _repr_pprint(obj, \u001B[38;5;28mself\u001B[39m, cycle)\n\u001B[0;32m    412\u001B[0m     \u001B[38;5;28;01mreturn\u001B[39;00m _default_pprint(obj, \u001B[38;5;28mself\u001B[39m, cycle)\n\u001B[0;32m    413\u001B[0m \u001B[38;5;28;01mfinally\u001B[39;00m:\n",
      "File \u001B[1;32mC:\\ProgramData\\anaconda3\\Lib\\site-packages\\IPython\\lib\\pretty.py:778\u001B[0m, in \u001B[0;36m_repr_pprint\u001B[1;34m(obj, p, cycle)\u001B[0m\n\u001B[0;32m    776\u001B[0m \u001B[38;5;250m\u001B[39m\u001B[38;5;124;03m\"\"\"A pprint that just redirects to the normal repr function.\"\"\"\u001B[39;00m\n\u001B[0;32m    777\u001B[0m \u001B[38;5;66;03m# Find newlines and replace them with p.break_()\u001B[39;00m\n\u001B[1;32m--> 778\u001B[0m output \u001B[38;5;241m=\u001B[39m \u001B[38;5;28mrepr\u001B[39m(obj)\n\u001B[0;32m    779\u001B[0m lines \u001B[38;5;241m=\u001B[39m output\u001B[38;5;241m.\u001B[39msplitlines()\n\u001B[0;32m    780\u001B[0m \u001B[38;5;28;01mwith\u001B[39;00m p\u001B[38;5;241m.\u001B[39mgroup():\n",
      "File \u001B[1;32mD:\\my_write_stm32cube\\SerialRegister-main\\SerialRegister-main\\Jupyter\\register.py:319\u001B[0m, in \u001B[0;36mRegisterBase.__repr__\u001B[1;34m(self)\u001B[0m\n\u001B[0;32m    318\u001B[0m \u001B[38;5;28;01mdef\u001B[39;00m \u001B[38;5;21m__repr__\u001B[39m(\u001B[38;5;28mself\u001B[39m):\n\u001B[1;32m--> 319\u001B[0m     value \u001B[38;5;241m=\u001B[39m \u001B[38;5;28mself\u001B[39m\u001B[38;5;241m.\u001B[39mread()\n\u001B[0;32m    320\u001B[0m     info \u001B[38;5;241m=\u001B[39m \u001B[38;5;124mf\u001B[39m\u001B[38;5;124m\"\u001B[39m\u001B[38;5;124mDEC: \u001B[39m\u001B[38;5;132;01m{\u001B[39;00mvalue\u001B[38;5;132;01m}\u001B[39;00m\u001B[38;5;124m, HEX: \u001B[39m\u001B[38;5;132;01m{\u001B[39;00mhex_repr(value)\u001B[38;5;132;01m}\u001B[39;00m\u001B[38;5;124m\"\u001B[39m\n\u001B[0;32m    322\u001B[0m     \u001B[38;5;28mself\u001B[39m\u001B[38;5;241m.\u001B[39mstructure(value)\n",
      "File \u001B[1;32mD:\\my_write_stm32cube\\SerialRegister-main\\SerialRegister-main\\Jupyter\\register.py:331\u001B[0m, in \u001B[0;36mRegisterBase.read\u001B[1;34m(self, mask, direct)\u001B[0m\n\u001B[0;32m    330\u001B[0m \u001B[38;5;28;01mdef\u001B[39;00m \u001B[38;5;21mread\u001B[39m(\u001B[38;5;28mself\u001B[39m, mask\u001B[38;5;241m=\u001B[39mMASK_32B, direct\u001B[38;5;241m=\u001B[39m\u001B[38;5;28;01mFalse\u001B[39;00m):\n\u001B[1;32m--> 331\u001B[0m     result \u001B[38;5;241m=\u001B[39m read_register(\u001B[38;5;28mself\u001B[39m\u001B[38;5;241m.\u001B[39maddress, mask)\n\u001B[0;32m    332\u001B[0m     \u001B[38;5;28;01mreturn\u001B[39;00m result\n",
      "File \u001B[1;32mD:\\my_write_stm32cube\\SerialRegister-main\\SerialRegister-main\\Jupyter\\register.py:146\u001B[0m, in \u001B[0;36mread_register\u001B[1;34m(addr, mask, direct)\u001B[0m\n\u001B[0;32m    143\u001B[0m serial_transmit(bs)\n\u001B[0;32m    145\u001B[0m bs \u001B[38;5;241m=\u001B[39m serial_receive(\u001B[38;5;241m4\u001B[39m)\n\u001B[1;32m--> 146\u001B[0m value \u001B[38;5;241m=\u001B[39m bs[\u001B[38;5;241m0\u001B[39m] \u001B[38;5;241m|\u001B[39m bs[\u001B[38;5;241m1\u001B[39m]\u001B[38;5;241m<<\u001B[39m\u001B[38;5;241m8\u001B[39m \u001B[38;5;241m|\u001B[39m bs[\u001B[38;5;241m2\u001B[39m]\u001B[38;5;241m<<\u001B[39m\u001B[38;5;241m16\u001B[39m \u001B[38;5;241m|\u001B[39m bs[\u001B[38;5;241m3\u001B[39m]\u001B[38;5;241m<<\u001B[39m\u001B[38;5;241m24\u001B[39m\n\u001B[0;32m    148\u001B[0m \u001B[38;5;28;01mif\u001B[39;00m \u001B[38;5;129;01mnot\u001B[39;00m direct:\n\u001B[0;32m    149\u001B[0m     value \u001B[38;5;241m=\u001B[39m mask_shr(value, mask)\n",
      "\u001B[1;31mIndexError\u001B[0m: index out of range"
     ]
    }
   ],
   "execution_count": 22
  },
  {
   "metadata": {
    "ExecuteTime": {
     "end_time": "2024-07-03T11:22:38.092623Z",
     "start_time": "2024-07-03T11:22:37.043660Z"
    }
   },
   "cell_type": "code",
   "source": "TIM5.CCMR2",
   "id": "9f9254a12799291d",
   "outputs": [
    {
     "name": "stdout",
     "output_type": "stream",
     "text": [
      "Format error\n"
     ]
    },
    {
     "ename": "IndexError",
     "evalue": "index out of range",
     "output_type": "error",
     "traceback": [
      "\u001B[1;31m---------------------------------------------------------------------------\u001B[0m",
      "\u001B[1;31mIndexError\u001B[0m                                Traceback (most recent call last)",
      "File \u001B[1;32mC:\\ProgramData\\anaconda3\\Lib\\site-packages\\IPython\\core\\formatters.py:708\u001B[0m, in \u001B[0;36mPlainTextFormatter.__call__\u001B[1;34m(self, obj)\u001B[0m\n\u001B[0;32m    701\u001B[0m stream \u001B[38;5;241m=\u001B[39m StringIO()\n\u001B[0;32m    702\u001B[0m printer \u001B[38;5;241m=\u001B[39m pretty\u001B[38;5;241m.\u001B[39mRepresentationPrinter(stream, \u001B[38;5;28mself\u001B[39m\u001B[38;5;241m.\u001B[39mverbose,\n\u001B[0;32m    703\u001B[0m     \u001B[38;5;28mself\u001B[39m\u001B[38;5;241m.\u001B[39mmax_width, \u001B[38;5;28mself\u001B[39m\u001B[38;5;241m.\u001B[39mnewline,\n\u001B[0;32m    704\u001B[0m     max_seq_length\u001B[38;5;241m=\u001B[39m\u001B[38;5;28mself\u001B[39m\u001B[38;5;241m.\u001B[39mmax_seq_length,\n\u001B[0;32m    705\u001B[0m     singleton_pprinters\u001B[38;5;241m=\u001B[39m\u001B[38;5;28mself\u001B[39m\u001B[38;5;241m.\u001B[39msingleton_printers,\n\u001B[0;32m    706\u001B[0m     type_pprinters\u001B[38;5;241m=\u001B[39m\u001B[38;5;28mself\u001B[39m\u001B[38;5;241m.\u001B[39mtype_printers,\n\u001B[0;32m    707\u001B[0m     deferred_pprinters\u001B[38;5;241m=\u001B[39m\u001B[38;5;28mself\u001B[39m\u001B[38;5;241m.\u001B[39mdeferred_printers)\n\u001B[1;32m--> 708\u001B[0m printer\u001B[38;5;241m.\u001B[39mpretty(obj)\n\u001B[0;32m    709\u001B[0m printer\u001B[38;5;241m.\u001B[39mflush()\n\u001B[0;32m    710\u001B[0m \u001B[38;5;28;01mreturn\u001B[39;00m stream\u001B[38;5;241m.\u001B[39mgetvalue()\n",
      "File \u001B[1;32mC:\\ProgramData\\anaconda3\\Lib\\site-packages\\IPython\\lib\\pretty.py:410\u001B[0m, in \u001B[0;36mRepresentationPrinter.pretty\u001B[1;34m(self, obj)\u001B[0m\n\u001B[0;32m    407\u001B[0m                         \u001B[38;5;28;01mreturn\u001B[39;00m meth(obj, \u001B[38;5;28mself\u001B[39m, cycle)\n\u001B[0;32m    408\u001B[0m                 \u001B[38;5;28;01mif\u001B[39;00m \u001B[38;5;28mcls\u001B[39m \u001B[38;5;129;01mis\u001B[39;00m \u001B[38;5;129;01mnot\u001B[39;00m \u001B[38;5;28mobject\u001B[39m \\\n\u001B[0;32m    409\u001B[0m                         \u001B[38;5;129;01mand\u001B[39;00m \u001B[38;5;28mcallable\u001B[39m(\u001B[38;5;28mcls\u001B[39m\u001B[38;5;241m.\u001B[39m\u001B[38;5;18m__dict__\u001B[39m\u001B[38;5;241m.\u001B[39mget(\u001B[38;5;124m'\u001B[39m\u001B[38;5;124m__repr__\u001B[39m\u001B[38;5;124m'\u001B[39m)):\n\u001B[1;32m--> 410\u001B[0m                     \u001B[38;5;28;01mreturn\u001B[39;00m _repr_pprint(obj, \u001B[38;5;28mself\u001B[39m, cycle)\n\u001B[0;32m    412\u001B[0m     \u001B[38;5;28;01mreturn\u001B[39;00m _default_pprint(obj, \u001B[38;5;28mself\u001B[39m, cycle)\n\u001B[0;32m    413\u001B[0m \u001B[38;5;28;01mfinally\u001B[39;00m:\n",
      "File \u001B[1;32mC:\\ProgramData\\anaconda3\\Lib\\site-packages\\IPython\\lib\\pretty.py:778\u001B[0m, in \u001B[0;36m_repr_pprint\u001B[1;34m(obj, p, cycle)\u001B[0m\n\u001B[0;32m    776\u001B[0m \u001B[38;5;250m\u001B[39m\u001B[38;5;124;03m\"\"\"A pprint that just redirects to the normal repr function.\"\"\"\u001B[39;00m\n\u001B[0;32m    777\u001B[0m \u001B[38;5;66;03m# Find newlines and replace them with p.break_()\u001B[39;00m\n\u001B[1;32m--> 778\u001B[0m output \u001B[38;5;241m=\u001B[39m \u001B[38;5;28mrepr\u001B[39m(obj)\n\u001B[0;32m    779\u001B[0m lines \u001B[38;5;241m=\u001B[39m output\u001B[38;5;241m.\u001B[39msplitlines()\n\u001B[0;32m    780\u001B[0m \u001B[38;5;28;01mwith\u001B[39;00m p\u001B[38;5;241m.\u001B[39mgroup():\n",
      "File \u001B[1;32mD:\\my_write_stm32cube\\SerialRegister-main\\SerialRegister-main\\Jupyter\\register.py:319\u001B[0m, in \u001B[0;36mRegisterBase.__repr__\u001B[1;34m(self)\u001B[0m\n\u001B[0;32m    318\u001B[0m \u001B[38;5;28;01mdef\u001B[39;00m \u001B[38;5;21m__repr__\u001B[39m(\u001B[38;5;28mself\u001B[39m):\n\u001B[1;32m--> 319\u001B[0m     value \u001B[38;5;241m=\u001B[39m \u001B[38;5;28mself\u001B[39m\u001B[38;5;241m.\u001B[39mread()\n\u001B[0;32m    320\u001B[0m     info \u001B[38;5;241m=\u001B[39m \u001B[38;5;124mf\u001B[39m\u001B[38;5;124m\"\u001B[39m\u001B[38;5;124mDEC: \u001B[39m\u001B[38;5;132;01m{\u001B[39;00mvalue\u001B[38;5;132;01m}\u001B[39;00m\u001B[38;5;124m, HEX: \u001B[39m\u001B[38;5;132;01m{\u001B[39;00mhex_repr(value)\u001B[38;5;132;01m}\u001B[39;00m\u001B[38;5;124m\"\u001B[39m\n\u001B[0;32m    322\u001B[0m     \u001B[38;5;28mself\u001B[39m\u001B[38;5;241m.\u001B[39mstructure(value)\n",
      "File \u001B[1;32mD:\\my_write_stm32cube\\SerialRegister-main\\SerialRegister-main\\Jupyter\\register.py:331\u001B[0m, in \u001B[0;36mRegisterBase.read\u001B[1;34m(self, mask, direct)\u001B[0m\n\u001B[0;32m    330\u001B[0m \u001B[38;5;28;01mdef\u001B[39;00m \u001B[38;5;21mread\u001B[39m(\u001B[38;5;28mself\u001B[39m, mask\u001B[38;5;241m=\u001B[39mMASK_32B, direct\u001B[38;5;241m=\u001B[39m\u001B[38;5;28;01mFalse\u001B[39;00m):\n\u001B[1;32m--> 331\u001B[0m     result \u001B[38;5;241m=\u001B[39m read_register(\u001B[38;5;28mself\u001B[39m\u001B[38;5;241m.\u001B[39maddress, mask)\n\u001B[0;32m    332\u001B[0m     \u001B[38;5;28;01mreturn\u001B[39;00m result\n",
      "File \u001B[1;32mD:\\my_write_stm32cube\\SerialRegister-main\\SerialRegister-main\\Jupyter\\register.py:146\u001B[0m, in \u001B[0;36mread_register\u001B[1;34m(addr, mask, direct)\u001B[0m\n\u001B[0;32m    143\u001B[0m serial_transmit(bs)\n\u001B[0;32m    145\u001B[0m bs \u001B[38;5;241m=\u001B[39m serial_receive(\u001B[38;5;241m4\u001B[39m)\n\u001B[1;32m--> 146\u001B[0m value \u001B[38;5;241m=\u001B[39m bs[\u001B[38;5;241m0\u001B[39m] \u001B[38;5;241m|\u001B[39m bs[\u001B[38;5;241m1\u001B[39m]\u001B[38;5;241m<<\u001B[39m\u001B[38;5;241m8\u001B[39m \u001B[38;5;241m|\u001B[39m bs[\u001B[38;5;241m2\u001B[39m]\u001B[38;5;241m<<\u001B[39m\u001B[38;5;241m16\u001B[39m \u001B[38;5;241m|\u001B[39m bs[\u001B[38;5;241m3\u001B[39m]\u001B[38;5;241m<<\u001B[39m\u001B[38;5;241m24\u001B[39m\n\u001B[0;32m    148\u001B[0m \u001B[38;5;28;01mif\u001B[39;00m \u001B[38;5;129;01mnot\u001B[39;00m direct:\n\u001B[0;32m    149\u001B[0m     value \u001B[38;5;241m=\u001B[39m mask_shr(value, mask)\n",
      "\u001B[1;31mIndexError\u001B[0m: index out of range"
     ]
    }
   ],
   "execution_count": 23
  },
  {
   "metadata": {
    "ExecuteTime": {
     "end_time": "2024-07-03T11:20:59.339376Z",
     "start_time": "2024-07-03T11:20:59.332149Z"
    }
   },
   "cell_type": "code",
   "source": "TIM5.CCMR2 = 0X00000060",
   "id": "c4b441f32702a9d4",
   "outputs": [],
   "execution_count": 110
  },
  {
   "metadata": {
    "ExecuteTime": {
     "end_time": "2024-07-03T11:20:59.356120Z",
     "start_time": "2024-07-03T11:20:59.339376Z"
    }
   },
   "cell_type": "code",
   "source": "TIM5.CCMR2",
   "id": "118dd12a47e3f894",
   "outputs": [
    {
     "data": {
      "text/plain": [
       "<IPython.core.display.HTML object>"
      ],
      "text/html": [
       "<style type=\"text/css\">\n",
       "    table.register th {\n",
       "        font-weight: normal;\n",
       "        text-align: center !important;\n",
       "        padding: 2px;\n",
       "    }\n",
       "    table.register td {\n",
       "        text-align: center !important;\n",
       "        border: 1px solid;\n",
       "        word-wrap: break-word;\n",
       "        padding: 2px;\n",
       "    }\n",
       "    .jp-RenderedHTMLCommon tbody tr:nth-child(even) {\n",
       "        background: var(--jp-layout-color0);\n",
       "    }\n",
       "    .jp-RenderedHTMLCommon tbody tr:hover {\n",
       "        background: rgba(0, 0, 0, 0);\n",
       "    }\n",
       "</style>\n",
       "<table class=\"register\" style=\"width:800px\">\n",
       "    <tr>\n",
       "        <th>31</th>\n",
       "        <th>30</th>\n",
       "        <th>29</th>\n",
       "        <th>28</th>\n",
       "        <th>27</th>\n",
       "        <th>26</th>\n",
       "        <th>25</th>\n",
       "        <th>24</th>\n",
       "        <th>23</th>\n",
       "        <th>22</th>\n",
       "        <th>21</th>\n",
       "        <th>20</th>\n",
       "        <th>19</th>\n",
       "        <th>18</th>\n",
       "        <th>17</th>\n",
       "        <th>16</th>\n",
       "    </tr>\n",
       "    <tr>\n",
       "        <td></td>\n",
       "        <td></td>\n",
       "        <td></td>\n",
       "        <td></td>\n",
       "        <td></td>\n",
       "        <td></td>\n",
       "        <td></td>\n",
       "        <td>OC4M[3]</td>\n",
       "        <td></td>\n",
       "        <td></td>\n",
       "        <td></td>\n",
       "        <td></td>\n",
       "        <td></td>\n",
       "        <td></td>\n",
       "        <td></td>\n",
       "        <td>OC3M[3]</td>\n",
       "    </tr>\n",
       "    <tr>\n",
       "        <td>0</td>\n",
       "        <td>0</td>\n",
       "        <td>0</td>\n",
       "        <td>0</td>\n",
       "        <td>0</td>\n",
       "        <td>0</td>\n",
       "        <td>0</td>\n",
       "        <td>0</td>\n",
       "        <td>0</td>\n",
       "        <td>0</td>\n",
       "        <td>0</td>\n",
       "        <td>0</td>\n",
       "        <td>0</td>\n",
       "        <td>0</td>\n",
       "        <td>0</td>\n",
       "        <td>0</td>\n",
       "    <tr>\n",
       "        <th>15</th>\n",
       "        <th>14</th>\n",
       "        <th>13</th>\n",
       "        <th>12</th>\n",
       "        <th>11</th>\n",
       "        <th>10</th>\n",
       "        <th>9</th>\n",
       "        <th>8</th>\n",
       "        <th>7</th>\n",
       "        <th>6</th>\n",
       "        <th>5</th>\n",
       "        <th>4</th>\n",
       "        <th>3</th>\n",
       "        <th>2</th>\n",
       "        <th>1</th>\n",
       "        <th>0</th>\n",
       "    </tr>\n",
       "    <tr>\n",
       "        <td colspan=\"4\">IC4F[3:0]</td>\n",
       "        <td colspan=\"2\">IC4PSC[1:0]</td>\n",
       "        <td colspan=\"2\">CC4S[1:0]</td>\n",
       "        <td colspan=\"4\">IC3F[3:0]</td>\n",
       "        <td colspan=\"2\">IC3PSC[1:0]</td>\n",
       "        <td colspan=\"2\">CC3S[1:0]</td>\n",
       "    </tr>\n",
       "    <tr>\n",
       "        <td>OC4CE</td>\n",
       "        <td colspan=\"3\">OC4M[2:0]</td>\n",
       "        <td>OC4PE</td>\n",
       "        <td>OC4FE</td>\n",
       "        <td></td>\n",
       "        <td></td>\n",
       "        <td>OC3CE</td>\n",
       "        <td colspan=\"3\">OC3M[2:0]</td>\n",
       "        <td>OC3PE</td>\n",
       "        <td>OC3FE</td>\n",
       "        <td></td>\n",
       "        <td></td>\n",
       "    </tr>\n",
       "    <tr>\n",
       "        <td>0</td>\n",
       "        <td>0</td>\n",
       "        <td>0</td>\n",
       "        <td>0</td>\n",
       "        <td>0</td>\n",
       "        <td>0</td>\n",
       "        <td>0</td>\n",
       "        <td>0</td>\n",
       "        <td>0</td>\n",
       "        <td>0</td>\n",
       "        <td>0</td>\n",
       "        <td>0</td>\n",
       "        <td>0</td>\n",
       "        <td>0</td>\n",
       "        <td>0</td>\n",
       "        <td>0</td>\n",
       "    </tr>\n"
      ]
     },
     "metadata": {},
     "output_type": "display_data"
    },
    {
     "data": {
      "text/plain": [
       "DEC: 0, HEX: 0x00000000"
      ]
     },
     "execution_count": 111,
     "metadata": {},
     "output_type": "execute_result"
    }
   ],
   "execution_count": 111
  },
  {
   "metadata": {
    "ExecuteTime": {
     "end_time": "2024-07-03T11:20:59.381077Z",
     "start_time": "2024-07-03T11:20:59.358133Z"
    }
   },
   "cell_type": "code",
   "source": "TIM5.CCER",
   "id": "cef4c254e2eb3b44",
   "outputs": [
    {
     "data": {
      "text/plain": [
       "<IPython.core.display.HTML object>"
      ],
      "text/html": [
       "<style type=\"text/css\">\n",
       "    table.register th {\n",
       "        font-weight: normal;\n",
       "        text-align: center !important;\n",
       "        padding: 2px;\n",
       "    }\n",
       "    table.register td {\n",
       "        text-align: center !important;\n",
       "        border: 1px solid;\n",
       "        word-wrap: break-word;\n",
       "        padding: 2px;\n",
       "    }\n",
       "    .jp-RenderedHTMLCommon tbody tr:nth-child(even) {\n",
       "        background: var(--jp-layout-color0);\n",
       "    }\n",
       "    .jp-RenderedHTMLCommon tbody tr:hover {\n",
       "        background: rgba(0, 0, 0, 0);\n",
       "    }\n",
       "</style>\n",
       "<table class=\"register\" style=\"width:800px\">\n",
       "    <tr>\n",
       "        <th>31</th>\n",
       "        <th>30</th>\n",
       "        <th>29</th>\n",
       "        <th>28</th>\n",
       "        <th>27</th>\n",
       "        <th>26</th>\n",
       "        <th>25</th>\n",
       "        <th>24</th>\n",
       "        <th>23</th>\n",
       "        <th>22</th>\n",
       "        <th>21</th>\n",
       "        <th>20</th>\n",
       "        <th>19</th>\n",
       "        <th>18</th>\n",
       "        <th>17</th>\n",
       "        <th>16</th>\n",
       "    </tr>\n",
       "    <tr>\n",
       "        <td></td>\n",
       "        <td></td>\n",
       "        <td></td>\n",
       "        <td></td>\n",
       "        <td></td>\n",
       "        <td></td>\n",
       "        <td></td>\n",
       "        <td></td>\n",
       "        <td></td>\n",
       "        <td></td>\n",
       "        <td>CC6P</td>\n",
       "        <td>CC6E</td>\n",
       "        <td></td>\n",
       "        <td></td>\n",
       "        <td>CC5P</td>\n",
       "        <td>CC5E</td>\n",
       "    </tr>\n",
       "    <tr>\n",
       "        <td>0</td>\n",
       "        <td>0</td>\n",
       "        <td>0</td>\n",
       "        <td>0</td>\n",
       "        <td>0</td>\n",
       "        <td>0</td>\n",
       "        <td>0</td>\n",
       "        <td>0</td>\n",
       "        <td>0</td>\n",
       "        <td>0</td>\n",
       "        <td>0</td>\n",
       "        <td>0</td>\n",
       "        <td>0</td>\n",
       "        <td>0</td>\n",
       "        <td>0</td>\n",
       "        <td>0</td>\n",
       "    <tr>\n",
       "        <th>15</th>\n",
       "        <th>14</th>\n",
       "        <th>13</th>\n",
       "        <th>12</th>\n",
       "        <th>11</th>\n",
       "        <th>10</th>\n",
       "        <th>9</th>\n",
       "        <th>8</th>\n",
       "        <th>7</th>\n",
       "        <th>6</th>\n",
       "        <th>5</th>\n",
       "        <th>4</th>\n",
       "        <th>3</th>\n",
       "        <th>2</th>\n",
       "        <th>1</th>\n",
       "        <th>0</th>\n",
       "    </tr>\n",
       "    <tr>\n",
       "        <td>CC4NP</td>\n",
       "        <td>CC4NE</td>\n",
       "        <td>CC4P</td>\n",
       "        <td>CC4E</td>\n",
       "        <td>CC3NP</td>\n",
       "        <td>CC3NE</td>\n",
       "        <td>CC3P</td>\n",
       "        <td>CC3E</td>\n",
       "        <td>CC2NP</td>\n",
       "        <td>CC2NE</td>\n",
       "        <td>CC2P</td>\n",
       "        <td>CC2E</td>\n",
       "        <td>CC1NP</td>\n",
       "        <td>CC1NE</td>\n",
       "        <td>CC1P</td>\n",
       "        <td>CC1E</td>\n",
       "    </tr>\n",
       "    <tr>\n",
       "        <td>0</td>\n",
       "        <td>0</td>\n",
       "        <td>0</td>\n",
       "        <td>0</td>\n",
       "        <td>0</td>\n",
       "        <td>0</td>\n",
       "        <td>0</td>\n",
       "        <td>0</td>\n",
       "        <td>0</td>\n",
       "        <td>0</td>\n",
       "        <td>0</td>\n",
       "        <td>0</td>\n",
       "        <td>0</td>\n",
       "        <td>0</td>\n",
       "        <td>0</td>\n",
       "        <td>0</td>\n",
       "    </tr>\n"
      ]
     },
     "metadata": {},
     "output_type": "display_data"
    },
    {
     "data": {
      "text/plain": [
       "DEC: 0, HEX: 0x00000000"
      ]
     },
     "execution_count": 112,
     "metadata": {},
     "output_type": "execute_result"
    }
   ],
   "execution_count": 112
  },
  {
   "metadata": {
    "ExecuteTime": {
     "end_time": "2024-07-03T11:20:59.388199Z",
     "start_time": "2024-07-03T11:20:59.382321Z"
    }
   },
   "cell_type": "code",
   "source": "TIM5.CCER = 0X00000333",
   "id": "43888e7ebbbea775",
   "outputs": [],
   "execution_count": 113
  },
  {
   "metadata": {
    "ExecuteTime": {
     "end_time": "2024-07-03T11:21:00.439353Z",
     "start_time": "2024-07-03T11:20:59.389061Z"
    }
   },
   "cell_type": "code",
   "source": "TIM5.CCER",
   "id": "9666ff1b98b2b81d",
   "outputs": [
    {
     "name": "stdout",
     "output_type": "stream",
     "text": [
      "Format error\n"
     ]
    },
    {
     "ename": "IndexError",
     "evalue": "index out of range",
     "output_type": "error",
     "traceback": [
      "\u001B[1;31m---------------------------------------------------------------------------\u001B[0m",
      "\u001B[1;31mIndexError\u001B[0m                                Traceback (most recent call last)",
      "File \u001B[1;32mC:\\ProgramData\\anaconda3\\Lib\\site-packages\\IPython\\core\\formatters.py:708\u001B[0m, in \u001B[0;36mPlainTextFormatter.__call__\u001B[1;34m(self, obj)\u001B[0m\n\u001B[0;32m    701\u001B[0m stream \u001B[38;5;241m=\u001B[39m StringIO()\n\u001B[0;32m    702\u001B[0m printer \u001B[38;5;241m=\u001B[39m pretty\u001B[38;5;241m.\u001B[39mRepresentationPrinter(stream, \u001B[38;5;28mself\u001B[39m\u001B[38;5;241m.\u001B[39mverbose,\n\u001B[0;32m    703\u001B[0m     \u001B[38;5;28mself\u001B[39m\u001B[38;5;241m.\u001B[39mmax_width, \u001B[38;5;28mself\u001B[39m\u001B[38;5;241m.\u001B[39mnewline,\n\u001B[0;32m    704\u001B[0m     max_seq_length\u001B[38;5;241m=\u001B[39m\u001B[38;5;28mself\u001B[39m\u001B[38;5;241m.\u001B[39mmax_seq_length,\n\u001B[0;32m    705\u001B[0m     singleton_pprinters\u001B[38;5;241m=\u001B[39m\u001B[38;5;28mself\u001B[39m\u001B[38;5;241m.\u001B[39msingleton_printers,\n\u001B[0;32m    706\u001B[0m     type_pprinters\u001B[38;5;241m=\u001B[39m\u001B[38;5;28mself\u001B[39m\u001B[38;5;241m.\u001B[39mtype_printers,\n\u001B[0;32m    707\u001B[0m     deferred_pprinters\u001B[38;5;241m=\u001B[39m\u001B[38;5;28mself\u001B[39m\u001B[38;5;241m.\u001B[39mdeferred_printers)\n\u001B[1;32m--> 708\u001B[0m printer\u001B[38;5;241m.\u001B[39mpretty(obj)\n\u001B[0;32m    709\u001B[0m printer\u001B[38;5;241m.\u001B[39mflush()\n\u001B[0;32m    710\u001B[0m \u001B[38;5;28;01mreturn\u001B[39;00m stream\u001B[38;5;241m.\u001B[39mgetvalue()\n",
      "File \u001B[1;32mC:\\ProgramData\\anaconda3\\Lib\\site-packages\\IPython\\lib\\pretty.py:410\u001B[0m, in \u001B[0;36mRepresentationPrinter.pretty\u001B[1;34m(self, obj)\u001B[0m\n\u001B[0;32m    407\u001B[0m                         \u001B[38;5;28;01mreturn\u001B[39;00m meth(obj, \u001B[38;5;28mself\u001B[39m, cycle)\n\u001B[0;32m    408\u001B[0m                 \u001B[38;5;28;01mif\u001B[39;00m \u001B[38;5;28mcls\u001B[39m \u001B[38;5;129;01mis\u001B[39;00m \u001B[38;5;129;01mnot\u001B[39;00m \u001B[38;5;28mobject\u001B[39m \\\n\u001B[0;32m    409\u001B[0m                         \u001B[38;5;129;01mand\u001B[39;00m \u001B[38;5;28mcallable\u001B[39m(\u001B[38;5;28mcls\u001B[39m\u001B[38;5;241m.\u001B[39m\u001B[38;5;18m__dict__\u001B[39m\u001B[38;5;241m.\u001B[39mget(\u001B[38;5;124m'\u001B[39m\u001B[38;5;124m__repr__\u001B[39m\u001B[38;5;124m'\u001B[39m)):\n\u001B[1;32m--> 410\u001B[0m                     \u001B[38;5;28;01mreturn\u001B[39;00m _repr_pprint(obj, \u001B[38;5;28mself\u001B[39m, cycle)\n\u001B[0;32m    412\u001B[0m     \u001B[38;5;28;01mreturn\u001B[39;00m _default_pprint(obj, \u001B[38;5;28mself\u001B[39m, cycle)\n\u001B[0;32m    413\u001B[0m \u001B[38;5;28;01mfinally\u001B[39;00m:\n",
      "File \u001B[1;32mC:\\ProgramData\\anaconda3\\Lib\\site-packages\\IPython\\lib\\pretty.py:778\u001B[0m, in \u001B[0;36m_repr_pprint\u001B[1;34m(obj, p, cycle)\u001B[0m\n\u001B[0;32m    776\u001B[0m \u001B[38;5;250m\u001B[39m\u001B[38;5;124;03m\"\"\"A pprint that just redirects to the normal repr function.\"\"\"\u001B[39;00m\n\u001B[0;32m    777\u001B[0m \u001B[38;5;66;03m# Find newlines and replace them with p.break_()\u001B[39;00m\n\u001B[1;32m--> 778\u001B[0m output \u001B[38;5;241m=\u001B[39m \u001B[38;5;28mrepr\u001B[39m(obj)\n\u001B[0;32m    779\u001B[0m lines \u001B[38;5;241m=\u001B[39m output\u001B[38;5;241m.\u001B[39msplitlines()\n\u001B[0;32m    780\u001B[0m \u001B[38;5;28;01mwith\u001B[39;00m p\u001B[38;5;241m.\u001B[39mgroup():\n",
      "File \u001B[1;32mD:\\my_write_stm32cube\\SerialRegister-main\\SerialRegister-main\\Jupyter\\register.py:319\u001B[0m, in \u001B[0;36mRegisterBase.__repr__\u001B[1;34m(self)\u001B[0m\n\u001B[0;32m    318\u001B[0m \u001B[38;5;28;01mdef\u001B[39;00m \u001B[38;5;21m__repr__\u001B[39m(\u001B[38;5;28mself\u001B[39m):\n\u001B[1;32m--> 319\u001B[0m     value \u001B[38;5;241m=\u001B[39m \u001B[38;5;28mself\u001B[39m\u001B[38;5;241m.\u001B[39mread()\n\u001B[0;32m    320\u001B[0m     info \u001B[38;5;241m=\u001B[39m \u001B[38;5;124mf\u001B[39m\u001B[38;5;124m\"\u001B[39m\u001B[38;5;124mDEC: \u001B[39m\u001B[38;5;132;01m{\u001B[39;00mvalue\u001B[38;5;132;01m}\u001B[39;00m\u001B[38;5;124m, HEX: \u001B[39m\u001B[38;5;132;01m{\u001B[39;00mhex_repr(value)\u001B[38;5;132;01m}\u001B[39;00m\u001B[38;5;124m\"\u001B[39m\n\u001B[0;32m    322\u001B[0m     \u001B[38;5;28mself\u001B[39m\u001B[38;5;241m.\u001B[39mstructure(value)\n",
      "File \u001B[1;32mD:\\my_write_stm32cube\\SerialRegister-main\\SerialRegister-main\\Jupyter\\register.py:331\u001B[0m, in \u001B[0;36mRegisterBase.read\u001B[1;34m(self, mask, direct)\u001B[0m\n\u001B[0;32m    330\u001B[0m \u001B[38;5;28;01mdef\u001B[39;00m \u001B[38;5;21mread\u001B[39m(\u001B[38;5;28mself\u001B[39m, mask\u001B[38;5;241m=\u001B[39mMASK_32B, direct\u001B[38;5;241m=\u001B[39m\u001B[38;5;28;01mFalse\u001B[39;00m):\n\u001B[1;32m--> 331\u001B[0m     result \u001B[38;5;241m=\u001B[39m read_register(\u001B[38;5;28mself\u001B[39m\u001B[38;5;241m.\u001B[39maddress, mask)\n\u001B[0;32m    332\u001B[0m     \u001B[38;5;28;01mreturn\u001B[39;00m result\n",
      "File \u001B[1;32mD:\\my_write_stm32cube\\SerialRegister-main\\SerialRegister-main\\Jupyter\\register.py:146\u001B[0m, in \u001B[0;36mread_register\u001B[1;34m(addr, mask, direct)\u001B[0m\n\u001B[0;32m    143\u001B[0m serial_transmit(bs)\n\u001B[0;32m    145\u001B[0m bs \u001B[38;5;241m=\u001B[39m serial_receive(\u001B[38;5;241m4\u001B[39m)\n\u001B[1;32m--> 146\u001B[0m value \u001B[38;5;241m=\u001B[39m bs[\u001B[38;5;241m0\u001B[39m] \u001B[38;5;241m|\u001B[39m bs[\u001B[38;5;241m1\u001B[39m]\u001B[38;5;241m<<\u001B[39m\u001B[38;5;241m8\u001B[39m \u001B[38;5;241m|\u001B[39m bs[\u001B[38;5;241m2\u001B[39m]\u001B[38;5;241m<<\u001B[39m\u001B[38;5;241m16\u001B[39m \u001B[38;5;241m|\u001B[39m bs[\u001B[38;5;241m3\u001B[39m]\u001B[38;5;241m<<\u001B[39m\u001B[38;5;241m24\u001B[39m\n\u001B[0;32m    148\u001B[0m \u001B[38;5;28;01mif\u001B[39;00m \u001B[38;5;129;01mnot\u001B[39;00m direct:\n\u001B[0;32m    149\u001B[0m     value \u001B[38;5;241m=\u001B[39m mask_shr(value, mask)\n",
      "\u001B[1;31mIndexError\u001B[0m: index out of range"
     ]
    }
   ],
   "execution_count": 114
  },
  {
   "metadata": {
    "ExecuteTime": {
     "end_time": "2024-07-03T11:21:00.451076Z",
     "start_time": "2024-07-03T11:21:00.439353Z"
    }
   },
   "cell_type": "code",
   "source": "TIM5.BDTR",
   "id": "f3c5cf7b8289cee4",
   "outputs": [
    {
     "data": {
      "text/plain": [
       "<IPython.core.display.HTML object>"
      ],
      "text/html": [
       "<style type=\"text/css\">\n",
       "    table.register th {\n",
       "        font-weight: normal;\n",
       "        text-align: center !important;\n",
       "        padding: 2px;\n",
       "    }\n",
       "    table.register td {\n",
       "        text-align: center !important;\n",
       "        border: 1px solid;\n",
       "        word-wrap: break-word;\n",
       "        padding: 2px;\n",
       "    }\n",
       "    .jp-RenderedHTMLCommon tbody tr:nth-child(even) {\n",
       "        background: var(--jp-layout-color0);\n",
       "    }\n",
       "    .jp-RenderedHTMLCommon tbody tr:hover {\n",
       "        background: rgba(0, 0, 0, 0);\n",
       "    }\n",
       "</style>\n",
       "<table class=\"register\" style=\"width:800px\">\n",
       "    <tr>\n",
       "        <th>31</th>\n",
       "        <th>30</th>\n",
       "        <th>29</th>\n",
       "        <th>28</th>\n",
       "        <th>27</th>\n",
       "        <th>26</th>\n",
       "        <th>25</th>\n",
       "        <th>24</th>\n",
       "        <th>23</th>\n",
       "        <th>22</th>\n",
       "        <th>21</th>\n",
       "        <th>20</th>\n",
       "        <th>19</th>\n",
       "        <th>18</th>\n",
       "        <th>17</th>\n",
       "        <th>16</th>\n",
       "    </tr>\n",
       "    <tr>\n",
       "        <td></td>\n",
       "        <td></td>\n",
       "        <td>BK2BID</td>\n",
       "        <td>BKBID</td>\n",
       "        <td>BK2DSRM</td>\n",
       "        <td>BKDSRM</td>\n",
       "        <td>BK2P</td>\n",
       "        <td>BK2E</td>\n",
       "        <td colspan=\"4\">BK2F[3:0]</td>\n",
       "        <td colspan=\"4\">BKF[3:0]</td>\n",
       "    </tr>\n",
       "    <tr>\n",
       "        <td>0</td>\n",
       "        <td>0</td>\n",
       "        <td>0</td>\n",
       "        <td>0</td>\n",
       "        <td>0</td>\n",
       "        <td>0</td>\n",
       "        <td>0</td>\n",
       "        <td>0</td>\n",
       "        <td>0</td>\n",
       "        <td>0</td>\n",
       "        <td>0</td>\n",
       "        <td>0</td>\n",
       "        <td>0</td>\n",
       "        <td>0</td>\n",
       "        <td>0</td>\n",
       "        <td>0</td>\n",
       "    <tr>\n",
       "        <th>15</th>\n",
       "        <th>14</th>\n",
       "        <th>13</th>\n",
       "        <th>12</th>\n",
       "        <th>11</th>\n",
       "        <th>10</th>\n",
       "        <th>9</th>\n",
       "        <th>8</th>\n",
       "        <th>7</th>\n",
       "        <th>6</th>\n",
       "        <th>5</th>\n",
       "        <th>4</th>\n",
       "        <th>3</th>\n",
       "        <th>2</th>\n",
       "        <th>1</th>\n",
       "        <th>0</th>\n",
       "    </tr>\n",
       "    <tr>\n",
       "        <td>MOE</td>\n",
       "        <td>AOE</td>\n",
       "        <td>BKP</td>\n",
       "        <td>BKE</td>\n",
       "        <td>OSSR</td>\n",
       "        <td>OSSI</td>\n",
       "        <td colspan=\"2\">LOCK[1:0]</td>\n",
       "        <td colspan=\"8\">DTG[7:0]</td>\n",
       "    </tr>\n",
       "    <tr>\n",
       "        <td>0</td>\n",
       "        <td>0</td>\n",
       "        <td>0</td>\n",
       "        <td>0</td>\n",
       "        <td>0</td>\n",
       "        <td>0</td>\n",
       "        <td>0</td>\n",
       "        <td>0</td>\n",
       "        <td>0</td>\n",
       "        <td>0</td>\n",
       "        <td>0</td>\n",
       "        <td>0</td>\n",
       "        <td>0</td>\n",
       "        <td>0</td>\n",
       "        <td>0</td>\n",
       "        <td>0</td>\n",
       "    </tr>\n"
      ]
     },
     "metadata": {},
     "output_type": "display_data"
    },
    {
     "data": {
      "text/plain": [
       "DEC: 0, HEX: 0x00000000"
      ]
     },
     "execution_count": 115,
     "metadata": {},
     "output_type": "execute_result"
    }
   ],
   "execution_count": 115
  },
  {
   "metadata": {
    "ExecuteTime": {
     "end_time": "2024-07-03T11:21:00.456449Z",
     "start_time": "2024-07-03T11:21:00.451076Z"
    }
   },
   "cell_type": "code",
   "source": "",
   "id": "eae2893ce4961626",
   "outputs": [],
   "execution_count": 115
  },
  {
   "metadata": {
    "ExecuteTime": {
     "end_time": "2024-07-03T11:21:00.461022Z",
     "start_time": "2024-07-03T11:21:00.458039Z"
    }
   },
   "cell_type": "code",
   "source": "",
   "id": "8e4c0aae0ee80498",
   "outputs": [],
   "execution_count": 115
  },
  {
   "metadata": {
    "ExecuteTime": {
     "end_time": "2024-07-03T11:21:00.468324Z",
     "start_time": "2024-07-03T11:21:00.462671Z"
    }
   },
   "cell_type": "code",
   "source": "TIM5.PSC = 0",
   "id": "105045fe422561fe",
   "outputs": [],
   "execution_count": 116
  },
  {
   "metadata": {
    "ExecuteTime": {
     "end_time": "2024-07-03T11:21:00.478125Z",
     "start_time": "2024-07-03T11:21:00.471118Z"
    }
   },
   "cell_type": "code",
   "source": "TIM5.ARR = 99",
   "id": "98af7464505e49e5",
   "outputs": [],
   "execution_count": 117
  },
  {
   "metadata": {
    "ExecuteTime": {
     "end_time": "2024-07-03T11:21:00.488901Z",
     "start_time": "2024-07-03T11:21:00.479663Z"
    }
   },
   "cell_type": "code",
   "source": "TIM5.CR1 = 1",
   "id": "46ecd67126ef680c",
   "outputs": [],
   "execution_count": 118
  },
  {
   "metadata": {
    "ExecuteTime": {
     "end_time": "2024-07-03T11:21:00.495725Z",
     "start_time": "2024-07-03T11:21:00.488901Z"
    }
   },
   "cell_type": "code",
   "source": "TIM5.CCR1 = 50",
   "id": "418fa79479523498",
   "outputs": [],
   "execution_count": 119
  },
  {
   "metadata": {
    "ExecuteTime": {
     "end_time": "2024-07-03T11:21:00.501971Z",
     "start_time": "2024-07-03T11:21:00.497243Z"
    }
   },
   "cell_type": "code",
   "source": "TIM5.CCR1 = 0",
   "id": "e5a0a0dabbb964df",
   "outputs": [],
   "execution_count": 120
  },
  {
   "metadata": {
    "ExecuteTime": {
     "end_time": "2024-07-03T11:21:00.510721Z",
     "start_time": "2024-07-03T11:21:00.503827Z"
    }
   },
   "cell_type": "code",
   "source": "TIM5.CCR2 = 50",
   "id": "1a6afb9b156e4926",
   "outputs": [],
   "execution_count": 121
  },
  {
   "metadata": {
    "ExecuteTime": {
     "end_time": "2024-07-03T11:21:00.518326Z",
     "start_time": "2024-07-03T11:21:00.512162Z"
    }
   },
   "cell_type": "code",
   "source": "TIM5.CCR2 = 0",
   "id": "4b94423f5e3dd289",
   "outputs": [],
   "execution_count": 122
  },
  {
   "metadata": {
    "ExecuteTime": {
     "end_time": "2024-07-03T11:21:00.526364Z",
     "start_time": "2024-07-03T11:21:00.519931Z"
    }
   },
   "cell_type": "code",
   "source": "TIM5.CCR3 = 50",
   "id": "bc5435b0df709472",
   "outputs": [],
   "execution_count": 123
  },
  {
   "metadata": {
    "ExecuteTime": {
     "end_time": "2024-07-03T11:21:00.534261Z",
     "start_time": "2024-07-03T11:21:00.528651Z"
    }
   },
   "cell_type": "code",
   "source": "TIM5.CCR3 = 0",
   "id": "39df28f9a3a8e77",
   "outputs": [],
   "execution_count": 124
  },
  {
   "metadata": {
    "ExecuteTime": {
     "end_time": "2024-07-03T11:21:00.543452Z",
     "start_time": "2024-07-03T11:21:00.535292Z"
    }
   },
   "cell_type": "code",
   "source": "TIM5.CCR1 = 0",
   "id": "8d898d7f0bfd1c81",
   "outputs": [],
   "execution_count": 125
  },
  {
   "metadata": {
    "ExecuteTime": {
     "end_time": "2024-07-03T11:21:00.553119Z",
     "start_time": "2024-07-03T11:21:00.544462Z"
    }
   },
   "cell_type": "code",
   "source": "TIM5.CCR1 = 100",
   "id": "f08679932e26b629",
   "outputs": [],
   "execution_count": 126
  },
  {
   "metadata": {
    "ExecuteTime": {
     "end_time": "2024-07-03T11:21:00.561097Z",
     "start_time": "2024-07-03T11:21:00.556471Z"
    }
   },
   "cell_type": "code",
   "source": "TIM5.CCR1 = 0",
   "id": "a0d25023f1e69c9d",
   "outputs": [],
   "execution_count": 127
  },
  {
   "metadata": {
    "ExecuteTime": {
     "end_time": "2024-07-03T11:21:00.568466Z",
     "start_time": "2024-07-03T11:21:00.562456Z"
    }
   },
   "cell_type": "code",
   "source": "TIM5.CCR2 = 0",
   "id": "87da0a71be25e53e",
   "outputs": [],
   "execution_count": 128
  },
  {
   "metadata": {
    "ExecuteTime": {
     "end_time": "2024-07-03T11:21:00.576916Z",
     "start_time": "2024-07-03T11:21:00.569873Z"
    }
   },
   "cell_type": "code",
   "source": "TIM5.CCR1 = 10",
   "id": "2cea86304a1bebc1",
   "outputs": [],
   "execution_count": 129
  },
  {
   "metadata": {
    "ExecuteTime": {
     "end_time": "2024-07-03T11:21:00.583894Z",
     "start_time": "2024-07-03T11:21:00.578044Z"
    }
   },
   "cell_type": "code",
   "source": "TIM5.CCR1 = 100",
   "id": "2e93b04f1e71d4f8",
   "outputs": [],
   "execution_count": 130
  },
  {
   "metadata": {
    "ExecuteTime": {
     "end_time": "2024-07-03T11:21:00.589566Z",
     "start_time": "2024-07-03T11:21:00.584908Z"
    }
   },
   "cell_type": "code",
   "source": "",
   "id": "d13471c21c788c1a",
   "outputs": [],
   "execution_count": 130
  }
 ],
 "metadata": {
  "kernelspec": {
   "display_name": "Python 3",
   "language": "python",
   "name": "python3"
  },
  "language_info": {
   "codemirror_mode": {
    "name": "ipython",
    "version": 2
   },
   "file_extension": ".py",
   "mimetype": "text/x-python",
   "name": "python",
   "nbconvert_exporter": "python",
   "pygments_lexer": "ipython2",
   "version": "2.7.6"
  }
 },
 "nbformat": 4,
 "nbformat_minor": 5
}
