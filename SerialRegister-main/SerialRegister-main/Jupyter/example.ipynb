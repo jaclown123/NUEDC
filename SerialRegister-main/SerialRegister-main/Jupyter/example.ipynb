{
 "cells": [
  {
   "cell_type": "code",
   "id": "e4a1eb6f-bec8-4b89-9d5f-331bbd830807",
   "metadata": {
    "ExecuteTime": {
     "end_time": "2024-06-30T17:18:17.807231Z",
     "start_time": "2024-06-30T17:18:17.758410Z"
    }
   },
   "source": [
    "from g474 import *"
   ],
   "outputs": [],
   "execution_count": 118
  },
  {
   "cell_type": "code",
   "id": "e2a38d86-4ebf-4f2f-9cea-ee52e4367969",
   "metadata": {
    "ExecuteTime": {
     "end_time": "2024-06-30T17:18:20.634642Z",
     "start_time": "2024-06-30T17:18:19.741309Z"
    }
   },
   "source": [
    "TIM1.CR1"
   ],
   "outputs": [
    {
     "ename": "SerialException",
     "evalue": "WriteFile failed (PermissionError(13, '设备不识别此命令。', None, 22))",
     "output_type": "error",
     "traceback": [
      "\u001B[1;31m---------------------------------------------------------------------------\u001B[0m",
      "\u001B[1;31mSerialException\u001B[0m                           Traceback (most recent call last)",
      "File \u001B[1;32mC:\\ProgramData\\anaconda3\\Lib\\site-packages\\IPython\\core\\formatters.py:708\u001B[0m, in \u001B[0;36mPlainTextFormatter.__call__\u001B[1;34m(self, obj)\u001B[0m\n\u001B[0;32m    701\u001B[0m stream \u001B[38;5;241m=\u001B[39m StringIO()\n\u001B[0;32m    702\u001B[0m printer \u001B[38;5;241m=\u001B[39m pretty\u001B[38;5;241m.\u001B[39mRepresentationPrinter(stream, \u001B[38;5;28mself\u001B[39m\u001B[38;5;241m.\u001B[39mverbose,\n\u001B[0;32m    703\u001B[0m     \u001B[38;5;28mself\u001B[39m\u001B[38;5;241m.\u001B[39mmax_width, \u001B[38;5;28mself\u001B[39m\u001B[38;5;241m.\u001B[39mnewline,\n\u001B[0;32m    704\u001B[0m     max_seq_length\u001B[38;5;241m=\u001B[39m\u001B[38;5;28mself\u001B[39m\u001B[38;5;241m.\u001B[39mmax_seq_length,\n\u001B[0;32m    705\u001B[0m     singleton_pprinters\u001B[38;5;241m=\u001B[39m\u001B[38;5;28mself\u001B[39m\u001B[38;5;241m.\u001B[39msingleton_printers,\n\u001B[0;32m    706\u001B[0m     type_pprinters\u001B[38;5;241m=\u001B[39m\u001B[38;5;28mself\u001B[39m\u001B[38;5;241m.\u001B[39mtype_printers,\n\u001B[0;32m    707\u001B[0m     deferred_pprinters\u001B[38;5;241m=\u001B[39m\u001B[38;5;28mself\u001B[39m\u001B[38;5;241m.\u001B[39mdeferred_printers)\n\u001B[1;32m--> 708\u001B[0m printer\u001B[38;5;241m.\u001B[39mpretty(obj)\n\u001B[0;32m    709\u001B[0m printer\u001B[38;5;241m.\u001B[39mflush()\n\u001B[0;32m    710\u001B[0m \u001B[38;5;28;01mreturn\u001B[39;00m stream\u001B[38;5;241m.\u001B[39mgetvalue()\n",
      "File \u001B[1;32mC:\\ProgramData\\anaconda3\\Lib\\site-packages\\IPython\\lib\\pretty.py:410\u001B[0m, in \u001B[0;36mRepresentationPrinter.pretty\u001B[1;34m(self, obj)\u001B[0m\n\u001B[0;32m    407\u001B[0m                         \u001B[38;5;28;01mreturn\u001B[39;00m meth(obj, \u001B[38;5;28mself\u001B[39m, cycle)\n\u001B[0;32m    408\u001B[0m                 \u001B[38;5;28;01mif\u001B[39;00m \u001B[38;5;28mcls\u001B[39m \u001B[38;5;129;01mis\u001B[39;00m \u001B[38;5;129;01mnot\u001B[39;00m \u001B[38;5;28mobject\u001B[39m \\\n\u001B[0;32m    409\u001B[0m                         \u001B[38;5;129;01mand\u001B[39;00m \u001B[38;5;28mcallable\u001B[39m(\u001B[38;5;28mcls\u001B[39m\u001B[38;5;241m.\u001B[39m\u001B[38;5;18m__dict__\u001B[39m\u001B[38;5;241m.\u001B[39mget(\u001B[38;5;124m'\u001B[39m\u001B[38;5;124m__repr__\u001B[39m\u001B[38;5;124m'\u001B[39m)):\n\u001B[1;32m--> 410\u001B[0m                     \u001B[38;5;28;01mreturn\u001B[39;00m _repr_pprint(obj, \u001B[38;5;28mself\u001B[39m, cycle)\n\u001B[0;32m    412\u001B[0m     \u001B[38;5;28;01mreturn\u001B[39;00m _default_pprint(obj, \u001B[38;5;28mself\u001B[39m, cycle)\n\u001B[0;32m    413\u001B[0m \u001B[38;5;28;01mfinally\u001B[39;00m:\n",
      "File \u001B[1;32mC:\\ProgramData\\anaconda3\\Lib\\site-packages\\IPython\\lib\\pretty.py:778\u001B[0m, in \u001B[0;36m_repr_pprint\u001B[1;34m(obj, p, cycle)\u001B[0m\n\u001B[0;32m    776\u001B[0m \u001B[38;5;250m\u001B[39m\u001B[38;5;124;03m\"\"\"A pprint that just redirects to the normal repr function.\"\"\"\u001B[39;00m\n\u001B[0;32m    777\u001B[0m \u001B[38;5;66;03m# Find newlines and replace them with p.break_()\u001B[39;00m\n\u001B[1;32m--> 778\u001B[0m output \u001B[38;5;241m=\u001B[39m \u001B[38;5;28mrepr\u001B[39m(obj)\n\u001B[0;32m    779\u001B[0m lines \u001B[38;5;241m=\u001B[39m output\u001B[38;5;241m.\u001B[39msplitlines()\n\u001B[0;32m    780\u001B[0m \u001B[38;5;28;01mwith\u001B[39;00m p\u001B[38;5;241m.\u001B[39mgroup():\n",
      "File \u001B[1;32mD:\\my_write_stm32cube\\SerialRegister-main\\SerialRegister-main\\Jupyter\\register.py:319\u001B[0m, in \u001B[0;36mRegisterBase.__repr__\u001B[1;34m(self)\u001B[0m\n\u001B[0;32m    318\u001B[0m \u001B[38;5;28;01mdef\u001B[39;00m \u001B[38;5;21m__repr__\u001B[39m(\u001B[38;5;28mself\u001B[39m):\n\u001B[1;32m--> 319\u001B[0m     value \u001B[38;5;241m=\u001B[39m \u001B[38;5;28mself\u001B[39m\u001B[38;5;241m.\u001B[39mread()\n\u001B[0;32m    320\u001B[0m     info \u001B[38;5;241m=\u001B[39m \u001B[38;5;124mf\u001B[39m\u001B[38;5;124m\"\u001B[39m\u001B[38;5;124mDEC: \u001B[39m\u001B[38;5;132;01m{\u001B[39;00mvalue\u001B[38;5;132;01m}\u001B[39;00m\u001B[38;5;124m, HEX: \u001B[39m\u001B[38;5;132;01m{\u001B[39;00mhex_repr(value)\u001B[38;5;132;01m}\u001B[39;00m\u001B[38;5;124m\"\u001B[39m\n\u001B[0;32m    322\u001B[0m     \u001B[38;5;28mself\u001B[39m\u001B[38;5;241m.\u001B[39mstructure(value)\n",
      "File \u001B[1;32mD:\\my_write_stm32cube\\SerialRegister-main\\SerialRegister-main\\Jupyter\\register.py:331\u001B[0m, in \u001B[0;36mRegisterBase.read\u001B[1;34m(self, mask, direct)\u001B[0m\n\u001B[0;32m    330\u001B[0m \u001B[38;5;28;01mdef\u001B[39;00m \u001B[38;5;21mread\u001B[39m(\u001B[38;5;28mself\u001B[39m, mask\u001B[38;5;241m=\u001B[39mMASK_32B, direct\u001B[38;5;241m=\u001B[39m\u001B[38;5;28;01mFalse\u001B[39;00m):\n\u001B[1;32m--> 331\u001B[0m     result \u001B[38;5;241m=\u001B[39m read_register(\u001B[38;5;28mself\u001B[39m\u001B[38;5;241m.\u001B[39maddress, mask)\n\u001B[0;32m    332\u001B[0m     \u001B[38;5;28;01mreturn\u001B[39;00m result\n",
      "File \u001B[1;32mD:\\my_write_stm32cube\\SerialRegister-main\\SerialRegister-main\\Jupyter\\register.py:143\u001B[0m, in \u001B[0;36mread_register\u001B[1;34m(addr, mask, direct)\u001B[0m\n\u001B[0;32m    141\u001B[0m bs \u001B[38;5;241m=\u001B[39m \u001B[38;5;124m\"\u001B[39m\u001B[38;5;124mRDR:\u001B[39m\u001B[38;5;124m\"\u001B[39m\u001B[38;5;241m.\u001B[39mencode()\n\u001B[0;32m    142\u001B[0m bs \u001B[38;5;241m+\u001B[39m\u001B[38;5;241m=\u001B[39m to_4bytes(addr)\n\u001B[1;32m--> 143\u001B[0m serial_transmit(bs)\n\u001B[0;32m    145\u001B[0m bs \u001B[38;5;241m=\u001B[39m serial_receive(\u001B[38;5;241m4\u001B[39m)\n\u001B[0;32m    146\u001B[0m value \u001B[38;5;241m=\u001B[39m bs[\u001B[38;5;241m0\u001B[39m] \u001B[38;5;241m|\u001B[39m bs[\u001B[38;5;241m1\u001B[39m]\u001B[38;5;241m<<\u001B[39m\u001B[38;5;241m8\u001B[39m \u001B[38;5;241m|\u001B[39m bs[\u001B[38;5;241m2\u001B[39m]\u001B[38;5;241m<<\u001B[39m\u001B[38;5;241m16\u001B[39m \u001B[38;5;241m|\u001B[39m bs[\u001B[38;5;241m3\u001B[39m]\u001B[38;5;241m<<\u001B[39m\u001B[38;5;241m24\u001B[39m\n",
      "File \u001B[1;32mD:\\my_write_stm32cube\\SerialRegister-main\\SerialRegister-main\\Jupyter\\register.py:63\u001B[0m, in \u001B[0;36mserial_transmit\u001B[1;34m(bs)\u001B[0m\n\u001B[0;32m     60\u001B[0m crc \u001B[38;5;241m=\u001B[39m crc_calc\u001B[38;5;241m.\u001B[39mchecksum(bs)\n\u001B[0;32m     61\u001B[0m data \u001B[38;5;241m+\u001B[39m\u001B[38;5;241m=\u001B[39m [crc \u001B[38;5;241m%\u001B[39m \u001B[38;5;241m256\u001B[39m, crc \u001B[38;5;241m/\u001B[39m\u001B[38;5;241m/\u001B[39m \u001B[38;5;241m256\u001B[39m]\n\u001B[1;32m---> 63\u001B[0m ser\u001B[38;5;241m.\u001B[39mwrite(data)\n",
      "File \u001B[1;32m~\\AppData\\Roaming\\Python\\Python311\\site-packages\\serial\\serialwin32.py:317\u001B[0m, in \u001B[0;36mSerial.write\u001B[1;34m(self, data)\u001B[0m\n\u001B[0;32m    315\u001B[0m \u001B[38;5;28;01mif\u001B[39;00m \u001B[38;5;28mself\u001B[39m\u001B[38;5;241m.\u001B[39m_write_timeout \u001B[38;5;241m!=\u001B[39m \u001B[38;5;241m0\u001B[39m:  \u001B[38;5;66;03m# if blocking (None) or w/ write timeout (>0)\u001B[39;00m\n\u001B[0;32m    316\u001B[0m     \u001B[38;5;28;01mif\u001B[39;00m \u001B[38;5;129;01mnot\u001B[39;00m success \u001B[38;5;129;01mand\u001B[39;00m win32\u001B[38;5;241m.\u001B[39mGetLastError() \u001B[38;5;129;01mnot\u001B[39;00m \u001B[38;5;129;01min\u001B[39;00m (win32\u001B[38;5;241m.\u001B[39mERROR_SUCCESS, win32\u001B[38;5;241m.\u001B[39mERROR_IO_PENDING):\n\u001B[1;32m--> 317\u001B[0m         \u001B[38;5;28;01mraise\u001B[39;00m SerialException(\u001B[38;5;124m\"\u001B[39m\u001B[38;5;124mWriteFile failed (\u001B[39m\u001B[38;5;132;01m{!r}\u001B[39;00m\u001B[38;5;124m)\u001B[39m\u001B[38;5;124m\"\u001B[39m\u001B[38;5;241m.\u001B[39mformat(ctypes\u001B[38;5;241m.\u001B[39mWinError()))\n\u001B[0;32m    319\u001B[0m     \u001B[38;5;66;03m# Wait for the write to complete.\u001B[39;00m\n\u001B[0;32m    320\u001B[0m     \u001B[38;5;66;03m#~ win32.WaitForSingleObject(self._overlapped_write.hEvent, win32.INFINITE)\u001B[39;00m\n\u001B[0;32m    321\u001B[0m     win32\u001B[38;5;241m.\u001B[39mGetOverlappedResult(\u001B[38;5;28mself\u001B[39m\u001B[38;5;241m.\u001B[39m_port_handle, \u001B[38;5;28mself\u001B[39m\u001B[38;5;241m.\u001B[39m_overlapped_write, ctypes\u001B[38;5;241m.\u001B[39mbyref(n), \u001B[38;5;28;01mTrue\u001B[39;00m)\n",
      "\u001B[1;31mSerialException\u001B[0m: WriteFile failed (PermissionError(13, '设备不识别此命令。', None, 22))"
     ]
    }
   ],
   "execution_count": 119
  },
  {
   "cell_type": "code",
   "id": "192a2578-77dd-4e26-a1ad-c102cdc553f7",
   "metadata": {
    "ExecuteTime": {
     "end_time": "2024-06-30T16:37:41.436325Z",
     "start_time": "2024-06-30T16:37:41.430039Z"
    }
   },
   "source": [
    "TIM1.CR1.CEN = 1"
   ],
   "outputs": [],
   "execution_count": 65
  },
  {
   "cell_type": "code",
   "id": "9a0bb99e-7c24-4748-b7dd-19a572ff0bf0",
   "metadata": {
    "ExecuteTime": {
     "end_time": "2024-06-30T16:37:41.515072Z",
     "start_time": "2024-06-30T16:37:41.506161Z"
    }
   },
   "source": [
    "TIM1.CR1.CEN"
   ],
   "outputs": [
    {
     "data": {
      "text/plain": [
       "0b1"
      ]
     },
     "execution_count": 66,
     "metadata": {},
     "output_type": "execute_result"
    }
   ],
   "execution_count": 66
  },
  {
   "cell_type": "markdown",
   "id": "4cb0c19b-19f5-46f5-94a8-47fb5b15ca1f",
   "metadata": {},
   "source": [
    "What? We just wrote `1` to `CEN`.\n",
    "\n",
    "Actually, the clock for `TIM1` is not enabled yet."
   ]
  },
  {
   "cell_type": "code",
   "id": "a105447d-f0e0-4576-a6a4-d55dfda8e9d4",
   "metadata": {
    "ExecuteTime": {
     "end_time": "2024-06-30T16:37:41.551927Z",
     "start_time": "2024-06-30T16:37:41.544048Z"
    }
   },
   "source": [
    "RCC.APB2ENR.TIM1EN = 1"
   ],
   "outputs": [],
   "execution_count": 67
  },
  {
   "cell_type": "code",
   "id": "cb4ca004-a10c-4f74-97a4-951b62af6468",
   "metadata": {
    "ExecuteTime": {
     "end_time": "2024-06-30T16:37:41.598753Z",
     "start_time": "2024-06-30T16:37:41.584238Z"
    }
   },
   "source": [
    "TIM1.CR1.CEN = 1\n",
    "TIM1.CR1"
   ],
   "outputs": [
    {
     "data": {
      "text/plain": [
       "<IPython.core.display.HTML object>"
      ],
      "text/html": [
       "<style type=\"text/css\">\n",
       "    table.register th {\n",
       "        font-weight: normal;\n",
       "        text-align: center !important;\n",
       "        padding: 2px;\n",
       "    }\n",
       "    table.register td {\n",
       "        text-align: center !important;\n",
       "        border: 1px solid;\n",
       "        word-wrap: break-word;\n",
       "        padding: 2px;\n",
       "    }\n",
       "    .jp-RenderedHTMLCommon tbody tr:nth-child(even) {\n",
       "        background: var(--jp-layout-color0);\n",
       "    }\n",
       "    .jp-RenderedHTMLCommon tbody tr:hover {\n",
       "        background: rgba(0, 0, 0, 0);\n",
       "    }\n",
       "</style>\n",
       "<table class=\"register\" style=\"width:800px\">\n",
       "    <tr>\n",
       "        <th>31</th>\n",
       "        <th>30</th>\n",
       "        <th>29</th>\n",
       "        <th>28</th>\n",
       "        <th>27</th>\n",
       "        <th>26</th>\n",
       "        <th>25</th>\n",
       "        <th>24</th>\n",
       "        <th>23</th>\n",
       "        <th>22</th>\n",
       "        <th>21</th>\n",
       "        <th>20</th>\n",
       "        <th>19</th>\n",
       "        <th>18</th>\n",
       "        <th>17</th>\n",
       "        <th>16</th>\n",
       "    </tr>\n",
       "    <tr>\n",
       "        <td>0</td>\n",
       "        <td>0</td>\n",
       "        <td>0</td>\n",
       "        <td>0</td>\n",
       "        <td>0</td>\n",
       "        <td>0</td>\n",
       "        <td>0</td>\n",
       "        <td>0</td>\n",
       "        <td>0</td>\n",
       "        <td>0</td>\n",
       "        <td>0</td>\n",
       "        <td>0</td>\n",
       "        <td>0</td>\n",
       "        <td>0</td>\n",
       "        <td>0</td>\n",
       "        <td>0</td>\n",
       "    <tr>\n",
       "        <th>15</th>\n",
       "        <th>14</th>\n",
       "        <th>13</th>\n",
       "        <th>12</th>\n",
       "        <th>11</th>\n",
       "        <th>10</th>\n",
       "        <th>9</th>\n",
       "        <th>8</th>\n",
       "        <th>7</th>\n",
       "        <th>6</th>\n",
       "        <th>5</th>\n",
       "        <th>4</th>\n",
       "        <th>3</th>\n",
       "        <th>2</th>\n",
       "        <th>1</th>\n",
       "        <th>0</th>\n",
       "    </tr>\n",
       "    <tr>\n",
       "        <td></td>\n",
       "        <td></td>\n",
       "        <td></td>\n",
       "        <td>DITHEN</td>\n",
       "        <td>UIFREMAP</td>\n",
       "        <td></td>\n",
       "        <td colspan=\"2\">CKD[1:0]</td>\n",
       "        <td>ARPE</td>\n",
       "        <td colspan=\"2\">CMS[1:0]</td>\n",
       "        <td>DIR</td>\n",
       "        <td>OPM</td>\n",
       "        <td>URS</td>\n",
       "        <td>UDIS</td>\n",
       "        <td>CEN</td>\n",
       "    </tr>\n",
       "    <tr>\n",
       "        <td>0</td>\n",
       "        <td>0</td>\n",
       "        <td>0</td>\n",
       "        <td>0</td>\n",
       "        <td>0</td>\n",
       "        <td>0</td>\n",
       "        <td>0</td>\n",
       "        <td>0</td>\n",
       "        <td>0</td>\n",
       "        <td>0</td>\n",
       "        <td>0</td>\n",
       "        <td>0</td>\n",
       "        <td>0</td>\n",
       "        <td>0</td>\n",
       "        <td>0</td>\n",
       "        <td>1</td>\n",
       "    </tr>\n"
      ]
     },
     "metadata": {},
     "output_type": "display_data"
    },
    {
     "data": {
      "text/plain": [
       "DEC: 1, HEX: 0x00000001"
      ]
     },
     "execution_count": 68,
     "metadata": {},
     "output_type": "execute_result"
    }
   ],
   "execution_count": 68
  },
  {
   "cell_type": "code",
   "id": "ab50392d-15eb-4aed-aa37-c0bf4b4bfe81",
   "metadata": {
    "ExecuteTime": {
     "end_time": "2024-06-30T16:37:41.803385Z",
     "start_time": "2024-06-30T16:37:41.792238Z"
    }
   },
   "source": "TIM1.CR1",
   "outputs": [
    {
     "data": {
      "text/plain": [
       "<IPython.core.display.HTML object>"
      ],
      "text/html": [
       "<style type=\"text/css\">\n",
       "    table.register th {\n",
       "        font-weight: normal;\n",
       "        text-align: center !important;\n",
       "        padding: 2px;\n",
       "    }\n",
       "    table.register td {\n",
       "        text-align: center !important;\n",
       "        border: 1px solid;\n",
       "        word-wrap: break-word;\n",
       "        padding: 2px;\n",
       "    }\n",
       "    .jp-RenderedHTMLCommon tbody tr:nth-child(even) {\n",
       "        background: var(--jp-layout-color0);\n",
       "    }\n",
       "    .jp-RenderedHTMLCommon tbody tr:hover {\n",
       "        background: rgba(0, 0, 0, 0);\n",
       "    }\n",
       "</style>\n",
       "<table class=\"register\" style=\"width:800px\">\n",
       "    <tr>\n",
       "        <th>31</th>\n",
       "        <th>30</th>\n",
       "        <th>29</th>\n",
       "        <th>28</th>\n",
       "        <th>27</th>\n",
       "        <th>26</th>\n",
       "        <th>25</th>\n",
       "        <th>24</th>\n",
       "        <th>23</th>\n",
       "        <th>22</th>\n",
       "        <th>21</th>\n",
       "        <th>20</th>\n",
       "        <th>19</th>\n",
       "        <th>18</th>\n",
       "        <th>17</th>\n",
       "        <th>16</th>\n",
       "    </tr>\n",
       "    <tr>\n",
       "        <td>0</td>\n",
       "        <td>0</td>\n",
       "        <td>0</td>\n",
       "        <td>0</td>\n",
       "        <td>0</td>\n",
       "        <td>0</td>\n",
       "        <td>0</td>\n",
       "        <td>0</td>\n",
       "        <td>0</td>\n",
       "        <td>0</td>\n",
       "        <td>0</td>\n",
       "        <td>0</td>\n",
       "        <td>0</td>\n",
       "        <td>0</td>\n",
       "        <td>0</td>\n",
       "        <td>0</td>\n",
       "    <tr>\n",
       "        <th>15</th>\n",
       "        <th>14</th>\n",
       "        <th>13</th>\n",
       "        <th>12</th>\n",
       "        <th>11</th>\n",
       "        <th>10</th>\n",
       "        <th>9</th>\n",
       "        <th>8</th>\n",
       "        <th>7</th>\n",
       "        <th>6</th>\n",
       "        <th>5</th>\n",
       "        <th>4</th>\n",
       "        <th>3</th>\n",
       "        <th>2</th>\n",
       "        <th>1</th>\n",
       "        <th>0</th>\n",
       "    </tr>\n",
       "    <tr>\n",
       "        <td></td>\n",
       "        <td></td>\n",
       "        <td></td>\n",
       "        <td>DITHEN</td>\n",
       "        <td>UIFREMAP</td>\n",
       "        <td></td>\n",
       "        <td colspan=\"2\">CKD[1:0]</td>\n",
       "        <td>ARPE</td>\n",
       "        <td colspan=\"2\">CMS[1:0]</td>\n",
       "        <td>DIR</td>\n",
       "        <td>OPM</td>\n",
       "        <td>URS</td>\n",
       "        <td>UDIS</td>\n",
       "        <td>CEN</td>\n",
       "    </tr>\n",
       "    <tr>\n",
       "        <td>0</td>\n",
       "        <td>0</td>\n",
       "        <td>0</td>\n",
       "        <td>0</td>\n",
       "        <td>0</td>\n",
       "        <td>0</td>\n",
       "        <td>0</td>\n",
       "        <td>0</td>\n",
       "        <td>0</td>\n",
       "        <td>0</td>\n",
       "        <td>0</td>\n",
       "        <td>0</td>\n",
       "        <td>0</td>\n",
       "        <td>0</td>\n",
       "        <td>0</td>\n",
       "        <td>1</td>\n",
       "    </tr>\n"
      ]
     },
     "metadata": {},
     "output_type": "display_data"
    },
    {
     "data": {
      "text/plain": [
       "DEC: 1, HEX: 0x00000001"
      ]
     },
     "execution_count": 69,
     "metadata": {},
     "output_type": "execute_result"
    }
   ],
   "execution_count": 69
  },
  {
   "metadata": {
    "ExecuteTime": {
     "end_time": "2024-06-30T16:37:41.907515Z",
     "start_time": "2024-06-30T16:37:41.901837Z"
    }
   },
   "cell_type": "code",
   "source": "TIM1.CR1.CEN = 0",
   "id": "1951f099952bd217",
   "outputs": [],
   "execution_count": 70
  },
  {
   "metadata": {
    "ExecuteTime": {
     "end_time": "2024-06-30T16:37:41.993785Z",
     "start_time": "2024-06-30T16:37:41.983056Z"
    }
   },
   "cell_type": "code",
   "source": "TIM1.CR1",
   "id": "12dc92059cfc409f",
   "outputs": [
    {
     "data": {
      "text/plain": [
       "<IPython.core.display.HTML object>"
      ],
      "text/html": [
       "<style type=\"text/css\">\n",
       "    table.register th {\n",
       "        font-weight: normal;\n",
       "        text-align: center !important;\n",
       "        padding: 2px;\n",
       "    }\n",
       "    table.register td {\n",
       "        text-align: center !important;\n",
       "        border: 1px solid;\n",
       "        word-wrap: break-word;\n",
       "        padding: 2px;\n",
       "    }\n",
       "    .jp-RenderedHTMLCommon tbody tr:nth-child(even) {\n",
       "        background: var(--jp-layout-color0);\n",
       "    }\n",
       "    .jp-RenderedHTMLCommon tbody tr:hover {\n",
       "        background: rgba(0, 0, 0, 0);\n",
       "    }\n",
       "</style>\n",
       "<table class=\"register\" style=\"width:800px\">\n",
       "    <tr>\n",
       "        <th>31</th>\n",
       "        <th>30</th>\n",
       "        <th>29</th>\n",
       "        <th>28</th>\n",
       "        <th>27</th>\n",
       "        <th>26</th>\n",
       "        <th>25</th>\n",
       "        <th>24</th>\n",
       "        <th>23</th>\n",
       "        <th>22</th>\n",
       "        <th>21</th>\n",
       "        <th>20</th>\n",
       "        <th>19</th>\n",
       "        <th>18</th>\n",
       "        <th>17</th>\n",
       "        <th>16</th>\n",
       "    </tr>\n",
       "    <tr>\n",
       "        <td>0</td>\n",
       "        <td>0</td>\n",
       "        <td>0</td>\n",
       "        <td>0</td>\n",
       "        <td>0</td>\n",
       "        <td>0</td>\n",
       "        <td>0</td>\n",
       "        <td>0</td>\n",
       "        <td>0</td>\n",
       "        <td>0</td>\n",
       "        <td>0</td>\n",
       "        <td>0</td>\n",
       "        <td>0</td>\n",
       "        <td>0</td>\n",
       "        <td>0</td>\n",
       "        <td>0</td>\n",
       "    <tr>\n",
       "        <th>15</th>\n",
       "        <th>14</th>\n",
       "        <th>13</th>\n",
       "        <th>12</th>\n",
       "        <th>11</th>\n",
       "        <th>10</th>\n",
       "        <th>9</th>\n",
       "        <th>8</th>\n",
       "        <th>7</th>\n",
       "        <th>6</th>\n",
       "        <th>5</th>\n",
       "        <th>4</th>\n",
       "        <th>3</th>\n",
       "        <th>2</th>\n",
       "        <th>1</th>\n",
       "        <th>0</th>\n",
       "    </tr>\n",
       "    <tr>\n",
       "        <td></td>\n",
       "        <td></td>\n",
       "        <td></td>\n",
       "        <td>DITHEN</td>\n",
       "        <td>UIFREMAP</td>\n",
       "        <td></td>\n",
       "        <td colspan=\"2\">CKD[1:0]</td>\n",
       "        <td>ARPE</td>\n",
       "        <td colspan=\"2\">CMS[1:0]</td>\n",
       "        <td>DIR</td>\n",
       "        <td>OPM</td>\n",
       "        <td>URS</td>\n",
       "        <td>UDIS</td>\n",
       "        <td>CEN</td>\n",
       "    </tr>\n",
       "    <tr>\n",
       "        <td>0</td>\n",
       "        <td>0</td>\n",
       "        <td>0</td>\n",
       "        <td>0</td>\n",
       "        <td>0</td>\n",
       "        <td>0</td>\n",
       "        <td>0</td>\n",
       "        <td>0</td>\n",
       "        <td>0</td>\n",
       "        <td>0</td>\n",
       "        <td>0</td>\n",
       "        <td>0</td>\n",
       "        <td>0</td>\n",
       "        <td>0</td>\n",
       "        <td>0</td>\n",
       "        <td>0</td>\n",
       "    </tr>\n"
      ]
     },
     "metadata": {},
     "output_type": "display_data"
    },
    {
     "data": {
      "text/plain": [
       "DEC: 0, HEX: 0x00000000"
      ]
     },
     "execution_count": 71,
     "metadata": {},
     "output_type": "execute_result"
    }
   ],
   "execution_count": 71
  },
  {
   "metadata": {
    "ExecuteTime": {
     "end_time": "2024-06-30T16:37:42.098730Z",
     "start_time": "2024-06-30T16:37:42.091515Z"
    }
   },
   "cell_type": "code",
   "source": "TIM1.CR1 = 8",
   "id": "fca478a3667347b4",
   "outputs": [],
   "execution_count": 72
  },
  {
   "metadata": {
    "ExecuteTime": {
     "end_time": "2024-06-30T16:37:42.170978Z",
     "start_time": "2024-06-30T16:37:42.155680Z"
    }
   },
   "cell_type": "code",
   "source": "TIM1.CR1",
   "id": "6b86d8ca45a258fe",
   "outputs": [
    {
     "data": {
      "text/plain": [
       "<IPython.core.display.HTML object>"
      ],
      "text/html": [
       "<style type=\"text/css\">\n",
       "    table.register th {\n",
       "        font-weight: normal;\n",
       "        text-align: center !important;\n",
       "        padding: 2px;\n",
       "    }\n",
       "    table.register td {\n",
       "        text-align: center !important;\n",
       "        border: 1px solid;\n",
       "        word-wrap: break-word;\n",
       "        padding: 2px;\n",
       "    }\n",
       "    .jp-RenderedHTMLCommon tbody tr:nth-child(even) {\n",
       "        background: var(--jp-layout-color0);\n",
       "    }\n",
       "    .jp-RenderedHTMLCommon tbody tr:hover {\n",
       "        background: rgba(0, 0, 0, 0);\n",
       "    }\n",
       "</style>\n",
       "<table class=\"register\" style=\"width:800px\">\n",
       "    <tr>\n",
       "        <th>31</th>\n",
       "        <th>30</th>\n",
       "        <th>29</th>\n",
       "        <th>28</th>\n",
       "        <th>27</th>\n",
       "        <th>26</th>\n",
       "        <th>25</th>\n",
       "        <th>24</th>\n",
       "        <th>23</th>\n",
       "        <th>22</th>\n",
       "        <th>21</th>\n",
       "        <th>20</th>\n",
       "        <th>19</th>\n",
       "        <th>18</th>\n",
       "        <th>17</th>\n",
       "        <th>16</th>\n",
       "    </tr>\n",
       "    <tr>\n",
       "        <td>0</td>\n",
       "        <td>0</td>\n",
       "        <td>0</td>\n",
       "        <td>0</td>\n",
       "        <td>0</td>\n",
       "        <td>0</td>\n",
       "        <td>0</td>\n",
       "        <td>0</td>\n",
       "        <td>0</td>\n",
       "        <td>0</td>\n",
       "        <td>0</td>\n",
       "        <td>0</td>\n",
       "        <td>0</td>\n",
       "        <td>0</td>\n",
       "        <td>0</td>\n",
       "        <td>0</td>\n",
       "    <tr>\n",
       "        <th>15</th>\n",
       "        <th>14</th>\n",
       "        <th>13</th>\n",
       "        <th>12</th>\n",
       "        <th>11</th>\n",
       "        <th>10</th>\n",
       "        <th>9</th>\n",
       "        <th>8</th>\n",
       "        <th>7</th>\n",
       "        <th>6</th>\n",
       "        <th>5</th>\n",
       "        <th>4</th>\n",
       "        <th>3</th>\n",
       "        <th>2</th>\n",
       "        <th>1</th>\n",
       "        <th>0</th>\n",
       "    </tr>\n",
       "    <tr>\n",
       "        <td></td>\n",
       "        <td></td>\n",
       "        <td></td>\n",
       "        <td>DITHEN</td>\n",
       "        <td>UIFREMAP</td>\n",
       "        <td></td>\n",
       "        <td colspan=\"2\">CKD[1:0]</td>\n",
       "        <td>ARPE</td>\n",
       "        <td colspan=\"2\">CMS[1:0]</td>\n",
       "        <td>DIR</td>\n",
       "        <td>OPM</td>\n",
       "        <td>URS</td>\n",
       "        <td>UDIS</td>\n",
       "        <td>CEN</td>\n",
       "    </tr>\n",
       "    <tr>\n",
       "        <td>0</td>\n",
       "        <td>0</td>\n",
       "        <td>0</td>\n",
       "        <td>0</td>\n",
       "        <td>0</td>\n",
       "        <td>0</td>\n",
       "        <td>0</td>\n",
       "        <td>0</td>\n",
       "        <td>0</td>\n",
       "        <td>0</td>\n",
       "        <td>0</td>\n",
       "        <td>0</td>\n",
       "        <td>1</td>\n",
       "        <td>0</td>\n",
       "        <td>0</td>\n",
       "        <td>0</td>\n",
       "    </tr>\n"
      ]
     },
     "metadata": {},
     "output_type": "display_data"
    },
    {
     "data": {
      "text/plain": [
       "DEC: 8, HEX: 0x00000008"
      ]
     },
     "execution_count": 73,
     "metadata": {},
     "output_type": "execute_result"
    }
   ],
   "execution_count": 73
  },
  {
   "metadata": {
    "ExecuteTime": {
     "end_time": "2024-06-30T16:37:42.262523Z",
     "start_time": "2024-06-30T16:37:42.253522Z"
    }
   },
   "cell_type": "code",
   "source": "TIM1.CR1.CEN = 1",
   "id": "fcc925075bfd7cce",
   "outputs": [],
   "execution_count": 74
  },
  {
   "metadata": {
    "ExecuteTime": {
     "end_time": "2024-06-30T16:37:42.317201Z",
     "start_time": "2024-06-30T16:37:42.307366Z"
    }
   },
   "cell_type": "code",
   "source": "TIM1.CR1",
   "id": "d8a86f4d1731dcf9",
   "outputs": [
    {
     "data": {
      "text/plain": [
       "<IPython.core.display.HTML object>"
      ],
      "text/html": [
       "<style type=\"text/css\">\n",
       "    table.register th {\n",
       "        font-weight: normal;\n",
       "        text-align: center !important;\n",
       "        padding: 2px;\n",
       "    }\n",
       "    table.register td {\n",
       "        text-align: center !important;\n",
       "        border: 1px solid;\n",
       "        word-wrap: break-word;\n",
       "        padding: 2px;\n",
       "    }\n",
       "    .jp-RenderedHTMLCommon tbody tr:nth-child(even) {\n",
       "        background: var(--jp-layout-color0);\n",
       "    }\n",
       "    .jp-RenderedHTMLCommon tbody tr:hover {\n",
       "        background: rgba(0, 0, 0, 0);\n",
       "    }\n",
       "</style>\n",
       "<table class=\"register\" style=\"width:800px\">\n",
       "    <tr>\n",
       "        <th>31</th>\n",
       "        <th>30</th>\n",
       "        <th>29</th>\n",
       "        <th>28</th>\n",
       "        <th>27</th>\n",
       "        <th>26</th>\n",
       "        <th>25</th>\n",
       "        <th>24</th>\n",
       "        <th>23</th>\n",
       "        <th>22</th>\n",
       "        <th>21</th>\n",
       "        <th>20</th>\n",
       "        <th>19</th>\n",
       "        <th>18</th>\n",
       "        <th>17</th>\n",
       "        <th>16</th>\n",
       "    </tr>\n",
       "    <tr>\n",
       "        <td>0</td>\n",
       "        <td>0</td>\n",
       "        <td>0</td>\n",
       "        <td>0</td>\n",
       "        <td>0</td>\n",
       "        <td>0</td>\n",
       "        <td>0</td>\n",
       "        <td>0</td>\n",
       "        <td>0</td>\n",
       "        <td>0</td>\n",
       "        <td>0</td>\n",
       "        <td>0</td>\n",
       "        <td>0</td>\n",
       "        <td>0</td>\n",
       "        <td>0</td>\n",
       "        <td>0</td>\n",
       "    <tr>\n",
       "        <th>15</th>\n",
       "        <th>14</th>\n",
       "        <th>13</th>\n",
       "        <th>12</th>\n",
       "        <th>11</th>\n",
       "        <th>10</th>\n",
       "        <th>9</th>\n",
       "        <th>8</th>\n",
       "        <th>7</th>\n",
       "        <th>6</th>\n",
       "        <th>5</th>\n",
       "        <th>4</th>\n",
       "        <th>3</th>\n",
       "        <th>2</th>\n",
       "        <th>1</th>\n",
       "        <th>0</th>\n",
       "    </tr>\n",
       "    <tr>\n",
       "        <td></td>\n",
       "        <td></td>\n",
       "        <td></td>\n",
       "        <td>DITHEN</td>\n",
       "        <td>UIFREMAP</td>\n",
       "        <td></td>\n",
       "        <td colspan=\"2\">CKD[1:0]</td>\n",
       "        <td>ARPE</td>\n",
       "        <td colspan=\"2\">CMS[1:0]</td>\n",
       "        <td>DIR</td>\n",
       "        <td>OPM</td>\n",
       "        <td>URS</td>\n",
       "        <td>UDIS</td>\n",
       "        <td>CEN</td>\n",
       "    </tr>\n",
       "    <tr>\n",
       "        <td>0</td>\n",
       "        <td>0</td>\n",
       "        <td>0</td>\n",
       "        <td>0</td>\n",
       "        <td>0</td>\n",
       "        <td>0</td>\n",
       "        <td>0</td>\n",
       "        <td>0</td>\n",
       "        <td>0</td>\n",
       "        <td>0</td>\n",
       "        <td>0</td>\n",
       "        <td>0</td>\n",
       "        <td>1</td>\n",
       "        <td>0</td>\n",
       "        <td>0</td>\n",
       "        <td>0</td>\n",
       "    </tr>\n"
      ]
     },
     "metadata": {},
     "output_type": "display_data"
    },
    {
     "data": {
      "text/plain": [
       "DEC: 8, HEX: 0x00000008"
      ]
     },
     "execution_count": 75,
     "metadata": {},
     "output_type": "execute_result"
    }
   ],
   "execution_count": 75
  },
  {
   "metadata": {
    "ExecuteTime": {
     "end_time": "2024-06-30T16:37:42.391717Z",
     "start_time": "2024-06-30T16:37:42.386701Z"
    }
   },
   "cell_type": "code",
   "source": "TIM1.CR1.CEN = 1",
   "id": "22cce1e8fa4c7600",
   "outputs": [],
   "execution_count": 76
  },
  {
   "metadata": {
    "ExecuteTime": {
     "end_time": "2024-06-30T16:37:42.437022Z",
     "start_time": "2024-06-30T16:37:42.426276Z"
    }
   },
   "cell_type": "code",
   "source": "TIM1.CR1",
   "id": "74ddf999e462f06c",
   "outputs": [
    {
     "data": {
      "text/plain": [
       "<IPython.core.display.HTML object>"
      ],
      "text/html": [
       "<style type=\"text/css\">\n",
       "    table.register th {\n",
       "        font-weight: normal;\n",
       "        text-align: center !important;\n",
       "        padding: 2px;\n",
       "    }\n",
       "    table.register td {\n",
       "        text-align: center !important;\n",
       "        border: 1px solid;\n",
       "        word-wrap: break-word;\n",
       "        padding: 2px;\n",
       "    }\n",
       "    .jp-RenderedHTMLCommon tbody tr:nth-child(even) {\n",
       "        background: var(--jp-layout-color0);\n",
       "    }\n",
       "    .jp-RenderedHTMLCommon tbody tr:hover {\n",
       "        background: rgba(0, 0, 0, 0);\n",
       "    }\n",
       "</style>\n",
       "<table class=\"register\" style=\"width:800px\">\n",
       "    <tr>\n",
       "        <th>31</th>\n",
       "        <th>30</th>\n",
       "        <th>29</th>\n",
       "        <th>28</th>\n",
       "        <th>27</th>\n",
       "        <th>26</th>\n",
       "        <th>25</th>\n",
       "        <th>24</th>\n",
       "        <th>23</th>\n",
       "        <th>22</th>\n",
       "        <th>21</th>\n",
       "        <th>20</th>\n",
       "        <th>19</th>\n",
       "        <th>18</th>\n",
       "        <th>17</th>\n",
       "        <th>16</th>\n",
       "    </tr>\n",
       "    <tr>\n",
       "        <td>0</td>\n",
       "        <td>0</td>\n",
       "        <td>0</td>\n",
       "        <td>0</td>\n",
       "        <td>0</td>\n",
       "        <td>0</td>\n",
       "        <td>0</td>\n",
       "        <td>0</td>\n",
       "        <td>0</td>\n",
       "        <td>0</td>\n",
       "        <td>0</td>\n",
       "        <td>0</td>\n",
       "        <td>0</td>\n",
       "        <td>0</td>\n",
       "        <td>0</td>\n",
       "        <td>0</td>\n",
       "    <tr>\n",
       "        <th>15</th>\n",
       "        <th>14</th>\n",
       "        <th>13</th>\n",
       "        <th>12</th>\n",
       "        <th>11</th>\n",
       "        <th>10</th>\n",
       "        <th>9</th>\n",
       "        <th>8</th>\n",
       "        <th>7</th>\n",
       "        <th>6</th>\n",
       "        <th>5</th>\n",
       "        <th>4</th>\n",
       "        <th>3</th>\n",
       "        <th>2</th>\n",
       "        <th>1</th>\n",
       "        <th>0</th>\n",
       "    </tr>\n",
       "    <tr>\n",
       "        <td></td>\n",
       "        <td></td>\n",
       "        <td></td>\n",
       "        <td>DITHEN</td>\n",
       "        <td>UIFREMAP</td>\n",
       "        <td></td>\n",
       "        <td colspan=\"2\">CKD[1:0]</td>\n",
       "        <td>ARPE</td>\n",
       "        <td colspan=\"2\">CMS[1:0]</td>\n",
       "        <td>DIR</td>\n",
       "        <td>OPM</td>\n",
       "        <td>URS</td>\n",
       "        <td>UDIS</td>\n",
       "        <td>CEN</td>\n",
       "    </tr>\n",
       "    <tr>\n",
       "        <td>0</td>\n",
       "        <td>0</td>\n",
       "        <td>0</td>\n",
       "        <td>0</td>\n",
       "        <td>0</td>\n",
       "        <td>0</td>\n",
       "        <td>0</td>\n",
       "        <td>0</td>\n",
       "        <td>0</td>\n",
       "        <td>0</td>\n",
       "        <td>0</td>\n",
       "        <td>0</td>\n",
       "        <td>1</td>\n",
       "        <td>0</td>\n",
       "        <td>0</td>\n",
       "        <td>0</td>\n",
       "    </tr>\n"
      ]
     },
     "metadata": {},
     "output_type": "display_data"
    },
    {
     "data": {
      "text/plain": [
       "DEC: 8, HEX: 0x00000008"
      ]
     },
     "execution_count": 77,
     "metadata": {},
     "output_type": "execute_result"
    }
   ],
   "execution_count": 77
  },
  {
   "metadata": {
    "ExecuteTime": {
     "end_time": "2024-06-30T16:37:42.512728Z",
     "start_time": "2024-06-30T16:37:42.506881Z"
    }
   },
   "cell_type": "code",
   "source": "TIM1.CR1 = 1",
   "id": "ab2f1d466255179b",
   "outputs": [],
   "execution_count": 78
  },
  {
   "metadata": {
    "ExecuteTime": {
     "end_time": "2024-06-30T16:37:42.556180Z",
     "start_time": "2024-06-30T16:37:42.543560Z"
    }
   },
   "cell_type": "code",
   "source": "TIM1.CR1",
   "id": "363880abf8dfddb4",
   "outputs": [
    {
     "data": {
      "text/plain": [
       "<IPython.core.display.HTML object>"
      ],
      "text/html": [
       "<style type=\"text/css\">\n",
       "    table.register th {\n",
       "        font-weight: normal;\n",
       "        text-align: center !important;\n",
       "        padding: 2px;\n",
       "    }\n",
       "    table.register td {\n",
       "        text-align: center !important;\n",
       "        border: 1px solid;\n",
       "        word-wrap: break-word;\n",
       "        padding: 2px;\n",
       "    }\n",
       "    .jp-RenderedHTMLCommon tbody tr:nth-child(even) {\n",
       "        background: var(--jp-layout-color0);\n",
       "    }\n",
       "    .jp-RenderedHTMLCommon tbody tr:hover {\n",
       "        background: rgba(0, 0, 0, 0);\n",
       "    }\n",
       "</style>\n",
       "<table class=\"register\" style=\"width:800px\">\n",
       "    <tr>\n",
       "        <th>31</th>\n",
       "        <th>30</th>\n",
       "        <th>29</th>\n",
       "        <th>28</th>\n",
       "        <th>27</th>\n",
       "        <th>26</th>\n",
       "        <th>25</th>\n",
       "        <th>24</th>\n",
       "        <th>23</th>\n",
       "        <th>22</th>\n",
       "        <th>21</th>\n",
       "        <th>20</th>\n",
       "        <th>19</th>\n",
       "        <th>18</th>\n",
       "        <th>17</th>\n",
       "        <th>16</th>\n",
       "    </tr>\n",
       "    <tr>\n",
       "        <td>0</td>\n",
       "        <td>0</td>\n",
       "        <td>0</td>\n",
       "        <td>0</td>\n",
       "        <td>0</td>\n",
       "        <td>0</td>\n",
       "        <td>0</td>\n",
       "        <td>0</td>\n",
       "        <td>0</td>\n",
       "        <td>0</td>\n",
       "        <td>0</td>\n",
       "        <td>0</td>\n",
       "        <td>0</td>\n",
       "        <td>0</td>\n",
       "        <td>0</td>\n",
       "        <td>0</td>\n",
       "    <tr>\n",
       "        <th>15</th>\n",
       "        <th>14</th>\n",
       "        <th>13</th>\n",
       "        <th>12</th>\n",
       "        <th>11</th>\n",
       "        <th>10</th>\n",
       "        <th>9</th>\n",
       "        <th>8</th>\n",
       "        <th>7</th>\n",
       "        <th>6</th>\n",
       "        <th>5</th>\n",
       "        <th>4</th>\n",
       "        <th>3</th>\n",
       "        <th>2</th>\n",
       "        <th>1</th>\n",
       "        <th>0</th>\n",
       "    </tr>\n",
       "    <tr>\n",
       "        <td></td>\n",
       "        <td></td>\n",
       "        <td></td>\n",
       "        <td>DITHEN</td>\n",
       "        <td>UIFREMAP</td>\n",
       "        <td></td>\n",
       "        <td colspan=\"2\">CKD[1:0]</td>\n",
       "        <td>ARPE</td>\n",
       "        <td colspan=\"2\">CMS[1:0]</td>\n",
       "        <td>DIR</td>\n",
       "        <td>OPM</td>\n",
       "        <td>URS</td>\n",
       "        <td>UDIS</td>\n",
       "        <td>CEN</td>\n",
       "    </tr>\n",
       "    <tr>\n",
       "        <td>0</td>\n",
       "        <td>0</td>\n",
       "        <td>0</td>\n",
       "        <td>0</td>\n",
       "        <td>0</td>\n",
       "        <td>0</td>\n",
       "        <td>0</td>\n",
       "        <td>0</td>\n",
       "        <td>0</td>\n",
       "        <td>0</td>\n",
       "        <td>0</td>\n",
       "        <td>0</td>\n",
       "        <td>0</td>\n",
       "        <td>0</td>\n",
       "        <td>0</td>\n",
       "        <td>1</td>\n",
       "    </tr>\n"
      ]
     },
     "metadata": {},
     "output_type": "display_data"
    },
    {
     "data": {
      "text/plain": [
       "DEC: 1, HEX: 0x00000001"
      ]
     },
     "execution_count": 79,
     "metadata": {},
     "output_type": "execute_result"
    }
   ],
   "execution_count": 79
  },
  {
   "metadata": {
    "ExecuteTime": {
     "end_time": "2024-06-30T16:37:42.605672Z",
     "start_time": "2024-06-30T16:37:42.594086Z"
    }
   },
   "cell_type": "code",
   "source": "TIM1.CCR1",
   "id": "25e067cecfb3889b",
   "outputs": [
    {
     "data": {
      "text/plain": [
       "<IPython.core.display.HTML object>"
      ],
      "text/html": [
       "<style type=\"text/css\">\n",
       "    table.register th {\n",
       "        font-weight: normal;\n",
       "        text-align: center !important;\n",
       "        padding: 2px;\n",
       "    }\n",
       "    table.register td {\n",
       "        text-align: center !important;\n",
       "        border: 1px solid;\n",
       "        word-wrap: break-word;\n",
       "        padding: 2px;\n",
       "    }\n",
       "    .jp-RenderedHTMLCommon tbody tr:nth-child(even) {\n",
       "        background: var(--jp-layout-color0);\n",
       "    }\n",
       "    .jp-RenderedHTMLCommon tbody tr:hover {\n",
       "        background: rgba(0, 0, 0, 0);\n",
       "    }\n",
       "</style>\n",
       "<table class=\"register\" style=\"width:800px\">\n",
       "    <tr>\n",
       "        <th>31</th>\n",
       "        <th>30</th>\n",
       "        <th>29</th>\n",
       "        <th>28</th>\n",
       "        <th>27</th>\n",
       "        <th>26</th>\n",
       "        <th>25</th>\n",
       "        <th>24</th>\n",
       "        <th>23</th>\n",
       "        <th>22</th>\n",
       "        <th>21</th>\n",
       "        <th>20</th>\n",
       "        <th>19</th>\n",
       "        <th>18</th>\n",
       "        <th>17</th>\n",
       "        <th>16</th>\n",
       "    </tr>\n",
       "    <tr>\n",
       "        <td>0</td>\n",
       "        <td>0</td>\n",
       "        <td>0</td>\n",
       "        <td>0</td>\n",
       "        <td>0</td>\n",
       "        <td>0</td>\n",
       "        <td>0</td>\n",
       "        <td>0</td>\n",
       "        <td>0</td>\n",
       "        <td>0</td>\n",
       "        <td>0</td>\n",
       "        <td>0</td>\n",
       "        <td>0</td>\n",
       "        <td>0</td>\n",
       "        <td>0</td>\n",
       "        <td>0</td>\n",
       "    <tr>\n",
       "        <th>15</th>\n",
       "        <th>14</th>\n",
       "        <th>13</th>\n",
       "        <th>12</th>\n",
       "        <th>11</th>\n",
       "        <th>10</th>\n",
       "        <th>9</th>\n",
       "        <th>8</th>\n",
       "        <th>7</th>\n",
       "        <th>6</th>\n",
       "        <th>5</th>\n",
       "        <th>4</th>\n",
       "        <th>3</th>\n",
       "        <th>2</th>\n",
       "        <th>1</th>\n",
       "        <th>0</th>\n",
       "    </tr>\n",
       "    <tr>\n",
       "        <td colspan=\"16\">CCR1[15:0]</td>\n",
       "    </tr>\n",
       "    <tr>\n",
       "        <td>0</td>\n",
       "        <td>0</td>\n",
       "        <td>0</td>\n",
       "        <td>0</td>\n",
       "        <td>0</td>\n",
       "        <td>0</td>\n",
       "        <td>0</td>\n",
       "        <td>0</td>\n",
       "        <td>0</td>\n",
       "        <td>0</td>\n",
       "        <td>1</td>\n",
       "        <td>1</td>\n",
       "        <td>0</td>\n",
       "        <td>0</td>\n",
       "        <td>1</td>\n",
       "        <td>0</td>\n",
       "    </tr>\n"
      ]
     },
     "metadata": {},
     "output_type": "display_data"
    },
    {
     "data": {
      "text/plain": [
       "DEC: 50, HEX: 0x00000032"
      ]
     },
     "execution_count": 80,
     "metadata": {},
     "output_type": "execute_result"
    }
   ],
   "execution_count": 80
  },
  {
   "metadata": {
    "ExecuteTime": {
     "end_time": "2024-06-30T16:37:42.638792Z",
     "start_time": "2024-06-30T16:37:42.633273Z"
    }
   },
   "cell_type": "code",
   "source": "TIM1.CCR1 = 50",
   "id": "402acefd43a2970d",
   "outputs": [],
   "execution_count": 81
  },
  {
   "metadata": {
    "ExecuteTime": {
     "end_time": "2024-06-30T16:37:42.708221Z",
     "start_time": "2024-06-30T16:37:42.697119Z"
    }
   },
   "cell_type": "code",
   "source": "TIM1.CCR1",
   "id": "c12286be432dc9e6",
   "outputs": [
    {
     "data": {
      "text/plain": [
       "<IPython.core.display.HTML object>"
      ],
      "text/html": [
       "<style type=\"text/css\">\n",
       "    table.register th {\n",
       "        font-weight: normal;\n",
       "        text-align: center !important;\n",
       "        padding: 2px;\n",
       "    }\n",
       "    table.register td {\n",
       "        text-align: center !important;\n",
       "        border: 1px solid;\n",
       "        word-wrap: break-word;\n",
       "        padding: 2px;\n",
       "    }\n",
       "    .jp-RenderedHTMLCommon tbody tr:nth-child(even) {\n",
       "        background: var(--jp-layout-color0);\n",
       "    }\n",
       "    .jp-RenderedHTMLCommon tbody tr:hover {\n",
       "        background: rgba(0, 0, 0, 0);\n",
       "    }\n",
       "</style>\n",
       "<table class=\"register\" style=\"width:800px\">\n",
       "    <tr>\n",
       "        <th>31</th>\n",
       "        <th>30</th>\n",
       "        <th>29</th>\n",
       "        <th>28</th>\n",
       "        <th>27</th>\n",
       "        <th>26</th>\n",
       "        <th>25</th>\n",
       "        <th>24</th>\n",
       "        <th>23</th>\n",
       "        <th>22</th>\n",
       "        <th>21</th>\n",
       "        <th>20</th>\n",
       "        <th>19</th>\n",
       "        <th>18</th>\n",
       "        <th>17</th>\n",
       "        <th>16</th>\n",
       "    </tr>\n",
       "    <tr>\n",
       "        <td>0</td>\n",
       "        <td>0</td>\n",
       "        <td>0</td>\n",
       "        <td>0</td>\n",
       "        <td>0</td>\n",
       "        <td>0</td>\n",
       "        <td>0</td>\n",
       "        <td>0</td>\n",
       "        <td>0</td>\n",
       "        <td>0</td>\n",
       "        <td>0</td>\n",
       "        <td>0</td>\n",
       "        <td>0</td>\n",
       "        <td>0</td>\n",
       "        <td>0</td>\n",
       "        <td>0</td>\n",
       "    <tr>\n",
       "        <th>15</th>\n",
       "        <th>14</th>\n",
       "        <th>13</th>\n",
       "        <th>12</th>\n",
       "        <th>11</th>\n",
       "        <th>10</th>\n",
       "        <th>9</th>\n",
       "        <th>8</th>\n",
       "        <th>7</th>\n",
       "        <th>6</th>\n",
       "        <th>5</th>\n",
       "        <th>4</th>\n",
       "        <th>3</th>\n",
       "        <th>2</th>\n",
       "        <th>1</th>\n",
       "        <th>0</th>\n",
       "    </tr>\n",
       "    <tr>\n",
       "        <td colspan=\"16\">CCR1[15:0]</td>\n",
       "    </tr>\n",
       "    <tr>\n",
       "        <td>0</td>\n",
       "        <td>0</td>\n",
       "        <td>0</td>\n",
       "        <td>0</td>\n",
       "        <td>0</td>\n",
       "        <td>0</td>\n",
       "        <td>0</td>\n",
       "        <td>0</td>\n",
       "        <td>0</td>\n",
       "        <td>0</td>\n",
       "        <td>1</td>\n",
       "        <td>1</td>\n",
       "        <td>0</td>\n",
       "        <td>0</td>\n",
       "        <td>1</td>\n",
       "        <td>0</td>\n",
       "    </tr>\n"
      ]
     },
     "metadata": {},
     "output_type": "display_data"
    },
    {
     "data": {
      "text/plain": [
       "DEC: 50, HEX: 0x00000032"
      ]
     },
     "execution_count": 82,
     "metadata": {},
     "output_type": "execute_result"
    }
   ],
   "execution_count": 82
  },
  {
   "metadata": {
    "ExecuteTime": {
     "end_time": "2024-06-30T16:37:42.746879Z",
     "start_time": "2024-06-30T16:37:42.739402Z"
    }
   },
   "cell_type": "code",
   "source": "TIM1.CCR1 = 100",
   "id": "7712af6b4f7e5ae8",
   "outputs": [],
   "execution_count": 83
  },
  {
   "metadata": {
    "ExecuteTime": {
     "end_time": "2024-06-30T16:37:42.793375Z",
     "start_time": "2024-06-30T16:37:42.783413Z"
    }
   },
   "cell_type": "code",
   "source": "TIM1.CCR1",
   "id": "116acab686dde6c3",
   "outputs": [
    {
     "data": {
      "text/plain": [
       "<IPython.core.display.HTML object>"
      ],
      "text/html": [
       "<style type=\"text/css\">\n",
       "    table.register th {\n",
       "        font-weight: normal;\n",
       "        text-align: center !important;\n",
       "        padding: 2px;\n",
       "    }\n",
       "    table.register td {\n",
       "        text-align: center !important;\n",
       "        border: 1px solid;\n",
       "        word-wrap: break-word;\n",
       "        padding: 2px;\n",
       "    }\n",
       "    .jp-RenderedHTMLCommon tbody tr:nth-child(even) {\n",
       "        background: var(--jp-layout-color0);\n",
       "    }\n",
       "    .jp-RenderedHTMLCommon tbody tr:hover {\n",
       "        background: rgba(0, 0, 0, 0);\n",
       "    }\n",
       "</style>\n",
       "<table class=\"register\" style=\"width:800px\">\n",
       "    <tr>\n",
       "        <th>31</th>\n",
       "        <th>30</th>\n",
       "        <th>29</th>\n",
       "        <th>28</th>\n",
       "        <th>27</th>\n",
       "        <th>26</th>\n",
       "        <th>25</th>\n",
       "        <th>24</th>\n",
       "        <th>23</th>\n",
       "        <th>22</th>\n",
       "        <th>21</th>\n",
       "        <th>20</th>\n",
       "        <th>19</th>\n",
       "        <th>18</th>\n",
       "        <th>17</th>\n",
       "        <th>16</th>\n",
       "    </tr>\n",
       "    <tr>\n",
       "        <td>0</td>\n",
       "        <td>0</td>\n",
       "        <td>0</td>\n",
       "        <td>0</td>\n",
       "        <td>0</td>\n",
       "        <td>0</td>\n",
       "        <td>0</td>\n",
       "        <td>0</td>\n",
       "        <td>0</td>\n",
       "        <td>0</td>\n",
       "        <td>0</td>\n",
       "        <td>0</td>\n",
       "        <td>0</td>\n",
       "        <td>0</td>\n",
       "        <td>0</td>\n",
       "        <td>0</td>\n",
       "    <tr>\n",
       "        <th>15</th>\n",
       "        <th>14</th>\n",
       "        <th>13</th>\n",
       "        <th>12</th>\n",
       "        <th>11</th>\n",
       "        <th>10</th>\n",
       "        <th>9</th>\n",
       "        <th>8</th>\n",
       "        <th>7</th>\n",
       "        <th>6</th>\n",
       "        <th>5</th>\n",
       "        <th>4</th>\n",
       "        <th>3</th>\n",
       "        <th>2</th>\n",
       "        <th>1</th>\n",
       "        <th>0</th>\n",
       "    </tr>\n",
       "    <tr>\n",
       "        <td colspan=\"16\">CCR1[15:0]</td>\n",
       "    </tr>\n",
       "    <tr>\n",
       "        <td>0</td>\n",
       "        <td>0</td>\n",
       "        <td>0</td>\n",
       "        <td>0</td>\n",
       "        <td>0</td>\n",
       "        <td>0</td>\n",
       "        <td>0</td>\n",
       "        <td>0</td>\n",
       "        <td>0</td>\n",
       "        <td>1</td>\n",
       "        <td>1</td>\n",
       "        <td>0</td>\n",
       "        <td>0</td>\n",
       "        <td>1</td>\n",
       "        <td>0</td>\n",
       "        <td>0</td>\n",
       "    </tr>\n"
      ]
     },
     "metadata": {},
     "output_type": "display_data"
    },
    {
     "data": {
      "text/plain": [
       "DEC: 100, HEX: 0x00000064"
      ]
     },
     "execution_count": 84,
     "metadata": {},
     "output_type": "execute_result"
    }
   ],
   "execution_count": 84
  },
  {
   "metadata": {
    "ExecuteTime": {
     "end_time": "2024-06-30T16:37:42.857938Z",
     "start_time": "2024-06-30T16:37:42.852084Z"
    }
   },
   "cell_type": "code",
   "source": "TIM1.CCR1 = 5",
   "id": "c9eae4314f7e4ced",
   "outputs": [],
   "execution_count": 85
  },
  {
   "metadata": {
    "ExecuteTime": {
     "end_time": "2024-06-30T16:37:42.920634Z",
     "start_time": "2024-06-30T16:37:42.916067Z"
    }
   },
   "cell_type": "code",
   "source": "TIM1.CCR2 = 10",
   "id": "5dd4fadc170a64b1",
   "outputs": [],
   "execution_count": 86
  },
  {
   "metadata": {
    "ExecuteTime": {
     "end_time": "2024-06-30T16:37:42.986185Z",
     "start_time": "2024-06-30T16:37:42.975913Z"
    }
   },
   "cell_type": "code",
   "source": "TIM1.CCR2",
   "id": "5984dad964f9506",
   "outputs": [
    {
     "data": {
      "text/plain": [
       "<IPython.core.display.HTML object>"
      ],
      "text/html": [
       "<style type=\"text/css\">\n",
       "    table.register th {\n",
       "        font-weight: normal;\n",
       "        text-align: center !important;\n",
       "        padding: 2px;\n",
       "    }\n",
       "    table.register td {\n",
       "        text-align: center !important;\n",
       "        border: 1px solid;\n",
       "        word-wrap: break-word;\n",
       "        padding: 2px;\n",
       "    }\n",
       "    .jp-RenderedHTMLCommon tbody tr:nth-child(even) {\n",
       "        background: var(--jp-layout-color0);\n",
       "    }\n",
       "    .jp-RenderedHTMLCommon tbody tr:hover {\n",
       "        background: rgba(0, 0, 0, 0);\n",
       "    }\n",
       "</style>\n",
       "<table class=\"register\" style=\"width:800px\">\n",
       "    <tr>\n",
       "        <th>31</th>\n",
       "        <th>30</th>\n",
       "        <th>29</th>\n",
       "        <th>28</th>\n",
       "        <th>27</th>\n",
       "        <th>26</th>\n",
       "        <th>25</th>\n",
       "        <th>24</th>\n",
       "        <th>23</th>\n",
       "        <th>22</th>\n",
       "        <th>21</th>\n",
       "        <th>20</th>\n",
       "        <th>19</th>\n",
       "        <th>18</th>\n",
       "        <th>17</th>\n",
       "        <th>16</th>\n",
       "    </tr>\n",
       "    <tr>\n",
       "        <td>0</td>\n",
       "        <td>0</td>\n",
       "        <td>0</td>\n",
       "        <td>0</td>\n",
       "        <td>0</td>\n",
       "        <td>0</td>\n",
       "        <td>0</td>\n",
       "        <td>0</td>\n",
       "        <td>0</td>\n",
       "        <td>0</td>\n",
       "        <td>0</td>\n",
       "        <td>0</td>\n",
       "        <td>0</td>\n",
       "        <td>0</td>\n",
       "        <td>0</td>\n",
       "        <td>0</td>\n",
       "    <tr>\n",
       "        <th>15</th>\n",
       "        <th>14</th>\n",
       "        <th>13</th>\n",
       "        <th>12</th>\n",
       "        <th>11</th>\n",
       "        <th>10</th>\n",
       "        <th>9</th>\n",
       "        <th>8</th>\n",
       "        <th>7</th>\n",
       "        <th>6</th>\n",
       "        <th>5</th>\n",
       "        <th>4</th>\n",
       "        <th>3</th>\n",
       "        <th>2</th>\n",
       "        <th>1</th>\n",
       "        <th>0</th>\n",
       "    </tr>\n",
       "    <tr>\n",
       "        <td colspan=\"16\">CCR2[15:0]</td>\n",
       "    </tr>\n",
       "    <tr>\n",
       "        <td>0</td>\n",
       "        <td>0</td>\n",
       "        <td>0</td>\n",
       "        <td>0</td>\n",
       "        <td>0</td>\n",
       "        <td>0</td>\n",
       "        <td>0</td>\n",
       "        <td>0</td>\n",
       "        <td>0</td>\n",
       "        <td>0</td>\n",
       "        <td>0</td>\n",
       "        <td>0</td>\n",
       "        <td>1</td>\n",
       "        <td>0</td>\n",
       "        <td>1</td>\n",
       "        <td>0</td>\n",
       "    </tr>\n"
      ]
     },
     "metadata": {},
     "output_type": "display_data"
    },
    {
     "data": {
      "text/plain": [
       "DEC: 10, HEX: 0x0000000A"
      ]
     },
     "execution_count": 87,
     "metadata": {},
     "output_type": "execute_result"
    }
   ],
   "execution_count": 87
  },
  {
   "metadata": {
    "ExecuteTime": {
     "end_time": "2024-06-30T16:37:43.056219Z",
     "start_time": "2024-06-30T16:37:43.050155Z"
    }
   },
   "cell_type": "code",
   "source": "TIM1.CCR2 = 50",
   "id": "d9e5514b900e236b",
   "outputs": [],
   "execution_count": 88
  },
  {
   "metadata": {
    "ExecuteTime": {
     "end_time": "2024-06-30T16:37:43.087205Z",
     "start_time": "2024-06-30T16:37:43.082246Z"
    }
   },
   "cell_type": "code",
   "source": "TIM1.CR1 = 1",
   "id": "218442896ce29049",
   "outputs": [],
   "execution_count": 89
  },
  {
   "metadata": {
    "ExecuteTime": {
     "end_time": "2024-06-30T16:37:43.114332Z",
     "start_time": "2024-06-30T16:37:43.109943Z"
    }
   },
   "cell_type": "code",
   "source": "TIM1.CCR2 = 50",
   "id": "a90d4fd1c6036340",
   "outputs": [],
   "execution_count": 90
  },
  {
   "metadata": {
    "ExecuteTime": {
     "end_time": "2024-06-30T16:37:43.155670Z",
     "start_time": "2024-06-30T16:37:43.150344Z"
    }
   },
   "cell_type": "code",
   "source": "TIM1.CCR1 = 0",
   "id": "2a17ba7c9ae2fe46",
   "outputs": [],
   "execution_count": 91
  },
  {
   "metadata": {
    "ExecuteTime": {
     "end_time": "2024-06-30T16:37:43.192247Z",
     "start_time": "2024-06-30T16:37:43.187640Z"
    }
   },
   "cell_type": "code",
   "source": "TIM1.CCR2 = 50",
   "id": "6c0677a7c44b2c84",
   "outputs": [],
   "execution_count": 92
  },
  {
   "metadata": {
    "ExecuteTime": {
     "end_time": "2024-06-30T16:37:43.256916Z",
     "start_time": "2024-06-30T16:37:43.245698Z"
    }
   },
   "cell_type": "code",
   "source": "TIM1.CCR2",
   "id": "395519f123f945c",
   "outputs": [
    {
     "data": {
      "text/plain": [
       "<IPython.core.display.HTML object>"
      ],
      "text/html": [
       "<style type=\"text/css\">\n",
       "    table.register th {\n",
       "        font-weight: normal;\n",
       "        text-align: center !important;\n",
       "        padding: 2px;\n",
       "    }\n",
       "    table.register td {\n",
       "        text-align: center !important;\n",
       "        border: 1px solid;\n",
       "        word-wrap: break-word;\n",
       "        padding: 2px;\n",
       "    }\n",
       "    .jp-RenderedHTMLCommon tbody tr:nth-child(even) {\n",
       "        background: var(--jp-layout-color0);\n",
       "    }\n",
       "    .jp-RenderedHTMLCommon tbody tr:hover {\n",
       "        background: rgba(0, 0, 0, 0);\n",
       "    }\n",
       "</style>\n",
       "<table class=\"register\" style=\"width:800px\">\n",
       "    <tr>\n",
       "        <th>31</th>\n",
       "        <th>30</th>\n",
       "        <th>29</th>\n",
       "        <th>28</th>\n",
       "        <th>27</th>\n",
       "        <th>26</th>\n",
       "        <th>25</th>\n",
       "        <th>24</th>\n",
       "        <th>23</th>\n",
       "        <th>22</th>\n",
       "        <th>21</th>\n",
       "        <th>20</th>\n",
       "        <th>19</th>\n",
       "        <th>18</th>\n",
       "        <th>17</th>\n",
       "        <th>16</th>\n",
       "    </tr>\n",
       "    <tr>\n",
       "        <td>0</td>\n",
       "        <td>0</td>\n",
       "        <td>0</td>\n",
       "        <td>0</td>\n",
       "        <td>0</td>\n",
       "        <td>0</td>\n",
       "        <td>0</td>\n",
       "        <td>0</td>\n",
       "        <td>0</td>\n",
       "        <td>0</td>\n",
       "        <td>0</td>\n",
       "        <td>0</td>\n",
       "        <td>0</td>\n",
       "        <td>0</td>\n",
       "        <td>0</td>\n",
       "        <td>0</td>\n",
       "    <tr>\n",
       "        <th>15</th>\n",
       "        <th>14</th>\n",
       "        <th>13</th>\n",
       "        <th>12</th>\n",
       "        <th>11</th>\n",
       "        <th>10</th>\n",
       "        <th>9</th>\n",
       "        <th>8</th>\n",
       "        <th>7</th>\n",
       "        <th>6</th>\n",
       "        <th>5</th>\n",
       "        <th>4</th>\n",
       "        <th>3</th>\n",
       "        <th>2</th>\n",
       "        <th>1</th>\n",
       "        <th>0</th>\n",
       "    </tr>\n",
       "    <tr>\n",
       "        <td colspan=\"16\">CCR2[15:0]</td>\n",
       "    </tr>\n",
       "    <tr>\n",
       "        <td>0</td>\n",
       "        <td>0</td>\n",
       "        <td>0</td>\n",
       "        <td>0</td>\n",
       "        <td>0</td>\n",
       "        <td>0</td>\n",
       "        <td>0</td>\n",
       "        <td>0</td>\n",
       "        <td>0</td>\n",
       "        <td>0</td>\n",
       "        <td>1</td>\n",
       "        <td>1</td>\n",
       "        <td>0</td>\n",
       "        <td>0</td>\n",
       "        <td>1</td>\n",
       "        <td>0</td>\n",
       "    </tr>\n"
      ]
     },
     "metadata": {},
     "output_type": "display_data"
    },
    {
     "data": {
      "text/plain": [
       "DEC: 50, HEX: 0x00000032"
      ]
     },
     "execution_count": 93,
     "metadata": {},
     "output_type": "execute_result"
    }
   ],
   "execution_count": 93
  },
  {
   "metadata": {
    "ExecuteTime": {
     "end_time": "2024-06-30T16:37:43.273067Z",
     "start_time": "2024-06-30T16:37:43.268397Z"
    }
   },
   "cell_type": "code",
   "source": "TIM1.CCR3 = 100",
   "id": "e146e894cde1a244",
   "outputs": [],
   "execution_count": 94
  },
  {
   "metadata": {
    "ExecuteTime": {
     "end_time": "2024-06-30T16:37:43.301459Z",
     "start_time": "2024-06-30T16:37:43.293616Z"
    }
   },
   "cell_type": "code",
   "source": "RCC_AHB2ENR",
   "id": "fa3a793d926a98ec",
   "outputs": [
    {
     "data": {
      "text/plain": [
       "g474.RCC_AHB2ENR"
      ]
     },
     "execution_count": 95,
     "metadata": {},
     "output_type": "execute_result"
    }
   ],
   "execution_count": 95
  },
  {
   "metadata": {
    "ExecuteTime": {
     "end_time": "2024-06-30T16:37:43.446090Z",
     "start_time": "2024-06-30T16:37:43.365750Z"
    }
   },
   "cell_type": "code",
   "source": "RCC.RCC_AHB2ENR",
   "id": "94274dd56dd2b22c",
   "outputs": [
    {
     "ename": "AttributeError",
     "evalue": "'RCC_TypeDef' object has no attribute 'RCC_AHB2ENR'",
     "output_type": "error",
     "traceback": [
      "\u001B[1;31m---------------------------------------------------------------------------\u001B[0m",
      "\u001B[1;31mAttributeError\u001B[0m                            Traceback (most recent call last)",
      "Cell \u001B[1;32mIn[96], line 1\u001B[0m\n\u001B[1;32m----> 1\u001B[0m RCC\u001B[38;5;241m.\u001B[39mRCC_AHB2ENR\n",
      "\u001B[1;31mAttributeError\u001B[0m: 'RCC_TypeDef' object has no attribute 'RCC_AHB2ENR'"
     ]
    }
   ],
   "execution_count": 96
  },
  {
   "metadata": {
    "ExecuteTime": {
     "end_time": "2024-06-30T17:18:38.362345Z",
     "start_time": "2024-06-30T17:18:38.284651Z"
    }
   },
   "cell_type": "code",
   "source": "RCC.AHB2ENR = 4",
   "id": "8a5c6582c7b416e8",
   "outputs": [
    {
     "ename": "SerialException",
     "evalue": "WriteFile failed (PermissionError(13, '设备不识别此命令。', None, 22))",
     "output_type": "error",
     "traceback": [
      "\u001B[1;31m---------------------------------------------------------------------------\u001B[0m",
      "\u001B[1;31mSerialException\u001B[0m                           Traceback (most recent call last)",
      "Cell \u001B[1;32mIn[120], line 1\u001B[0m\n\u001B[1;32m----> 1\u001B[0m RCC\u001B[38;5;241m.\u001B[39mAHB2ENR \u001B[38;5;241m=\u001B[39m \u001B[38;5;241m4\u001B[39m\n",
      "File \u001B[1;32mD:\\my_write_stm32cube\\SerialRegister-main\\SerialRegister-main\\Jupyter\\register.py:168\u001B[0m, in \u001B[0;36mInstanceSetter.__setattr__\u001B[1;34m(self, attr, value)\u001B[0m\n\u001B[0;32m    166\u001B[0m \u001B[38;5;28;01mtry\u001B[39;00m:\n\u001B[0;32m    167\u001B[0m     at \u001B[38;5;241m=\u001B[39m \u001B[38;5;28msuper\u001B[39m()\u001B[38;5;241m.\u001B[39m\u001B[38;5;21m__getattribute__\u001B[39m(attr)\n\u001B[1;32m--> 168\u001B[0m     at\u001B[38;5;241m.\u001B[39m\u001B[38;5;21m__set__\u001B[39m(\u001B[38;5;28mself\u001B[39m, value)\n\u001B[0;32m    169\u001B[0m \u001B[38;5;28;01mexcept\u001B[39;00m \u001B[38;5;167;01mAttributeError\u001B[39;00m:\n\u001B[0;32m    170\u001B[0m     \u001B[38;5;28msuper\u001B[39m()\u001B[38;5;241m.\u001B[39m\u001B[38;5;21m__setattr__\u001B[39m(attr, value)\n",
      "File \u001B[1;32mD:\\my_write_stm32cube\\SerialRegister-main\\SerialRegister-main\\Jupyter\\register.py:327\u001B[0m, in \u001B[0;36mRegisterBase.__set__\u001B[1;34m(self, instance, value)\u001B[0m\n\u001B[0;32m    326\u001B[0m \u001B[38;5;28;01mdef\u001B[39;00m \u001B[38;5;21m__set__\u001B[39m(\u001B[38;5;28mself\u001B[39m, instance, value):\n\u001B[1;32m--> 327\u001B[0m     \u001B[38;5;28mself\u001B[39m\u001B[38;5;241m.\u001B[39mwrite(value)\n\u001B[0;32m    328\u001B[0m     \u001B[38;5;28;01mreturn\u001B[39;00m value\n",
      "File \u001B[1;32mD:\\my_write_stm32cube\\SerialRegister-main\\SerialRegister-main\\Jupyter\\register.py:338\u001B[0m, in \u001B[0;36mRegisterBase.write\u001B[1;34m(self, value, mask, direct)\u001B[0m\n\u001B[0;32m    337\u001B[0m \u001B[38;5;28;01mdef\u001B[39;00m \u001B[38;5;21mwrite\u001B[39m(\u001B[38;5;28mself\u001B[39m, value, mask\u001B[38;5;241m=\u001B[39mMASK_32B, direct\u001B[38;5;241m=\u001B[39m\u001B[38;5;28;01mFalse\u001B[39;00m):\n\u001B[1;32m--> 338\u001B[0m     write_register(\u001B[38;5;28mself\u001B[39m\u001B[38;5;241m.\u001B[39maddress, value, mask)\n",
      "File \u001B[1;32mD:\\my_write_stm32cube\\SerialRegister-main\\SerialRegister-main\\Jupyter\\register.py:162\u001B[0m, in \u001B[0;36mwrite_register\u001B[1;34m(addr, value, mask, direct)\u001B[0m\n\u001B[0;32m    160\u001B[0m bs \u001B[38;5;241m+\u001B[39m\u001B[38;5;241m=\u001B[39m to_4bytes(value)\n\u001B[0;32m    161\u001B[0m bs \u001B[38;5;241m+\u001B[39m\u001B[38;5;241m=\u001B[39m to_4bytes(mask)\n\u001B[1;32m--> 162\u001B[0m serial_transmit(bs)\n",
      "File \u001B[1;32mD:\\my_write_stm32cube\\SerialRegister-main\\SerialRegister-main\\Jupyter\\register.py:63\u001B[0m, in \u001B[0;36mserial_transmit\u001B[1;34m(bs)\u001B[0m\n\u001B[0;32m     60\u001B[0m crc \u001B[38;5;241m=\u001B[39m crc_calc\u001B[38;5;241m.\u001B[39mchecksum(bs)\n\u001B[0;32m     61\u001B[0m data \u001B[38;5;241m+\u001B[39m\u001B[38;5;241m=\u001B[39m [crc \u001B[38;5;241m%\u001B[39m \u001B[38;5;241m256\u001B[39m, crc \u001B[38;5;241m/\u001B[39m\u001B[38;5;241m/\u001B[39m \u001B[38;5;241m256\u001B[39m]\n\u001B[1;32m---> 63\u001B[0m ser\u001B[38;5;241m.\u001B[39mwrite(data)\n",
      "File \u001B[1;32m~\\AppData\\Roaming\\Python\\Python311\\site-packages\\serial\\serialwin32.py:317\u001B[0m, in \u001B[0;36mSerial.write\u001B[1;34m(self, data)\u001B[0m\n\u001B[0;32m    315\u001B[0m \u001B[38;5;28;01mif\u001B[39;00m \u001B[38;5;28mself\u001B[39m\u001B[38;5;241m.\u001B[39m_write_timeout \u001B[38;5;241m!=\u001B[39m \u001B[38;5;241m0\u001B[39m:  \u001B[38;5;66;03m# if blocking (None) or w/ write timeout (>0)\u001B[39;00m\n\u001B[0;32m    316\u001B[0m     \u001B[38;5;28;01mif\u001B[39;00m \u001B[38;5;129;01mnot\u001B[39;00m success \u001B[38;5;129;01mand\u001B[39;00m win32\u001B[38;5;241m.\u001B[39mGetLastError() \u001B[38;5;129;01mnot\u001B[39;00m \u001B[38;5;129;01min\u001B[39;00m (win32\u001B[38;5;241m.\u001B[39mERROR_SUCCESS, win32\u001B[38;5;241m.\u001B[39mERROR_IO_PENDING):\n\u001B[1;32m--> 317\u001B[0m         \u001B[38;5;28;01mraise\u001B[39;00m SerialException(\u001B[38;5;124m\"\u001B[39m\u001B[38;5;124mWriteFile failed (\u001B[39m\u001B[38;5;132;01m{!r}\u001B[39;00m\u001B[38;5;124m)\u001B[39m\u001B[38;5;124m\"\u001B[39m\u001B[38;5;241m.\u001B[39mformat(ctypes\u001B[38;5;241m.\u001B[39mWinError()))\n\u001B[0;32m    319\u001B[0m     \u001B[38;5;66;03m# Wait for the write to complete.\u001B[39;00m\n\u001B[0;32m    320\u001B[0m     \u001B[38;5;66;03m#~ win32.WaitForSingleObject(self._overlapped_write.hEvent, win32.INFINITE)\u001B[39;00m\n\u001B[0;32m    321\u001B[0m     win32\u001B[38;5;241m.\u001B[39mGetOverlappedResult(\u001B[38;5;28mself\u001B[39m\u001B[38;5;241m.\u001B[39m_port_handle, \u001B[38;5;28mself\u001B[39m\u001B[38;5;241m.\u001B[39m_overlapped_write, ctypes\u001B[38;5;241m.\u001B[39mbyref(n), \u001B[38;5;28;01mTrue\u001B[39;00m)\n",
      "\u001B[1;31mSerialException\u001B[0m: WriteFile failed (PermissionError(13, '设备不识别此命令。', None, 22))"
     ]
    }
   ],
   "execution_count": 120
  },
  {
   "metadata": {
    "ExecuteTime": {
     "end_time": "2024-06-30T16:37:43.468819Z",
     "start_time": "2024-06-30T16:37:43.458291Z"
    }
   },
   "cell_type": "code",
   "source": "RCC.AHB2ENR",
   "id": "35f5887c0f17d38d",
   "outputs": [
    {
     "data": {
      "text/plain": [
       "<IPython.core.display.HTML object>"
      ],
      "text/html": [
       "<style type=\"text/css\">\n",
       "    table.register th {\n",
       "        font-weight: normal;\n",
       "        text-align: center !important;\n",
       "        padding: 2px;\n",
       "    }\n",
       "    table.register td {\n",
       "        text-align: center !important;\n",
       "        border: 1px solid;\n",
       "        word-wrap: break-word;\n",
       "        padding: 2px;\n",
       "    }\n",
       "    .jp-RenderedHTMLCommon tbody tr:nth-child(even) {\n",
       "        background: var(--jp-layout-color0);\n",
       "    }\n",
       "    .jp-RenderedHTMLCommon tbody tr:hover {\n",
       "        background: rgba(0, 0, 0, 0);\n",
       "    }\n",
       "</style>\n",
       "<table class=\"register\" style=\"width:800px\">\n",
       "    <tr>\n",
       "        <th>31</th>\n",
       "        <th>30</th>\n",
       "        <th>29</th>\n",
       "        <th>28</th>\n",
       "        <th>27</th>\n",
       "        <th>26</th>\n",
       "        <th>25</th>\n",
       "        <th>24</th>\n",
       "        <th>23</th>\n",
       "        <th>22</th>\n",
       "        <th>21</th>\n",
       "        <th>20</th>\n",
       "        <th>19</th>\n",
       "        <th>18</th>\n",
       "        <th>17</th>\n",
       "        <th>16</th>\n",
       "    </tr>\n",
       "    <tr>\n",
       "        <td></td>\n",
       "        <td></td>\n",
       "        <td></td>\n",
       "        <td></td>\n",
       "        <td></td>\n",
       "        <td>RNGEN</td>\n",
       "        <td></td>\n",
       "        <td></td>\n",
       "        <td></td>\n",
       "        <td></td>\n",
       "        <td></td>\n",
       "        <td></td>\n",
       "        <td>DAC4EN</td>\n",
       "        <td>DAC3EN</td>\n",
       "        <td>DAC2EN</td>\n",
       "        <td>DAC1EN</td>\n",
       "    </tr>\n",
       "    <tr>\n",
       "        <td>0</td>\n",
       "        <td>0</td>\n",
       "        <td>0</td>\n",
       "        <td>0</td>\n",
       "        <td>0</td>\n",
       "        <td>0</td>\n",
       "        <td>0</td>\n",
       "        <td>0</td>\n",
       "        <td>0</td>\n",
       "        <td>0</td>\n",
       "        <td>0</td>\n",
       "        <td>0</td>\n",
       "        <td>0</td>\n",
       "        <td>0</td>\n",
       "        <td>0</td>\n",
       "        <td>0</td>\n",
       "    <tr>\n",
       "        <th>15</th>\n",
       "        <th>14</th>\n",
       "        <th>13</th>\n",
       "        <th>12</th>\n",
       "        <th>11</th>\n",
       "        <th>10</th>\n",
       "        <th>9</th>\n",
       "        <th>8</th>\n",
       "        <th>7</th>\n",
       "        <th>6</th>\n",
       "        <th>5</th>\n",
       "        <th>4</th>\n",
       "        <th>3</th>\n",
       "        <th>2</th>\n",
       "        <th>1</th>\n",
       "        <th>0</th>\n",
       "    </tr>\n",
       "    <tr>\n",
       "        <td></td>\n",
       "        <td>ADC345EN</td>\n",
       "        <td>ADC12EN</td>\n",
       "        <td></td>\n",
       "        <td></td>\n",
       "        <td></td>\n",
       "        <td></td>\n",
       "        <td></td>\n",
       "        <td></td>\n",
       "        <td>GPIOGEN</td>\n",
       "        <td>GPIOFEN</td>\n",
       "        <td>GPIOEEN</td>\n",
       "        <td>GPIODEN</td>\n",
       "        <td>GPIOCEN</td>\n",
       "        <td>GPIOBEN</td>\n",
       "        <td>GPIOAEN</td>\n",
       "    </tr>\n",
       "    <tr>\n",
       "        <td>0</td>\n",
       "        <td>0</td>\n",
       "        <td>0</td>\n",
       "        <td>0</td>\n",
       "        <td>0</td>\n",
       "        <td>0</td>\n",
       "        <td>0</td>\n",
       "        <td>0</td>\n",
       "        <td>0</td>\n",
       "        <td>0</td>\n",
       "        <td>0</td>\n",
       "        <td>0</td>\n",
       "        <td>0</td>\n",
       "        <td>1</td>\n",
       "        <td>0</td>\n",
       "        <td>0</td>\n",
       "    </tr>\n"
      ]
     },
     "metadata": {},
     "output_type": "display_data"
    },
    {
     "data": {
      "text/plain": [
       "DEC: 4, HEX: 0x00000004"
      ]
     },
     "execution_count": 97,
     "metadata": {},
     "output_type": "execute_result"
    }
   ],
   "execution_count": 97
  },
  {
   "metadata": {
    "ExecuteTime": {
     "end_time": "2024-06-30T16:37:43.524778Z",
     "start_time": "2024-06-30T16:37:43.519796Z"
    }
   },
   "cell_type": "code",
   "source": "RCC.APB2ENR = 0x00000800",
   "id": "25ef23b2f7363ce2",
   "outputs": [],
   "execution_count": 98
  },
  {
   "metadata": {
    "ExecuteTime": {
     "end_time": "2024-06-30T16:37:43.721176Z",
     "start_time": "2024-06-30T16:37:43.710578Z"
    }
   },
   "cell_type": "code",
   "source": "RCC.APB2ENR",
   "id": "3345b20d4149ab83",
   "outputs": [
    {
     "data": {
      "text/plain": [
       "<IPython.core.display.HTML object>"
      ],
      "text/html": [
       "<style type=\"text/css\">\n",
       "    table.register th {\n",
       "        font-weight: normal;\n",
       "        text-align: center !important;\n",
       "        padding: 2px;\n",
       "    }\n",
       "    table.register td {\n",
       "        text-align: center !important;\n",
       "        border: 1px solid;\n",
       "        word-wrap: break-word;\n",
       "        padding: 2px;\n",
       "    }\n",
       "    .jp-RenderedHTMLCommon tbody tr:nth-child(even) {\n",
       "        background: var(--jp-layout-color0);\n",
       "    }\n",
       "    .jp-RenderedHTMLCommon tbody tr:hover {\n",
       "        background: rgba(0, 0, 0, 0);\n",
       "    }\n",
       "</style>\n",
       "<table class=\"register\" style=\"width:800px\">\n",
       "    <tr>\n",
       "        <th>31</th>\n",
       "        <th>30</th>\n",
       "        <th>29</th>\n",
       "        <th>28</th>\n",
       "        <th>27</th>\n",
       "        <th>26</th>\n",
       "        <th>25</th>\n",
       "        <th>24</th>\n",
       "        <th>23</th>\n",
       "        <th>22</th>\n",
       "        <th>21</th>\n",
       "        <th>20</th>\n",
       "        <th>19</th>\n",
       "        <th>18</th>\n",
       "        <th>17</th>\n",
       "        <th>16</th>\n",
       "    </tr>\n",
       "    <tr>\n",
       "        <td></td>\n",
       "        <td></td>\n",
       "        <td></td>\n",
       "        <td></td>\n",
       "        <td></td>\n",
       "        <td>HRTIM1EN</td>\n",
       "        <td></td>\n",
       "        <td></td>\n",
       "        <td></td>\n",
       "        <td></td>\n",
       "        <td>SAI1EN</td>\n",
       "        <td>TIM20EN</td>\n",
       "        <td></td>\n",
       "        <td>TIM17EN</td>\n",
       "        <td>TIM16EN</td>\n",
       "        <td>TIM15EN</td>\n",
       "    </tr>\n",
       "    <tr>\n",
       "        <td>0</td>\n",
       "        <td>0</td>\n",
       "        <td>0</td>\n",
       "        <td>0</td>\n",
       "        <td>0</td>\n",
       "        <td>0</td>\n",
       "        <td>0</td>\n",
       "        <td>0</td>\n",
       "        <td>0</td>\n",
       "        <td>0</td>\n",
       "        <td>0</td>\n",
       "        <td>0</td>\n",
       "        <td>0</td>\n",
       "        <td>0</td>\n",
       "        <td>0</td>\n",
       "        <td>0</td>\n",
       "    <tr>\n",
       "        <th>15</th>\n",
       "        <th>14</th>\n",
       "        <th>13</th>\n",
       "        <th>12</th>\n",
       "        <th>11</th>\n",
       "        <th>10</th>\n",
       "        <th>9</th>\n",
       "        <th>8</th>\n",
       "        <th>7</th>\n",
       "        <th>6</th>\n",
       "        <th>5</th>\n",
       "        <th>4</th>\n",
       "        <th>3</th>\n",
       "        <th>2</th>\n",
       "        <th>1</th>\n",
       "        <th>0</th>\n",
       "    </tr>\n",
       "    <tr>\n",
       "        <td>SPI4EN</td>\n",
       "        <td>USART1EN</td>\n",
       "        <td>TIM8EN</td>\n",
       "        <td>SPI1EN</td>\n",
       "        <td>TIM1EN</td>\n",
       "        <td></td>\n",
       "        <td></td>\n",
       "        <td></td>\n",
       "        <td></td>\n",
       "        <td></td>\n",
       "        <td></td>\n",
       "        <td></td>\n",
       "        <td></td>\n",
       "        <td></td>\n",
       "        <td></td>\n",
       "        <td>SYSCFGEN</td>\n",
       "    </tr>\n",
       "    <tr>\n",
       "        <td>0</td>\n",
       "        <td>0</td>\n",
       "        <td>0</td>\n",
       "        <td>0</td>\n",
       "        <td>1</td>\n",
       "        <td>0</td>\n",
       "        <td>0</td>\n",
       "        <td>0</td>\n",
       "        <td>0</td>\n",
       "        <td>0</td>\n",
       "        <td>0</td>\n",
       "        <td>0</td>\n",
       "        <td>0</td>\n",
       "        <td>0</td>\n",
       "        <td>0</td>\n",
       "        <td>0</td>\n",
       "    </tr>\n"
      ]
     },
     "metadata": {},
     "output_type": "display_data"
    },
    {
     "data": {
      "text/plain": [
       "DEC: 2048, HEX: 0x00000800"
      ]
     },
     "execution_count": 99,
     "metadata": {},
     "output_type": "execute_result"
    }
   ],
   "execution_count": 99
  },
  {
   "metadata": {
    "ExecuteTime": {
     "end_time": "2024-06-30T16:37:43.752209Z",
     "start_time": "2024-06-30T16:37:43.743919Z"
    }
   },
   "cell_type": "code",
   "source": "GPIOC.MODER",
   "id": "d3600c15779ecac6",
   "outputs": [
    {
     "data": {
      "text/plain": [
       "<IPython.core.display.HTML object>"
      ],
      "text/html": [
       "<style type=\"text/css\">\n",
       "    table.register th {\n",
       "        font-weight: normal;\n",
       "        text-align: center !important;\n",
       "        padding: 2px;\n",
       "    }\n",
       "    table.register td {\n",
       "        text-align: center !important;\n",
       "        border: 1px solid;\n",
       "        word-wrap: break-word;\n",
       "        padding: 2px;\n",
       "    }\n",
       "    .jp-RenderedHTMLCommon tbody tr:nth-child(even) {\n",
       "        background: var(--jp-layout-color0);\n",
       "    }\n",
       "    .jp-RenderedHTMLCommon tbody tr:hover {\n",
       "        background: rgba(0, 0, 0, 0);\n",
       "    }\n",
       "</style>\n",
       "<table class=\"register\" style=\"width:800px\">\n",
       "    <tr>\n",
       "        <th>31</th>\n",
       "        <th>30</th>\n",
       "        <th>29</th>\n",
       "        <th>28</th>\n",
       "        <th>27</th>\n",
       "        <th>26</th>\n",
       "        <th>25</th>\n",
       "        <th>24</th>\n",
       "        <th>23</th>\n",
       "        <th>22</th>\n",
       "        <th>21</th>\n",
       "        <th>20</th>\n",
       "        <th>19</th>\n",
       "        <th>18</th>\n",
       "        <th>17</th>\n",
       "        <th>16</th>\n",
       "    </tr>\n",
       "    <tr>\n",
       "        <td colspan=\"2\">MODE15[1:0]</td>\n",
       "        <td colspan=\"2\">MODE14[1:0]</td>\n",
       "        <td colspan=\"2\">MODE13[1:0]</td>\n",
       "        <td colspan=\"2\">MODE12[1:0]</td>\n",
       "        <td colspan=\"2\">MODE11[1:0]</td>\n",
       "        <td colspan=\"2\">MODE10[1:0]</td>\n",
       "        <td colspan=\"2\">MODE9[1:0]</td>\n",
       "        <td colspan=\"2\">MODE8[1:0]</td>\n",
       "    </tr>\n",
       "    <tr>\n",
       "        <td>1</td>\n",
       "        <td>1</td>\n",
       "        <td>1</td>\n",
       "        <td>1</td>\n",
       "        <td>1</td>\n",
       "        <td>1</td>\n",
       "        <td>1</td>\n",
       "        <td>1</td>\n",
       "        <td>1</td>\n",
       "        <td>1</td>\n",
       "        <td>1</td>\n",
       "        <td>1</td>\n",
       "        <td>1</td>\n",
       "        <td>1</td>\n",
       "        <td>1</td>\n",
       "        <td>1</td>\n",
       "    <tr>\n",
       "        <th>15</th>\n",
       "        <th>14</th>\n",
       "        <th>13</th>\n",
       "        <th>12</th>\n",
       "        <th>11</th>\n",
       "        <th>10</th>\n",
       "        <th>9</th>\n",
       "        <th>8</th>\n",
       "        <th>7</th>\n",
       "        <th>6</th>\n",
       "        <th>5</th>\n",
       "        <th>4</th>\n",
       "        <th>3</th>\n",
       "        <th>2</th>\n",
       "        <th>1</th>\n",
       "        <th>0</th>\n",
       "    </tr>\n",
       "    <tr>\n",
       "        <td colspan=\"2\">MODE7[1:0]</td>\n",
       "        <td colspan=\"2\">MODE6[1:0]</td>\n",
       "        <td colspan=\"2\">MODE5[1:0]</td>\n",
       "        <td colspan=\"2\">MODE4[1:0]</td>\n",
       "        <td colspan=\"2\">MODE3[1:0]</td>\n",
       "        <td colspan=\"2\">MODE2[1:0]</td>\n",
       "        <td colspan=\"2\">MODE1[1:0]</td>\n",
       "        <td colspan=\"2\">MODE0[1:0]</td>\n",
       "    </tr>\n",
       "    <tr>\n",
       "        <td>1</td>\n",
       "        <td>1</td>\n",
       "        <td>1</td>\n",
       "        <td>1</td>\n",
       "        <td>1</td>\n",
       "        <td>1</td>\n",
       "        <td>1</td>\n",
       "        <td>1</td>\n",
       "        <td>1</td>\n",
       "        <td>1</td>\n",
       "        <td>1</td>\n",
       "        <td>0</td>\n",
       "        <td>1</td>\n",
       "        <td>0</td>\n",
       "        <td>1</td>\n",
       "        <td>0</td>\n",
       "    </tr>\n"
      ]
     },
     "metadata": {},
     "output_type": "display_data"
    },
    {
     "data": {
      "text/plain": [
       "DEC: 4294967274, HEX: 0xFFFFFFEA"
      ]
     },
     "execution_count": 100,
     "metadata": {},
     "output_type": "execute_result"
    }
   ],
   "execution_count": 100
  },
  {
   "metadata": {
    "ExecuteTime": {
     "end_time": "2024-06-30T16:37:43.841178Z",
     "start_time": "2024-06-30T16:37:43.835238Z"
    }
   },
   "cell_type": "code",
   "source": "GPIOC.MODER = 0xFFFFFF2A",
   "id": "dd45bc3ce75fe0f6",
   "outputs": [],
   "execution_count": 101
  },
  {
   "metadata": {
    "ExecuteTime": {
     "end_time": "2024-06-30T16:37:43.874131Z",
     "start_time": "2024-06-30T16:37:43.863960Z"
    }
   },
   "cell_type": "code",
   "source": "GPIOC.MODER",
   "id": "e9f49132a287eeb0",
   "outputs": [
    {
     "data": {
      "text/plain": [
       "<IPython.core.display.HTML object>"
      ],
      "text/html": [
       "<style type=\"text/css\">\n",
       "    table.register th {\n",
       "        font-weight: normal;\n",
       "        text-align: center !important;\n",
       "        padding: 2px;\n",
       "    }\n",
       "    table.register td {\n",
       "        text-align: center !important;\n",
       "        border: 1px solid;\n",
       "        word-wrap: break-word;\n",
       "        padding: 2px;\n",
       "    }\n",
       "    .jp-RenderedHTMLCommon tbody tr:nth-child(even) {\n",
       "        background: var(--jp-layout-color0);\n",
       "    }\n",
       "    .jp-RenderedHTMLCommon tbody tr:hover {\n",
       "        background: rgba(0, 0, 0, 0);\n",
       "    }\n",
       "</style>\n",
       "<table class=\"register\" style=\"width:800px\">\n",
       "    <tr>\n",
       "        <th>31</th>\n",
       "        <th>30</th>\n",
       "        <th>29</th>\n",
       "        <th>28</th>\n",
       "        <th>27</th>\n",
       "        <th>26</th>\n",
       "        <th>25</th>\n",
       "        <th>24</th>\n",
       "        <th>23</th>\n",
       "        <th>22</th>\n",
       "        <th>21</th>\n",
       "        <th>20</th>\n",
       "        <th>19</th>\n",
       "        <th>18</th>\n",
       "        <th>17</th>\n",
       "        <th>16</th>\n",
       "    </tr>\n",
       "    <tr>\n",
       "        <td colspan=\"2\">MODE15[1:0]</td>\n",
       "        <td colspan=\"2\">MODE14[1:0]</td>\n",
       "        <td colspan=\"2\">MODE13[1:0]</td>\n",
       "        <td colspan=\"2\">MODE12[1:0]</td>\n",
       "        <td colspan=\"2\">MODE11[1:0]</td>\n",
       "        <td colspan=\"2\">MODE10[1:0]</td>\n",
       "        <td colspan=\"2\">MODE9[1:0]</td>\n",
       "        <td colspan=\"2\">MODE8[1:0]</td>\n",
       "    </tr>\n",
       "    <tr>\n",
       "        <td>1</td>\n",
       "        <td>1</td>\n",
       "        <td>1</td>\n",
       "        <td>1</td>\n",
       "        <td>1</td>\n",
       "        <td>1</td>\n",
       "        <td>1</td>\n",
       "        <td>1</td>\n",
       "        <td>1</td>\n",
       "        <td>1</td>\n",
       "        <td>1</td>\n",
       "        <td>1</td>\n",
       "        <td>1</td>\n",
       "        <td>1</td>\n",
       "        <td>1</td>\n",
       "        <td>1</td>\n",
       "    <tr>\n",
       "        <th>15</th>\n",
       "        <th>14</th>\n",
       "        <th>13</th>\n",
       "        <th>12</th>\n",
       "        <th>11</th>\n",
       "        <th>10</th>\n",
       "        <th>9</th>\n",
       "        <th>8</th>\n",
       "        <th>7</th>\n",
       "        <th>6</th>\n",
       "        <th>5</th>\n",
       "        <th>4</th>\n",
       "        <th>3</th>\n",
       "        <th>2</th>\n",
       "        <th>1</th>\n",
       "        <th>0</th>\n",
       "    </tr>\n",
       "    <tr>\n",
       "        <td colspan=\"2\">MODE7[1:0]</td>\n",
       "        <td colspan=\"2\">MODE6[1:0]</td>\n",
       "        <td colspan=\"2\">MODE5[1:0]</td>\n",
       "        <td colspan=\"2\">MODE4[1:0]</td>\n",
       "        <td colspan=\"2\">MODE3[1:0]</td>\n",
       "        <td colspan=\"2\">MODE2[1:0]</td>\n",
       "        <td colspan=\"2\">MODE1[1:0]</td>\n",
       "        <td colspan=\"2\">MODE0[1:0]</td>\n",
       "    </tr>\n",
       "    <tr>\n",
       "        <td>1</td>\n",
       "        <td>1</td>\n",
       "        <td>1</td>\n",
       "        <td>1</td>\n",
       "        <td>1</td>\n",
       "        <td>1</td>\n",
       "        <td>1</td>\n",
       "        <td>1</td>\n",
       "        <td>0</td>\n",
       "        <td>0</td>\n",
       "        <td>1</td>\n",
       "        <td>0</td>\n",
       "        <td>1</td>\n",
       "        <td>0</td>\n",
       "        <td>1</td>\n",
       "        <td>0</td>\n",
       "    </tr>\n"
      ]
     },
     "metadata": {},
     "output_type": "display_data"
    },
    {
     "data": {
      "text/plain": [
       "DEC: 4294967082, HEX: 0xFFFFFF2A"
      ]
     },
     "execution_count": 102,
     "metadata": {},
     "output_type": "execute_result"
    }
   ],
   "execution_count": 102
  },
  {
   "metadata": {
    "ExecuteTime": {
     "end_time": "2024-06-30T16:37:43.976671Z",
     "start_time": "2024-06-30T16:37:43.963732Z"
    }
   },
   "cell_type": "code",
   "source": "GPIOC.MODER",
   "id": "aa85c0df5936cc19",
   "outputs": [
    {
     "data": {
      "text/plain": [
       "<IPython.core.display.HTML object>"
      ],
      "text/html": [
       "<style type=\"text/css\">\n",
       "    table.register th {\n",
       "        font-weight: normal;\n",
       "        text-align: center !important;\n",
       "        padding: 2px;\n",
       "    }\n",
       "    table.register td {\n",
       "        text-align: center !important;\n",
       "        border: 1px solid;\n",
       "        word-wrap: break-word;\n",
       "        padding: 2px;\n",
       "    }\n",
       "    .jp-RenderedHTMLCommon tbody tr:nth-child(even) {\n",
       "        background: var(--jp-layout-color0);\n",
       "    }\n",
       "    .jp-RenderedHTMLCommon tbody tr:hover {\n",
       "        background: rgba(0, 0, 0, 0);\n",
       "    }\n",
       "</style>\n",
       "<table class=\"register\" style=\"width:800px\">\n",
       "    <tr>\n",
       "        <th>31</th>\n",
       "        <th>30</th>\n",
       "        <th>29</th>\n",
       "        <th>28</th>\n",
       "        <th>27</th>\n",
       "        <th>26</th>\n",
       "        <th>25</th>\n",
       "        <th>24</th>\n",
       "        <th>23</th>\n",
       "        <th>22</th>\n",
       "        <th>21</th>\n",
       "        <th>20</th>\n",
       "        <th>19</th>\n",
       "        <th>18</th>\n",
       "        <th>17</th>\n",
       "        <th>16</th>\n",
       "    </tr>\n",
       "    <tr>\n",
       "        <td colspan=\"2\">MODE15[1:0]</td>\n",
       "        <td colspan=\"2\">MODE14[1:0]</td>\n",
       "        <td colspan=\"2\">MODE13[1:0]</td>\n",
       "        <td colspan=\"2\">MODE12[1:0]</td>\n",
       "        <td colspan=\"2\">MODE11[1:0]</td>\n",
       "        <td colspan=\"2\">MODE10[1:0]</td>\n",
       "        <td colspan=\"2\">MODE9[1:0]</td>\n",
       "        <td colspan=\"2\">MODE8[1:0]</td>\n",
       "    </tr>\n",
       "    <tr>\n",
       "        <td>1</td>\n",
       "        <td>1</td>\n",
       "        <td>1</td>\n",
       "        <td>1</td>\n",
       "        <td>1</td>\n",
       "        <td>1</td>\n",
       "        <td>1</td>\n",
       "        <td>1</td>\n",
       "        <td>1</td>\n",
       "        <td>1</td>\n",
       "        <td>1</td>\n",
       "        <td>1</td>\n",
       "        <td>1</td>\n",
       "        <td>1</td>\n",
       "        <td>1</td>\n",
       "        <td>1</td>\n",
       "    <tr>\n",
       "        <th>15</th>\n",
       "        <th>14</th>\n",
       "        <th>13</th>\n",
       "        <th>12</th>\n",
       "        <th>11</th>\n",
       "        <th>10</th>\n",
       "        <th>9</th>\n",
       "        <th>8</th>\n",
       "        <th>7</th>\n",
       "        <th>6</th>\n",
       "        <th>5</th>\n",
       "        <th>4</th>\n",
       "        <th>3</th>\n",
       "        <th>2</th>\n",
       "        <th>1</th>\n",
       "        <th>0</th>\n",
       "    </tr>\n",
       "    <tr>\n",
       "        <td colspan=\"2\">MODE7[1:0]</td>\n",
       "        <td colspan=\"2\">MODE6[1:0]</td>\n",
       "        <td colspan=\"2\">MODE5[1:0]</td>\n",
       "        <td colspan=\"2\">MODE4[1:0]</td>\n",
       "        <td colspan=\"2\">MODE3[1:0]</td>\n",
       "        <td colspan=\"2\">MODE2[1:0]</td>\n",
       "        <td colspan=\"2\">MODE1[1:0]</td>\n",
       "        <td colspan=\"2\">MODE0[1:0]</td>\n",
       "    </tr>\n",
       "    <tr>\n",
       "        <td>1</td>\n",
       "        <td>1</td>\n",
       "        <td>1</td>\n",
       "        <td>1</td>\n",
       "        <td>1</td>\n",
       "        <td>1</td>\n",
       "        <td>1</td>\n",
       "        <td>1</td>\n",
       "        <td>0</td>\n",
       "        <td>0</td>\n",
       "        <td>1</td>\n",
       "        <td>0</td>\n",
       "        <td>1</td>\n",
       "        <td>0</td>\n",
       "        <td>1</td>\n",
       "        <td>0</td>\n",
       "    </tr>\n"
      ]
     },
     "metadata": {},
     "output_type": "display_data"
    },
    {
     "data": {
      "text/plain": [
       "DEC: 4294967082, HEX: 0xFFFFFF2A"
      ]
     },
     "execution_count": 103,
     "metadata": {},
     "output_type": "execute_result"
    }
   ],
   "execution_count": 103
  },
  {
   "metadata": {
    "ExecuteTime": {
     "end_time": "2024-06-30T16:37:44.038347Z",
     "start_time": "2024-06-30T16:37:44.032332Z"
    }
   },
   "cell_type": "code",
   "source": "GPIOC.AFRL = 0X00000222",
   "id": "a8f760e2edf8a49d",
   "outputs": [],
   "execution_count": 104
  },
  {
   "metadata": {
    "ExecuteTime": {
     "end_time": "2024-06-30T16:37:44.163613Z",
     "start_time": "2024-06-30T16:37:44.153384Z"
    }
   },
   "cell_type": "code",
   "source": "GPIOC.AFRL",
   "id": "e16dfd03d3d26f1",
   "outputs": [
    {
     "data": {
      "text/plain": [
       "<IPython.core.display.HTML object>"
      ],
      "text/html": [
       "<style type=\"text/css\">\n",
       "    table.register th {\n",
       "        font-weight: normal;\n",
       "        text-align: center !important;\n",
       "        padding: 2px;\n",
       "    }\n",
       "    table.register td {\n",
       "        text-align: center !important;\n",
       "        border: 1px solid;\n",
       "        word-wrap: break-word;\n",
       "        padding: 2px;\n",
       "    }\n",
       "    .jp-RenderedHTMLCommon tbody tr:nth-child(even) {\n",
       "        background: var(--jp-layout-color0);\n",
       "    }\n",
       "    .jp-RenderedHTMLCommon tbody tr:hover {\n",
       "        background: rgba(0, 0, 0, 0);\n",
       "    }\n",
       "</style>\n",
       "<table class=\"register\" style=\"width:800px\">\n",
       "    <tr>\n",
       "        <th>31</th>\n",
       "        <th>30</th>\n",
       "        <th>29</th>\n",
       "        <th>28</th>\n",
       "        <th>27</th>\n",
       "        <th>26</th>\n",
       "        <th>25</th>\n",
       "        <th>24</th>\n",
       "        <th>23</th>\n",
       "        <th>22</th>\n",
       "        <th>21</th>\n",
       "        <th>20</th>\n",
       "        <th>19</th>\n",
       "        <th>18</th>\n",
       "        <th>17</th>\n",
       "        <th>16</th>\n",
       "    </tr>\n",
       "    <tr>\n",
       "        <td colspan=\"4\">AFSEL7[3:0]</td>\n",
       "        <td colspan=\"4\">AFSEL6[3:0]</td>\n",
       "        <td colspan=\"4\">AFSEL5[3:0]</td>\n",
       "        <td colspan=\"4\">AFSEL4[3:0]</td>\n",
       "    </tr>\n",
       "    <tr>\n",
       "        <td>0</td>\n",
       "        <td>0</td>\n",
       "        <td>0</td>\n",
       "        <td>0</td>\n",
       "        <td>0</td>\n",
       "        <td>0</td>\n",
       "        <td>0</td>\n",
       "        <td>0</td>\n",
       "        <td>0</td>\n",
       "        <td>0</td>\n",
       "        <td>0</td>\n",
       "        <td>0</td>\n",
       "        <td>0</td>\n",
       "        <td>0</td>\n",
       "        <td>0</td>\n",
       "        <td>0</td>\n",
       "    <tr>\n",
       "        <th>15</th>\n",
       "        <th>14</th>\n",
       "        <th>13</th>\n",
       "        <th>12</th>\n",
       "        <th>11</th>\n",
       "        <th>10</th>\n",
       "        <th>9</th>\n",
       "        <th>8</th>\n",
       "        <th>7</th>\n",
       "        <th>6</th>\n",
       "        <th>5</th>\n",
       "        <th>4</th>\n",
       "        <th>3</th>\n",
       "        <th>2</th>\n",
       "        <th>1</th>\n",
       "        <th>0</th>\n",
       "    </tr>\n",
       "    <tr>\n",
       "        <td colspan=\"4\">AFSEL3[3:0]</td>\n",
       "        <td colspan=\"4\">AFSEL2[3:0]</td>\n",
       "        <td colspan=\"4\">AFSEL1[3:0]</td>\n",
       "        <td colspan=\"4\">AFSEL0[3:0]</td>\n",
       "    </tr>\n",
       "    <tr>\n",
       "        <td>0</td>\n",
       "        <td>0</td>\n",
       "        <td>0</td>\n",
       "        <td>0</td>\n",
       "        <td>0</td>\n",
       "        <td>0</td>\n",
       "        <td>1</td>\n",
       "        <td>0</td>\n",
       "        <td>0</td>\n",
       "        <td>0</td>\n",
       "        <td>1</td>\n",
       "        <td>0</td>\n",
       "        <td>0</td>\n",
       "        <td>0</td>\n",
       "        <td>1</td>\n",
       "        <td>0</td>\n",
       "    </tr>\n"
      ]
     },
     "metadata": {},
     "output_type": "display_data"
    },
    {
     "data": {
      "text/plain": [
       "DEC: 546, HEX: 0x00000222"
      ]
     },
     "execution_count": 105,
     "metadata": {},
     "output_type": "execute_result"
    }
   ],
   "execution_count": 105
  },
  {
   "metadata": {
    "ExecuteTime": {
     "end_time": "2024-06-30T16:37:44.249990Z",
     "start_time": "2024-06-30T16:37:44.241972Z"
    }
   },
   "cell_type": "code",
   "source": "TIM1.PSC = 0",
   "id": "ae62eaeb7d415154",
   "outputs": [],
   "execution_count": 106
  },
  {
   "metadata": {
    "ExecuteTime": {
     "end_time": "2024-06-30T16:37:44.399018Z",
     "start_time": "2024-06-30T16:37:44.393337Z"
    }
   },
   "cell_type": "code",
   "source": "TIM1.ARR = 99",
   "id": "d8b4ca6301230c45",
   "outputs": [],
   "execution_count": 107
  },
  {
   "metadata": {
    "ExecuteTime": {
     "end_time": "2024-06-30T16:37:44.462661Z",
     "start_time": "2024-06-30T16:37:44.456590Z"
    }
   },
   "cell_type": "code",
   "source": "TIM1.CR1 = 1",
   "id": "24760e99f9dbb645",
   "outputs": [],
   "execution_count": 108
  },
  {
   "metadata": {
    "ExecuteTime": {
     "end_time": "2024-06-30T16:37:44.569774Z",
     "start_time": "2024-06-30T16:37:44.564487Z"
    }
   },
   "cell_type": "code",
   "source": "TIM1.CCR1 = 50",
   "id": "8ce8a6ce5440420c",
   "outputs": [],
   "execution_count": 109
  },
  {
   "metadata": {
    "ExecuteTime": {
     "end_time": "2024-06-30T16:37:44.594262Z",
     "start_time": "2024-06-30T16:37:44.589154Z"
    }
   },
   "cell_type": "code",
   "source": "TIM1.CCMR1 = 0x0060",
   "id": "b3c154dfe82181ea",
   "outputs": [],
   "execution_count": 110
  },
  {
   "metadata": {
    "ExecuteTime": {
     "end_time": "2024-06-30T16:37:44.618921Z",
     "start_time": "2024-06-30T16:37:44.613482Z"
    }
   },
   "cell_type": "code",
   "source": "TIM1.CCER = 3",
   "id": "c3047d068a02a61f",
   "outputs": [],
   "execution_count": 111
  },
  {
   "metadata": {
    "ExecuteTime": {
     "end_time": "2024-06-30T16:37:44.685492Z",
     "start_time": "2024-06-30T16:37:44.680820Z"
    }
   },
   "cell_type": "code",
   "source": "TIM1.CCMR1 = 0x0060",
   "id": "51cc6dc87e690dc9",
   "outputs": [],
   "execution_count": 112
  },
  {
   "metadata": {
    "ExecuteTime": {
     "end_time": "2024-06-30T16:37:44.723194Z",
     "start_time": "2024-06-30T16:37:44.718381Z"
    }
   },
   "cell_type": "code",
   "source": "TIM1.CR1 = 1",
   "id": "e44f2a07bfeb0444",
   "outputs": [],
   "execution_count": 113
  },
  {
   "metadata": {
    "ExecuteTime": {
     "end_time": "2024-06-30T16:37:44.765288Z",
     "start_time": "2024-06-30T16:37:44.760118Z"
    }
   },
   "cell_type": "code",
   "source": "TIM1.CCR1 = 50",
   "id": "eb3185423b289c4",
   "outputs": [],
   "execution_count": 114
  },
  {
   "metadata": {
    "ExecuteTime": {
     "end_time": "2024-06-30T16:37:44.804759Z",
     "start_time": "2024-06-30T16:37:44.794165Z"
    }
   },
   "cell_type": "code",
   "source": "GPIOC.MODER",
   "id": "832294f49b447f35",
   "outputs": [
    {
     "data": {
      "text/plain": [
       "<IPython.core.display.HTML object>"
      ],
      "text/html": [
       "<style type=\"text/css\">\n",
       "    table.register th {\n",
       "        font-weight: normal;\n",
       "        text-align: center !important;\n",
       "        padding: 2px;\n",
       "    }\n",
       "    table.register td {\n",
       "        text-align: center !important;\n",
       "        border: 1px solid;\n",
       "        word-wrap: break-word;\n",
       "        padding: 2px;\n",
       "    }\n",
       "    .jp-RenderedHTMLCommon tbody tr:nth-child(even) {\n",
       "        background: var(--jp-layout-color0);\n",
       "    }\n",
       "    .jp-RenderedHTMLCommon tbody tr:hover {\n",
       "        background: rgba(0, 0, 0, 0);\n",
       "    }\n",
       "</style>\n",
       "<table class=\"register\" style=\"width:800px\">\n",
       "    <tr>\n",
       "        <th>31</th>\n",
       "        <th>30</th>\n",
       "        <th>29</th>\n",
       "        <th>28</th>\n",
       "        <th>27</th>\n",
       "        <th>26</th>\n",
       "        <th>25</th>\n",
       "        <th>24</th>\n",
       "        <th>23</th>\n",
       "        <th>22</th>\n",
       "        <th>21</th>\n",
       "        <th>20</th>\n",
       "        <th>19</th>\n",
       "        <th>18</th>\n",
       "        <th>17</th>\n",
       "        <th>16</th>\n",
       "    </tr>\n",
       "    <tr>\n",
       "        <td colspan=\"2\">MODE15[1:0]</td>\n",
       "        <td colspan=\"2\">MODE14[1:0]</td>\n",
       "        <td colspan=\"2\">MODE13[1:0]</td>\n",
       "        <td colspan=\"2\">MODE12[1:0]</td>\n",
       "        <td colspan=\"2\">MODE11[1:0]</td>\n",
       "        <td colspan=\"2\">MODE10[1:0]</td>\n",
       "        <td colspan=\"2\">MODE9[1:0]</td>\n",
       "        <td colspan=\"2\">MODE8[1:0]</td>\n",
       "    </tr>\n",
       "    <tr>\n",
       "        <td>1</td>\n",
       "        <td>1</td>\n",
       "        <td>1</td>\n",
       "        <td>1</td>\n",
       "        <td>1</td>\n",
       "        <td>1</td>\n",
       "        <td>1</td>\n",
       "        <td>1</td>\n",
       "        <td>1</td>\n",
       "        <td>1</td>\n",
       "        <td>1</td>\n",
       "        <td>1</td>\n",
       "        <td>1</td>\n",
       "        <td>1</td>\n",
       "        <td>1</td>\n",
       "        <td>1</td>\n",
       "    <tr>\n",
       "        <th>15</th>\n",
       "        <th>14</th>\n",
       "        <th>13</th>\n",
       "        <th>12</th>\n",
       "        <th>11</th>\n",
       "        <th>10</th>\n",
       "        <th>9</th>\n",
       "        <th>8</th>\n",
       "        <th>7</th>\n",
       "        <th>6</th>\n",
       "        <th>5</th>\n",
       "        <th>4</th>\n",
       "        <th>3</th>\n",
       "        <th>2</th>\n",
       "        <th>1</th>\n",
       "        <th>0</th>\n",
       "    </tr>\n",
       "    <tr>\n",
       "        <td colspan=\"2\">MODE7[1:0]</td>\n",
       "        <td colspan=\"2\">MODE6[1:0]</td>\n",
       "        <td colspan=\"2\">MODE5[1:0]</td>\n",
       "        <td colspan=\"2\">MODE4[1:0]</td>\n",
       "        <td colspan=\"2\">MODE3[1:0]</td>\n",
       "        <td colspan=\"2\">MODE2[1:0]</td>\n",
       "        <td colspan=\"2\">MODE1[1:0]</td>\n",
       "        <td colspan=\"2\">MODE0[1:0]</td>\n",
       "    </tr>\n",
       "    <tr>\n",
       "        <td>1</td>\n",
       "        <td>1</td>\n",
       "        <td>1</td>\n",
       "        <td>1</td>\n",
       "        <td>1</td>\n",
       "        <td>1</td>\n",
       "        <td>1</td>\n",
       "        <td>1</td>\n",
       "        <td>0</td>\n",
       "        <td>0</td>\n",
       "        <td>1</td>\n",
       "        <td>0</td>\n",
       "        <td>1</td>\n",
       "        <td>0</td>\n",
       "        <td>1</td>\n",
       "        <td>0</td>\n",
       "    </tr>\n"
      ]
     },
     "metadata": {},
     "output_type": "display_data"
    },
    {
     "data": {
      "text/plain": [
       "DEC: 4294967082, HEX: 0xFFFFFF2A"
      ]
     },
     "execution_count": 115,
     "metadata": {},
     "output_type": "execute_result"
    }
   ],
   "execution_count": 115
  },
  {
   "metadata": {
    "ExecuteTime": {
     "end_time": "2024-06-30T16:37:44.850295Z",
     "start_time": "2024-06-30T16:37:44.844247Z"
    }
   },
   "cell_type": "code",
   "source": "GPIOC.MODER = 0xFFFFFFEA",
   "id": "76abe577c956af37",
   "outputs": [],
   "execution_count": 116
  },
  {
   "metadata": {
    "ExecuteTime": {
     "end_time": "2024-06-30T16:37:44.916320Z",
     "start_time": "2024-06-30T16:37:44.905946Z"
    }
   },
   "cell_type": "code",
   "source": "GPIOC.MODER",
   "id": "47e983fb2875cee2",
   "outputs": [
    {
     "data": {
      "text/plain": [
       "<IPython.core.display.HTML object>"
      ],
      "text/html": [
       "<style type=\"text/css\">\n",
       "    table.register th {\n",
       "        font-weight: normal;\n",
       "        text-align: center !important;\n",
       "        padding: 2px;\n",
       "    }\n",
       "    table.register td {\n",
       "        text-align: center !important;\n",
       "        border: 1px solid;\n",
       "        word-wrap: break-word;\n",
       "        padding: 2px;\n",
       "    }\n",
       "    .jp-RenderedHTMLCommon tbody tr:nth-child(even) {\n",
       "        background: var(--jp-layout-color0);\n",
       "    }\n",
       "    .jp-RenderedHTMLCommon tbody tr:hover {\n",
       "        background: rgba(0, 0, 0, 0);\n",
       "    }\n",
       "</style>\n",
       "<table class=\"register\" style=\"width:800px\">\n",
       "    <tr>\n",
       "        <th>31</th>\n",
       "        <th>30</th>\n",
       "        <th>29</th>\n",
       "        <th>28</th>\n",
       "        <th>27</th>\n",
       "        <th>26</th>\n",
       "        <th>25</th>\n",
       "        <th>24</th>\n",
       "        <th>23</th>\n",
       "        <th>22</th>\n",
       "        <th>21</th>\n",
       "        <th>20</th>\n",
       "        <th>19</th>\n",
       "        <th>18</th>\n",
       "        <th>17</th>\n",
       "        <th>16</th>\n",
       "    </tr>\n",
       "    <tr>\n",
       "        <td colspan=\"2\">MODE15[1:0]</td>\n",
       "        <td colspan=\"2\">MODE14[1:0]</td>\n",
       "        <td colspan=\"2\">MODE13[1:0]</td>\n",
       "        <td colspan=\"2\">MODE12[1:0]</td>\n",
       "        <td colspan=\"2\">MODE11[1:0]</td>\n",
       "        <td colspan=\"2\">MODE10[1:0]</td>\n",
       "        <td colspan=\"2\">MODE9[1:0]</td>\n",
       "        <td colspan=\"2\">MODE8[1:0]</td>\n",
       "    </tr>\n",
       "    <tr>\n",
       "        <td>1</td>\n",
       "        <td>1</td>\n",
       "        <td>1</td>\n",
       "        <td>1</td>\n",
       "        <td>1</td>\n",
       "        <td>1</td>\n",
       "        <td>1</td>\n",
       "        <td>1</td>\n",
       "        <td>1</td>\n",
       "        <td>1</td>\n",
       "        <td>1</td>\n",
       "        <td>1</td>\n",
       "        <td>1</td>\n",
       "        <td>1</td>\n",
       "        <td>1</td>\n",
       "        <td>1</td>\n",
       "    <tr>\n",
       "        <th>15</th>\n",
       "        <th>14</th>\n",
       "        <th>13</th>\n",
       "        <th>12</th>\n",
       "        <th>11</th>\n",
       "        <th>10</th>\n",
       "        <th>9</th>\n",
       "        <th>8</th>\n",
       "        <th>7</th>\n",
       "        <th>6</th>\n",
       "        <th>5</th>\n",
       "        <th>4</th>\n",
       "        <th>3</th>\n",
       "        <th>2</th>\n",
       "        <th>1</th>\n",
       "        <th>0</th>\n",
       "    </tr>\n",
       "    <tr>\n",
       "        <td colspan=\"2\">MODE7[1:0]</td>\n",
       "        <td colspan=\"2\">MODE6[1:0]</td>\n",
       "        <td colspan=\"2\">MODE5[1:0]</td>\n",
       "        <td colspan=\"2\">MODE4[1:0]</td>\n",
       "        <td colspan=\"2\">MODE3[1:0]</td>\n",
       "        <td colspan=\"2\">MODE2[1:0]</td>\n",
       "        <td colspan=\"2\">MODE1[1:0]</td>\n",
       "        <td colspan=\"2\">MODE0[1:0]</td>\n",
       "    </tr>\n",
       "    <tr>\n",
       "        <td>1</td>\n",
       "        <td>1</td>\n",
       "        <td>1</td>\n",
       "        <td>1</td>\n",
       "        <td>1</td>\n",
       "        <td>1</td>\n",
       "        <td>1</td>\n",
       "        <td>1</td>\n",
       "        <td>1</td>\n",
       "        <td>1</td>\n",
       "        <td>1</td>\n",
       "        <td>0</td>\n",
       "        <td>1</td>\n",
       "        <td>0</td>\n",
       "        <td>1</td>\n",
       "        <td>0</td>\n",
       "    </tr>\n"
      ]
     },
     "metadata": {},
     "output_type": "display_data"
    },
    {
     "data": {
      "text/plain": [
       "DEC: 4294967274, HEX: 0xFFFFFFEA"
      ]
     },
     "execution_count": 117,
     "metadata": {},
     "output_type": "execute_result"
    }
   ],
   "execution_count": 117
  },
  {
   "metadata": {
    "ExecuteTime": {
     "end_time": "2024-06-30T16:37:44.967055Z",
     "start_time": "2024-06-30T16:37:44.959147Z"
    }
   },
   "cell_type": "code",
   "source": "",
   "id": "71f121f68507d322",
   "outputs": [],
   "execution_count": 117
  }
 ],
 "metadata": {
  "kernelspec": {
   "display_name": "Python 3 (ipykernel)",
   "language": "python",
   "name": "python3"
  },
  "language_info": {
   "codemirror_mode": {
    "name": "ipython",
    "version": 3
   },
   "file_extension": ".py",
   "mimetype": "text/x-python",
   "name": "python",
   "nbconvert_exporter": "python",
   "pygments_lexer": "ipython3",
   "version": "3.9.13"
  }
 },
 "nbformat": 4,
 "nbformat_minor": 5
}
